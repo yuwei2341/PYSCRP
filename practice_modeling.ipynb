{
 "cells": [
  {
   "cell_type": "code",
   "execution_count": 132,
   "metadata": {},
   "outputs": [],
   "source": [
    "%reset -f\n",
    "import pandas as pd\n",
    "import numpy as np\n",
    "import matplotlib.pyplot as plt\n",
    "import seaborn as sns\n",
    "from sklearn.ensemble import RandomForestClassifier\n",
    "from sklearn import metrics\n",
    "from IPython.display import Image, display"
   ]
  },
  {
   "cell_type": "markdown",
   "metadata": {},
   "source": [
    "# Practice 2"
   ]
  },
  {
   "cell_type": "code",
   "execution_count": 133,
   "metadata": {},
   "outputs": [
    {
     "name": "stdout",
     "output_type": "stream",
     "text": [
      "<class 'pandas.core.frame.DataFrame'>\n",
      "RangeIndex: 18428 entries, 0 to 18427\n",
      "Data columns (total 46 columns):\n",
      " #   Column                                              Non-Null Count  Dtype  \n",
      "---  ------                                              --------------  -----  \n",
      " 0   dim_is_requested                                    18428 non-null  bool   \n",
      " 1   ds_night                                            18428 non-null  object \n",
      " 2   ds                                                  18428 non-null  object \n",
      " 3   id_listing_anon                                     18428 non-null  object \n",
      " 4   id_user_anon                                        18428 non-null  object \n",
      " 5   m_effective_daily_price                             18428 non-null  float64\n",
      " 6   m_pricing_cleaning_fee                              18428 non-null  float64\n",
      " 7   dim_market                                          18428 non-null  object \n",
      " 8   dim_lat                                             18428 non-null  float64\n",
      " 9   dim_lng                                             18428 non-null  float64\n",
      " 10  dim_room_type                                       18428 non-null  object \n",
      " 11  dim_person_capacity                                 18428 non-null  int64  \n",
      " 12  dim_is_instant_bookable                             18428 non-null  bool   \n",
      " 13  m_checkouts                                         18413 non-null  float64\n",
      " 14  m_reviews                                           18413 non-null  float64\n",
      " 15  days_since_last_booking                             14693 non-null  float64\n",
      " 16  cancel_policy                                       18428 non-null  int64  \n",
      " 17  image_quality_score                                 17056 non-null  float64\n",
      " 18  m_total_overall_rating                              18413 non-null  float64\n",
      " 19  m_professional_pictures                             18413 non-null  float64\n",
      " 20  dim_has_wireless_internet                           18428 non-null  int64  \n",
      " 21  ds_night_day_of_week                                18428 non-null  int64  \n",
      " 22  ds_night_day_of_year                                18428 non-null  int64  \n",
      " 23  ds_checkin_gap                                      18229 non-null  float64\n",
      " 24  ds_checkout_gap                                     18229 non-null  float64\n",
      " 25  occ_occupancy_plus_minus_7_ds_night                 16371 non-null  float64\n",
      " 26  occ_occupancy_plus_minus_14_ds_night                16380 non-null  float64\n",
      " 27  occ_occupancy_trailing_90_ds                        17428 non-null  float64\n",
      " 28  m_minimum_nights                                    18229 non-null  float64\n",
      " 29  m_maximum_nights                                    18229 non-null  float64\n",
      " 30  price_booked_most_recent                            14693 non-null  float64\n",
      " 31  p2_p3_click_through_score                           5666 non-null   float64\n",
      " 32  p3_inquiry_score                                    5464 non-null   float64\n",
      " 33  listing_m_listing_views_2_6_ds_night_decay          18201 non-null  float64\n",
      " 34  general_market_m_unique_searchers_0_6_ds_night      18428 non-null  float64\n",
      " 35  general_market_m_contacts_0_6_ds_night              18428 non-null  float64\n",
      " 36  general_market_m_reservation_requests_0_6_ds_night  18428 non-null  float64\n",
      " 37  general_market_m_is_booked_0_6_ds_night             18428 non-null  float64\n",
      " 38  m_available_listings_ds_night                       18428 non-null  int64  \n",
      " 39  kdt_score                                           18428 non-null  float64\n",
      " 40  r_kdt_listing_views_0_6_avg_n100                    18428 non-null  float64\n",
      " 41  r_kdt_n_active_n100                                 18428 non-null  float64\n",
      " 42  r_kdt_n_available_n100                              18428 non-null  float64\n",
      " 43  r_kdt_m_effective_daily_price_n100_p50              18428 non-null  float64\n",
      " 44  r_kdt_m_effective_daily_price_available_n100_p50    18427 non-null  float64\n",
      " 45  r_kdt_m_effective_daily_price_booked_n100_p50       17099 non-null  float64\n",
      "dtypes: bool(2), float64(32), int64(6), object(6)\n",
      "memory usage: 6.2+ MB\n"
     ]
    }
   ],
   "source": [
    "df0 = pd.read_csv('EDA_A_data.csv')\n",
    "df0.info()"
   ]
  },
  {
   "cell_type": "code",
   "execution_count": 134,
   "metadata": {},
   "outputs": [
    {
     "data": {
      "text/html": [
       "<div>\n",
       "<style scoped>\n",
       "    .dataframe tbody tr th:only-of-type {\n",
       "        vertical-align: middle;\n",
       "    }\n",
       "\n",
       "    .dataframe tbody tr th {\n",
       "        vertical-align: top;\n",
       "    }\n",
       "\n",
       "    .dataframe thead th {\n",
       "        text-align: right;\n",
       "    }\n",
       "</style>\n",
       "<table border=\"1\" class=\"dataframe\">\n",
       "  <thead>\n",
       "    <tr style=\"text-align: right;\">\n",
       "      <th></th>\n",
       "      <th>ds_night</th>\n",
       "      <th>id_listing_anon</th>\n",
       "    </tr>\n",
       "    <tr>\n",
       "      <th>dim_market</th>\n",
       "      <th></th>\n",
       "      <th></th>\n",
       "    </tr>\n",
       "  </thead>\n",
       "  <tbody>\n",
       "    <tr>\n",
       "      <th>Los Angeles</th>\n",
       "      <td>364</td>\n",
       "      <td>1754</td>\n",
       "    </tr>\n",
       "    <tr>\n",
       "      <th>Paris</th>\n",
       "      <td>364</td>\n",
       "      <td>4129</td>\n",
       "    </tr>\n",
       "    <tr>\n",
       "      <th>San Francisco</th>\n",
       "      <td>358</td>\n",
       "      <td>737</td>\n",
       "    </tr>\n",
       "  </tbody>\n",
       "</table>\n",
       "</div>"
      ],
      "text/plain": [
       "               ds_night  id_listing_anon\n",
       "dim_market                              \n",
       "Los Angeles         364             1754\n",
       "Paris               364             4129\n",
       "San Francisco       358              737"
      ]
     },
     "execution_count": 134,
     "metadata": {},
     "output_type": "execute_result"
    }
   ],
   "source": [
    "df0.groupby('dim_market')[['ds_night', 'id_listing_anon',]].nunique()"
   ]
  },
  {
   "cell_type": "code",
   "execution_count": 135,
   "metadata": {},
   "outputs": [],
   "source": [
    "# number of listings users have \n",
    "# df0['id_user_anon'].value_counts().value_counts()"
   ]
  },
  {
   "cell_type": "code",
   "execution_count": 136,
   "metadata": {},
   "outputs": [],
   "source": [
    "df0['ds'] = pd.to_datetime(df0['ds'])"
   ]
  },
  {
   "cell_type": "code",
   "execution_count": 230,
   "metadata": {},
   "outputs": [
    {
     "data": {
      "text/plain": [
       "Index(['dim_is_requested', 'ds_night', 'ds', 'id_listing_anon', 'id_user_anon',\n",
       "       'm_effective_daily_price', 'm_pricing_cleaning_fee', 'dim_market',\n",
       "       'dim_lat', 'dim_lng', 'dim_room_type', 'dim_person_capacity',\n",
       "       'dim_is_instant_bookable', 'm_checkouts', 'm_reviews',\n",
       "       'days_since_last_booking', 'cancel_policy', 'image_quality_score',\n",
       "       'm_total_overall_rating', 'm_professional_pictures',\n",
       "       'dim_has_wireless_internet', 'ds_night_day_of_week',\n",
       "       'ds_night_day_of_year', 'ds_checkin_gap', 'ds_checkout_gap',\n",
       "       'occ_occupancy_plus_minus_7_ds_night',\n",
       "       'occ_occupancy_plus_minus_14_ds_night', 'occ_occupancy_trailing_90_ds',\n",
       "       'm_minimum_nights', 'm_maximum_nights', 'price_booked_most_recent',\n",
       "       'p2_p3_click_through_score', 'p3_inquiry_score',\n",
       "       'listing_m_listing_views_2_6_ds_night_decay',\n",
       "       'general_market_m_unique_searchers_0_6_ds_night',\n",
       "       'general_market_m_contacts_0_6_ds_night',\n",
       "       'general_market_m_reservation_requests_0_6_ds_night',\n",
       "       'general_market_m_is_booked_0_6_ds_night',\n",
       "       'm_available_listings_ds_night', 'kdt_score',\n",
       "       'r_kdt_listing_views_0_6_avg_n100', 'r_kdt_n_active_n100',\n",
       "       'r_kdt_n_available_n100', 'r_kdt_m_effective_daily_price_n100_p50',\n",
       "       'r_kdt_m_effective_daily_price_available_n100_p50',\n",
       "       'r_kdt_m_effective_daily_price_booked_n100_p50'],\n",
       "      dtype='object')"
      ]
     },
     "execution_count": 230,
     "metadata": {},
     "output_type": "execute_result"
    }
   ],
   "source": [
    "df0.columns"
   ]
  },
  {
   "cell_type": "code",
   "execution_count": 137,
   "metadata": {},
   "outputs": [],
   "source": [
    "columns = ['dim_is_requested', 'ds_night', 'ds', 'id_listing_anon', \n",
    "       'm_effective_daily_price', 'm_pricing_cleaning_fee', 'dim_market',\n",
    "       'dim_room_type', 'dim_person_capacity',\n",
    "       'dim_is_instant_bookable', 'm_checkouts', 'm_reviews',\n",
    "       'days_since_last_booking', 'cancel_policy', \n",
    "       'm_total_overall_rating', 'dim_has_wireless_internet', 'ds_night_day_of_week',\n",
    "       'kdt_score',\n",
    "#        'image_quality_score', 'm_professional_pictures',\n",
    "#        'ds_checkin_gap', 'ds_checkout_gap',\n",
    "#        'occ_occupancy_plus_minus_7_ds_night',\n",
    "#        'occ_occupancy_plus_minus_14_ds_night', 'occ_occupancy_trailing_90_ds',\n",
    "#        'm_minimum_nights', 'm_maximum_nights', 'price_booked_most_recent',\n",
    "#        'general_market_m_unique_searchers_0_6_ds_night',\n",
    "#        'general_market_m_contacts_0_6_ds_night',\n",
    "#        'general_market_m_reservation_requests_0_6_ds_night',\n",
    "#        'general_market_m_is_booked_0_6_ds_night',\n",
    "#        'r_kdt_listing_views_0_6_avg_n100', 'r_kdt_n_active_n100',\n",
    "#        'r_kdt_n_available_n100', 'r_kdt_m_effective_daily_price_n100_p50',\n",
    "#        'r_kdt_m_effective_daily_price_available_n100_p50',\n",
    "#        'r_kdt_m_effective_daily_price_booked_n100_p50'\n",
    "       ]\n",
    "columns_num = ['m_effective_daily_price', 'm_pricing_cleaning_fee', \n",
    "        'dim_person_capacity',\n",
    "        'm_checkouts', 'm_reviews',\n",
    "       'days_since_last_booking', \n",
    "       'm_total_overall_rating', 'kdt_score',]\n",
    "\n",
    "columns_cat = ['dim_room_type', 'dim_is_instant_bookable', 'cancel_policy', \n",
    "        'dim_has_wireless_internet', 'ds_night_day_of_week',]\n",
    "\n",
    "columns_other = ['dim_is_requested', 'ds_night', 'ds', 'id_listing_anon', 'dim_market',]\n",
    "df1 = df0[columns].copy()"
   ]
  },
  {
   "cell_type": "code",
   "execution_count": 138,
   "metadata": {},
   "outputs": [
    {
     "data": {
      "text/plain": [
       "dim_is_requested                0\n",
       "ds_night                        0\n",
       "ds                              0\n",
       "id_listing_anon                 0\n",
       "m_effective_daily_price         0\n",
       "m_pricing_cleaning_fee          0\n",
       "dim_market                      0\n",
       "dim_room_type                   0\n",
       "dim_person_capacity             0\n",
       "dim_is_instant_bookable         0\n",
       "m_checkouts                    15\n",
       "m_reviews                      15\n",
       "days_since_last_booking      3735\n",
       "cancel_policy                   0\n",
       "m_total_overall_rating         15\n",
       "dim_has_wireless_internet       0\n",
       "ds_night_day_of_week            0\n",
       "kdt_score                       0\n",
       "dtype: int64"
      ]
     },
     "execution_count": 138,
     "metadata": {},
     "output_type": "execute_result"
    }
   ],
   "source": [
    "df1.isnull().sum()"
   ]
  },
  {
   "cell_type": "code",
   "execution_count": 139,
   "metadata": {},
   "outputs": [],
   "source": [
    "df1['days_since_last_booking'] = df1['days_since_last_booking'].fillna(9999)\n",
    "df1 = df1.dropna(axis=0)"
   ]
  },
  {
   "cell_type": "code",
   "execution_count": 140,
   "metadata": {},
   "outputs": [],
   "source": [
    "df1 = pd.concat((df1, pd.get_dummies(df1[columns_cat].astype('category'), drop_first=True).astype(int)), axis=1).drop(columns_cat, axis=1)\n",
    "df1['dim_is_requested'] = df1['dim_is_requested'].astype(int)"
   ]
  },
  {
   "cell_type": "code",
   "execution_count": 141,
   "metadata": {},
   "outputs": [],
   "source": [
    "dim_market = 'Paris'\n",
    "df2 = df1[df1['dim_market'] == dim_market].reset_index(drop=True)"
   ]
  },
  {
   "cell_type": "code",
   "execution_count": 142,
   "metadata": {},
   "outputs": [],
   "source": [
    "import random\n",
    "ttratio = 0.8\n",
    "ind_train = random.sample(df2.index.tolist(), int(ttratio * len(df2)))\n",
    "data_train = df2.loc[ind_train]\n",
    "data_test = df2.drop(ind_train)"
   ]
  },
  {
   "cell_type": "code",
   "execution_count": 143,
   "metadata": {},
   "outputs": [],
   "source": [
    "y_train, X_train, feature_names = data_train['dim_is_requested'].values, data_train.drop(columns_other, axis=1).values, data_train.drop(columns_other, axis=1).columns\n",
    "y_test, X_test, feature_names = data_test['dim_is_requested'].values, data_test.drop(columns_other, axis=1).values, data_test.drop(columns_other, axis=1).columns"
   ]
  },
  {
   "cell_type": "code",
   "execution_count": 145,
   "metadata": {},
   "outputs": [
    {
     "data": {
      "text/html": [
       "<style>#sk-container-id-9 {color: black;}#sk-container-id-9 pre{padding: 0;}#sk-container-id-9 div.sk-toggleable {background-color: white;}#sk-container-id-9 label.sk-toggleable__label {cursor: pointer;display: block;width: 100%;margin-bottom: 0;padding: 0.3em;box-sizing: border-box;text-align: center;}#sk-container-id-9 label.sk-toggleable__label-arrow:before {content: \"▸\";float: left;margin-right: 0.25em;color: #696969;}#sk-container-id-9 label.sk-toggleable__label-arrow:hover:before {color: black;}#sk-container-id-9 div.sk-estimator:hover label.sk-toggleable__label-arrow:before {color: black;}#sk-container-id-9 div.sk-toggleable__content {max-height: 0;max-width: 0;overflow: hidden;text-align: left;background-color: #f0f8ff;}#sk-container-id-9 div.sk-toggleable__content pre {margin: 0.2em;color: black;border-radius: 0.25em;background-color: #f0f8ff;}#sk-container-id-9 input.sk-toggleable__control:checked~div.sk-toggleable__content {max-height: 200px;max-width: 100%;overflow: auto;}#sk-container-id-9 input.sk-toggleable__control:checked~label.sk-toggleable__label-arrow:before {content: \"▾\";}#sk-container-id-9 div.sk-estimator input.sk-toggleable__control:checked~label.sk-toggleable__label {background-color: #d4ebff;}#sk-container-id-9 div.sk-label input.sk-toggleable__control:checked~label.sk-toggleable__label {background-color: #d4ebff;}#sk-container-id-9 input.sk-hidden--visually {border: 0;clip: rect(1px 1px 1px 1px);clip: rect(1px, 1px, 1px, 1px);height: 1px;margin: -1px;overflow: hidden;padding: 0;position: absolute;width: 1px;}#sk-container-id-9 div.sk-estimator {font-family: monospace;background-color: #f0f8ff;border: 1px dotted black;border-radius: 0.25em;box-sizing: border-box;margin-bottom: 0.5em;}#sk-container-id-9 div.sk-estimator:hover {background-color: #d4ebff;}#sk-container-id-9 div.sk-parallel-item::after {content: \"\";width: 100%;border-bottom: 1px solid gray;flex-grow: 1;}#sk-container-id-9 div.sk-label:hover label.sk-toggleable__label {background-color: #d4ebff;}#sk-container-id-9 div.sk-serial::before {content: \"\";position: absolute;border-left: 1px solid gray;box-sizing: border-box;top: 0;bottom: 0;left: 50%;z-index: 0;}#sk-container-id-9 div.sk-serial {display: flex;flex-direction: column;align-items: center;background-color: white;padding-right: 0.2em;padding-left: 0.2em;position: relative;}#sk-container-id-9 div.sk-item {position: relative;z-index: 1;}#sk-container-id-9 div.sk-parallel {display: flex;align-items: stretch;justify-content: center;background-color: white;position: relative;}#sk-container-id-9 div.sk-item::before, #sk-container-id-9 div.sk-parallel-item::before {content: \"\";position: absolute;border-left: 1px solid gray;box-sizing: border-box;top: 0;bottom: 0;left: 50%;z-index: -1;}#sk-container-id-9 div.sk-parallel-item {display: flex;flex-direction: column;z-index: 1;position: relative;background-color: white;}#sk-container-id-9 div.sk-parallel-item:first-child::after {align-self: flex-end;width: 50%;}#sk-container-id-9 div.sk-parallel-item:last-child::after {align-self: flex-start;width: 50%;}#sk-container-id-9 div.sk-parallel-item:only-child::after {width: 0;}#sk-container-id-9 div.sk-dashed-wrapped {border: 1px dashed gray;margin: 0 0.4em 0.5em 0.4em;box-sizing: border-box;padding-bottom: 0.4em;background-color: white;}#sk-container-id-9 div.sk-label label {font-family: monospace;font-weight: bold;display: inline-block;line-height: 1.2em;}#sk-container-id-9 div.sk-label-container {text-align: center;}#sk-container-id-9 div.sk-container {/* jupyter's `normalize.less` sets `[hidden] { display: none; }` but bootstrap.min.css set `[hidden] { display: none !important; }` so we also need the `!important` here to be able to override the default hidden behavior on the sphinx rendered scikit-learn.org. See: https://github.com/scikit-learn/scikit-learn/issues/21755 */display: inline-block !important;position: relative;}#sk-container-id-9 div.sk-text-repr-fallback {display: none;}</style><div id=\"sk-container-id-9\" class=\"sk-top-container\"><div class=\"sk-text-repr-fallback\"><pre>GridSearchCV(cv=StratifiedKFold(n_splits=7, random_state=42, shuffle=True),\n",
       "             estimator=RandomForestClassifier(),\n",
       "             param_grid={&#x27;max_features&#x27;: (5, 10), &#x27;min_samples_leaf&#x27;: (3, 10)})</pre><b>In a Jupyter environment, please rerun this cell to show the HTML representation or trust the notebook. <br />On GitHub, the HTML representation is unable to render, please try loading this page with nbviewer.org.</b></div><div class=\"sk-container\" hidden><div class=\"sk-item sk-dashed-wrapped\"><div class=\"sk-label-container\"><div class=\"sk-label sk-toggleable\"><input class=\"sk-toggleable__control sk-hidden--visually\" id=\"sk-estimator-id-23\" type=\"checkbox\" ><label for=\"sk-estimator-id-23\" class=\"sk-toggleable__label sk-toggleable__label-arrow\">GridSearchCV</label><div class=\"sk-toggleable__content\"><pre>GridSearchCV(cv=StratifiedKFold(n_splits=7, random_state=42, shuffle=True),\n",
       "             estimator=RandomForestClassifier(),\n",
       "             param_grid={&#x27;max_features&#x27;: (5, 10), &#x27;min_samples_leaf&#x27;: (3, 10)})</pre></div></div></div><div class=\"sk-parallel\"><div class=\"sk-parallel-item\"><div class=\"sk-item\"><div class=\"sk-label-container\"><div class=\"sk-label sk-toggleable\"><input class=\"sk-toggleable__control sk-hidden--visually\" id=\"sk-estimator-id-24\" type=\"checkbox\" ><label for=\"sk-estimator-id-24\" class=\"sk-toggleable__label sk-toggleable__label-arrow\">estimator: RandomForestClassifier</label><div class=\"sk-toggleable__content\"><pre>RandomForestClassifier()</pre></div></div></div><div class=\"sk-serial\"><div class=\"sk-item\"><div class=\"sk-estimator sk-toggleable\"><input class=\"sk-toggleable__control sk-hidden--visually\" id=\"sk-estimator-id-25\" type=\"checkbox\" ><label for=\"sk-estimator-id-25\" class=\"sk-toggleable__label sk-toggleable__label-arrow\">RandomForestClassifier</label><div class=\"sk-toggleable__content\"><pre>RandomForestClassifier()</pre></div></div></div></div></div></div></div></div></div></div>"
      ],
      "text/plain": [
       "GridSearchCV(cv=StratifiedKFold(n_splits=7, random_state=42, shuffle=True),\n",
       "             estimator=RandomForestClassifier(),\n",
       "             param_grid={'max_features': (5, 10), 'min_samples_leaf': (3, 10)})"
      ]
     },
     "execution_count": 145,
     "metadata": {},
     "output_type": "execute_result"
    }
   ],
   "source": [
    "from sklearn.model_selection import StratifiedKFold, GridSearchCV\n",
    "from sklearn.ensemble import AdaBoostClassifier\n",
    "KFold = 7\n",
    "random_state = 42\n",
    "cv = StratifiedKFold(KFold, shuffle=True, random_state=random_state)\n",
    "classfy = RandomForestClassifier(n_estimators=100,)  # AdaBoostClassifier(n_estimators=200, random_state=random_state) \n",
    "params = {\n",
    "    # 'learning_rate': (1, 0.5, 0.1,),\n",
    "    'min_samples_leaf': (3, 10),\n",
    "    'max_features': (5, 10),\n",
    "}\n",
    "clf = GridSearchCV(classfy, param_grid=params, cv=cv)\n",
    "clf.fit(X_train, y_train)"
   ]
  },
  {
   "cell_type": "code",
   "execution_count": 146,
   "metadata": {},
   "outputs": [
    {
     "name": "stdout",
     "output_type": "stream",
     "text": [
      "RandomForestClassifier(max_features=5, min_samples_leaf=3) 0.7747277890135033\n"
     ]
    }
   ],
   "source": [
    "est = clf.best_estimator_\n",
    "print(est, clf.best_score_)\n",
    "pred = est.predict_proba(X_test)[:, 1]\n"
   ]
  },
  {
   "cell_type": "code",
   "execution_count": 147,
   "metadata": {},
   "outputs": [
    {
     "data": {
      "text/plain": [
       "0.7936633568608686"
      ]
     },
     "execution_count": 147,
     "metadata": {},
     "output_type": "execute_result"
    }
   ],
   "source": [
    "from sklearn.metrics import roc_auc_score\n",
    "roc_auc_score(y_test, pred)"
   ]
  },
  {
   "cell_type": "code",
   "execution_count": 154,
   "metadata": {},
   "outputs": [],
   "source": [
    "from torch import nn\n",
    "import torch\n"
   ]
  },
  {
   "cell_type": "code",
   "execution_count": 174,
   "metadata": {},
   "outputs": [],
   "source": [
    "y_train, X_train, feature_names = data_train['dim_is_requested'].values, data_train.drop(columns_other, axis=1).values, data_train.drop(columns_other, axis=1).columns\n",
    "y_test, X_test, feature_names = data_test['dim_is_requested'].values, data_test.drop(columns_other, axis=1).values, data_test.drop(columns_other, axis=1).columns\n",
    "\n",
    "X_train = torch.Tensor(X_train)\n",
    "y_train = torch.Tensor(y_train).unsqueeze(-1)\n",
    "\n",
    "X_test = torch.Tensor(X_test)\n",
    "y_test = torch.Tensor(y_test).unsqueeze(-1)"
   ]
  },
  {
   "cell_type": "code",
   "execution_count": 225,
   "metadata": {},
   "outputs": [
    {
     "name": "stdout",
     "output_type": "stream",
     "text": [
      "0.7064564237579093\n",
      "0.7097094917193951\n",
      "0.7368904815471746\n",
      "0.725536283122044\n",
      "0.7579878615166792\n",
      "0.7273161083326405\n"
     ]
    }
   ],
   "source": [
    "dim_in = X_train.shape[1]\n",
    "model = nn.Sequential(\n",
    "    nn.Linear(dim_in, 32),\n",
    "    nn.ReLU(),\n",
    "    nn.Linear(32, 32, bias=True),\n",
    "    nn.ReLU(),\n",
    "    nn.Linear(32, 32, bias=True),\n",
    "    nn.ReLU(),\n",
    "    nn.Linear(32, 32, bias=True),\n",
    "    nn.ReLU(),\n",
    "    nn.Linear(32, 1, bias=True),\n",
    "    nn.Sigmoid()\n",
    ")\n",
    "criterion = nn.BCELoss()\n",
    "optimizer = torch.optim.Adam(model.parameters(), lr=0.001)\n",
    "def train_model(X_train, y_train, X_test, y_test):\n",
    "    num_epochs = 10\n",
    "    for epoch in range(num_epochs):\n",
    "        outputs = model(X_train)\n",
    "        loss = criterion(outputs, y_train)\n",
    "        optimizer.zero_grad()\n",
    "        loss.backward()\n",
    "        optimizer.step()\n",
    "\n",
    "    with torch.no_grad():\n",
    "        model.eval()\n",
    "        test_outputs = model(X_test)\n",
    "        test_loss = criterion(test_outputs, y_test)\n",
    "        roc_auc = roc_auc_score(y_test, test_outputs)\n",
    "    return roc_auc\n",
    "\n",
    "kf = StratifiedKFold(5, shuffle=True)\n",
    "scores = []\n",
    "for train, test in kf.split(X_train, y_train):\n",
    "    score = train_model(X_train[train], y_train[train], X_train[test], y_train[test])\n",
    "    print(score)\n",
    "    scores.append(score)\n",
    "print(np.mean(scores))"
   ]
  },
  {
   "cell_type": "code",
   "execution_count": 231,
   "metadata": {},
   "outputs": [
    {
     "name": "stdout",
     "output_type": "stream",
     "text": [
      "0.722681660485704\n"
     ]
    }
   ],
   "source": [
    "with torch.no_grad():\n",
    "    model.eval()\n",
    "    test_outputs = model(X_test)\n",
    "    test_loss = criterion(test_outputs, y_test)\n",
    "    roc_auc = roc_auc_score(y_test, test_outputs)\n",
    "    print(roc_auc)"
   ]
  },
  {
   "cell_type": "markdown",
   "metadata": {},
   "source": [
    "# Practice 1"
   ]
  },
  {
   "cell_type": "code",
   "execution_count": 116,
   "metadata": {},
   "outputs": [],
   "source": [
    "df0 = pd.read_csv('EDA_A_data.csv')"
   ]
  },
  {
   "cell_type": "code",
   "execution_count": 117,
   "metadata": {},
   "outputs": [
    {
     "data": {
      "text/html": [
       "<div>\n",
       "<style scoped>\n",
       "    .dataframe tbody tr th:only-of-type {\n",
       "        vertical-align: middle;\n",
       "    }\n",
       "\n",
       "    .dataframe tbody tr th {\n",
       "        vertical-align: top;\n",
       "    }\n",
       "\n",
       "    .dataframe thead th {\n",
       "        text-align: right;\n",
       "    }\n",
       "</style>\n",
       "<table border=\"1\" class=\"dataframe\">\n",
       "  <thead>\n",
       "    <tr style=\"text-align: right;\">\n",
       "      <th></th>\n",
       "      <th>id_listing_anon</th>\n",
       "      <th>ds</th>\n",
       "    </tr>\n",
       "    <tr>\n",
       "      <th>dim_market</th>\n",
       "      <th></th>\n",
       "      <th></th>\n",
       "    </tr>\n",
       "  </thead>\n",
       "  <tbody>\n",
       "    <tr>\n",
       "      <th>Los Angeles</th>\n",
       "      <td>1754</td>\n",
       "      <td>364</td>\n",
       "    </tr>\n",
       "    <tr>\n",
       "      <th>Paris</th>\n",
       "      <td>4129</td>\n",
       "      <td>364</td>\n",
       "    </tr>\n",
       "    <tr>\n",
       "      <th>San Francisco</th>\n",
       "      <td>737</td>\n",
       "      <td>358</td>\n",
       "    </tr>\n",
       "  </tbody>\n",
       "</table>\n",
       "</div>"
      ],
      "text/plain": [
       "               id_listing_anon   ds\n",
       "dim_market                         \n",
       "Los Angeles               1754  364\n",
       "Paris                     4129  364\n",
       "San Francisco              737  358"
      ]
     },
     "metadata": {},
     "output_type": "display_data"
    },
    {
     "data": {
      "text/plain": [
       "dim_market\n",
       "Los Angeles       5282\n",
       "Paris            11346\n",
       "San Francisco     1800\n",
       "Name: id_listing_anon, dtype: int64"
      ]
     },
     "metadata": {},
     "output_type": "display_data"
    }
   ],
   "source": [
    "display(df0.groupby('dim_market')[['id_listing_anon', 'ds']].nunique())\n",
    "display(df0.groupby('dim_market')['id_listing_anon'].count())"
   ]
  },
  {
   "cell_type": "code",
   "execution_count": 118,
   "metadata": {},
   "outputs": [],
   "source": [
    "df0['ds'] = pd.to_datetime(df0['ds'])\n",
    "df0 = df0.drop_duplicates()"
   ]
  },
  {
   "cell_type": "code",
   "execution_count": 119,
   "metadata": {},
   "outputs": [],
   "source": [
    "df0 = df0[~df0.m_checkouts.isnull()]\n",
    "df0.days_since_last_booking = df0.days_since_last_booking.fillna(df0.days_since_last_booking.max())\n",
    "df0 = df0[df0['m_effective_daily_price'] > 0]"
   ]
  },
  {
   "cell_type": "code",
   "execution_count": 120,
   "metadata": {},
   "outputs": [],
   "source": [
    "columns = ['dim_is_requested', 'ds_night', 'ds', 'id_listing_anon', \n",
    "       'm_effective_daily_price', 'm_pricing_cleaning_fee', 'dim_market',\n",
    "       'dim_room_type', 'dim_person_capacity',\n",
    "       'dim_is_instant_bookable', 'm_checkouts', 'm_reviews',\n",
    "       'days_since_last_booking', 'cancel_policy', \n",
    "       'm_total_overall_rating', 'dim_has_wireless_internet', 'ds_night_day_of_week',\n",
    "       'kdt_score',\n",
    "       ]\n",
    "columns_num = ['m_effective_daily_price', 'm_pricing_cleaning_fee', \n",
    "        'dim_person_capacity',\n",
    "        'm_checkouts', 'm_reviews',\n",
    "       'days_since_last_booking', \n",
    "       'm_total_overall_rating', 'kdt_score',]\n",
    "\n",
    "columns_cat = ['dim_room_type', 'dim_is_instant_bookable', 'cancel_policy', \n",
    "        'dim_has_wireless_internet', 'ds_night_day_of_week',]\n",
    "\n",
    "columns_other = ['dim_is_requested', 'ds_night', 'ds', 'id_listing_anon', 'dim_market',]\n",
    "df1 = df0[columns].copy()"
   ]
  },
  {
   "cell_type": "code",
   "execution_count": 121,
   "metadata": {},
   "outputs": [
    {
     "data": {
      "text/html": [
       "<div>\n",
       "<style scoped>\n",
       "    .dataframe tbody tr th:only-of-type {\n",
       "        vertical-align: middle;\n",
       "    }\n",
       "\n",
       "    .dataframe tbody tr th {\n",
       "        vertical-align: top;\n",
       "    }\n",
       "\n",
       "    .dataframe thead th {\n",
       "        text-align: right;\n",
       "    }\n",
       "</style>\n",
       "<table border=\"1\" class=\"dataframe\">\n",
       "  <thead>\n",
       "    <tr style=\"text-align: right;\">\n",
       "      <th></th>\n",
       "      <th>m_effective_daily_price</th>\n",
       "      <th>m_pricing_cleaning_fee</th>\n",
       "      <th>dim_person_capacity</th>\n",
       "      <th>m_checkouts</th>\n",
       "      <th>m_reviews</th>\n",
       "      <th>days_since_last_booking</th>\n",
       "      <th>m_total_overall_rating</th>\n",
       "      <th>kdt_score</th>\n",
       "    </tr>\n",
       "  </thead>\n",
       "  <tbody>\n",
       "    <tr>\n",
       "      <th>count</th>\n",
       "      <td>18405.000000</td>\n",
       "      <td>18405.000000</td>\n",
       "      <td>18405.000000</td>\n",
       "      <td>18405.000000</td>\n",
       "      <td>18405.000000</td>\n",
       "      <td>18405.000000</td>\n",
       "      <td>18405.000000</td>\n",
       "      <td>18405.000000</td>\n",
       "    </tr>\n",
       "    <tr>\n",
       "      <th>mean</th>\n",
       "      <td>148.842695</td>\n",
       "      <td>37.997965</td>\n",
       "      <td>3.263624</td>\n",
       "      <td>18.636892</td>\n",
       "      <td>11.055909</td>\n",
       "      <td>261.810215</td>\n",
       "      <td>48.239935</td>\n",
       "      <td>1.068326</td>\n",
       "    </tr>\n",
       "    <tr>\n",
       "      <th>std</th>\n",
       "      <td>255.908808</td>\n",
       "      <td>50.327432</td>\n",
       "      <td>2.007172</td>\n",
       "      <td>33.044274</td>\n",
       "      <td>20.444450</td>\n",
       "      <td>398.957336</td>\n",
       "      <td>88.699090</td>\n",
       "      <td>0.524552</td>\n",
       "    </tr>\n",
       "    <tr>\n",
       "      <th>min</th>\n",
       "      <td>0.046095</td>\n",
       "      <td>0.000000</td>\n",
       "      <td>1.000000</td>\n",
       "      <td>0.000000</td>\n",
       "      <td>0.000000</td>\n",
       "      <td>0.000000</td>\n",
       "      <td>0.000000</td>\n",
       "      <td>0.000000</td>\n",
       "    </tr>\n",
       "    <tr>\n",
       "      <th>25%</th>\n",
       "      <td>71.563045</td>\n",
       "      <td>0.000000</td>\n",
       "      <td>2.000000</td>\n",
       "      <td>1.000000</td>\n",
       "      <td>0.000000</td>\n",
       "      <td>8.000000</td>\n",
       "      <td>0.000000</td>\n",
       "      <td>0.666667</td>\n",
       "    </tr>\n",
       "    <tr>\n",
       "      <th>50%</th>\n",
       "      <td>100.000000</td>\n",
       "      <td>25.000000</td>\n",
       "      <td>2.000000</td>\n",
       "      <td>6.000000</td>\n",
       "      <td>3.000000</td>\n",
       "      <td>36.000000</td>\n",
       "      <td>14.000000</td>\n",
       "      <td>1.037037</td>\n",
       "    </tr>\n",
       "    <tr>\n",
       "      <th>75%</th>\n",
       "      <td>153.786570</td>\n",
       "      <td>53.616427</td>\n",
       "      <td>4.000000</td>\n",
       "      <td>22.000000</td>\n",
       "      <td>12.000000</td>\n",
       "      <td>287.000000</td>\n",
       "      <td>54.000000</td>\n",
       "      <td>1.400000</td>\n",
       "    </tr>\n",
       "    <tr>\n",
       "      <th>max</th>\n",
       "      <td>10000.000000</td>\n",
       "      <td>450.000000</td>\n",
       "      <td>16.000000</td>\n",
       "      <td>431.000000</td>\n",
       "      <td>270.000000</td>\n",
       "      <td>1023.000000</td>\n",
       "      <td>1265.000000</td>\n",
       "      <td>3.000000</td>\n",
       "    </tr>\n",
       "  </tbody>\n",
       "</table>\n",
       "</div>"
      ],
      "text/plain": [
       "       m_effective_daily_price  m_pricing_cleaning_fee  dim_person_capacity  \\\n",
       "count             18405.000000            18405.000000         18405.000000   \n",
       "mean                148.842695               37.997965             3.263624   \n",
       "std                 255.908808               50.327432             2.007172   \n",
       "min                   0.046095                0.000000             1.000000   \n",
       "25%                  71.563045                0.000000             2.000000   \n",
       "50%                 100.000000               25.000000             2.000000   \n",
       "75%                 153.786570               53.616427             4.000000   \n",
       "max               10000.000000              450.000000            16.000000   \n",
       "\n",
       "        m_checkouts     m_reviews  days_since_last_booking  \\\n",
       "count  18405.000000  18405.000000             18405.000000   \n",
       "mean      18.636892     11.055909               261.810215   \n",
       "std       33.044274     20.444450               398.957336   \n",
       "min        0.000000      0.000000                 0.000000   \n",
       "25%        1.000000      0.000000                 8.000000   \n",
       "50%        6.000000      3.000000                36.000000   \n",
       "75%       22.000000     12.000000               287.000000   \n",
       "max      431.000000    270.000000              1023.000000   \n",
       "\n",
       "       m_total_overall_rating     kdt_score  \n",
       "count            18405.000000  18405.000000  \n",
       "mean                48.239935      1.068326  \n",
       "std                 88.699090      0.524552  \n",
       "min                  0.000000      0.000000  \n",
       "25%                  0.000000      0.666667  \n",
       "50%                 14.000000      1.037037  \n",
       "75%                 54.000000      1.400000  \n",
       "max               1265.000000      3.000000  "
      ]
     },
     "execution_count": 121,
     "metadata": {},
     "output_type": "execute_result"
    }
   ],
   "source": [
    "df1[columns_num].describe()"
   ]
  },
  {
   "cell_type": "code",
   "execution_count": 122,
   "metadata": {},
   "outputs": [
    {
     "name": "stdout",
     "output_type": "stream",
     "text": [
      "m_effective_daily_price: 0.0460952713634, 1, 18404\n",
      "m_pricing_cleaning_fee: 0.0, 6309, 12096\n",
      "dim_person_capacity: 1, 1155, 17250\n",
      "m_checkouts: 0.0, 4512, 13893\n",
      "m_reviews: 0.0, 5586, 12819\n",
      "days_since_last_booking: 0.0, 858, 17547\n",
      "m_total_overall_rating: 0.0, 5640, 12765\n",
      "kdt_score: 0.0, 86, 18319\n"
     ]
    }
   ],
   "source": [
    "# data is skewed, okay with CART models\n",
    "for i in columns_num:\n",
    "    print(f'{i}: {df1[i].min()}, {(df1[i] == df1[i].min()).sum()}, {(df1[i] != df1[i].min()).sum()}')"
   ]
  },
  {
   "cell_type": "code",
   "execution_count": 123,
   "metadata": {
    "scrolled": false
   },
   "outputs": [],
   "source": [
    "# f, ax = plt.subplots(figsize=(10, 10))\n",
    "# df0[columns_num].hist(ax=ax)\n",
    "# for i in columns_num:\n",
    "#     f, ax = plt.subplots(figsize=(3, 3))\n",
    "#     print(i)\n",
    "#     df1[i].apply(lambda x: np.log(x + 0.1)).hist(ax=ax)"
   ]
  },
  {
   "cell_type": "code",
   "execution_count": 124,
   "metadata": {},
   "outputs": [],
   "source": [
    "df1['y'] = df1['dim_is_requested'].astype(int)"
   ]
  },
  {
   "cell_type": "code",
   "execution_count": 125,
   "metadata": {},
   "outputs": [],
   "source": [
    "for i in columns_cat:\n",
    "    df1[i] = df1[i].astype('category')\n",
    "df1_dummy = pd.get_dummies(df1[columns_cat], drop_first=True)\n",
    "\n",
    "df2 = pd.concat([df1[['y', 'dim_market']], df1[columns_num], df1_dummy], axis=1)"
   ]
  },
  {
   "cell_type": "code",
   "execution_count": 126,
   "metadata": {},
   "outputs": [],
   "source": [
    "frac_train = 0.8 \n",
    "data = df2[df2['dim_market'] == 'Paris'].drop('dim_market', axis=1).reset_index(drop=True)\n",
    "\n",
    "import random\n",
    "ind_train = random.sample(data.index.to_list(), (round(len(data) * 0.8)))\n",
    "ind_test = list(set(data.index) - set(ind_train))\n",
    "data_train = data.loc[ind_train, :]\n",
    "data_test = data.loc[ind_test, :]"
   ]
  },
  {
   "cell_type": "code",
   "execution_count": 127,
   "metadata": {},
   "outputs": [],
   "source": [
    "y_train = data_train['y'].values\n",
    "X_train = data_train.drop('y', axis=1).values\n",
    "features = data_train.drop('y', axis=1).columns\n",
    "\n",
    "y_test = data_test['y'].values\n",
    "X_test = data_test.drop('y', axis=1).values"
   ]
  },
  {
   "cell_type": "code",
   "execution_count": 128,
   "metadata": {},
   "outputs": [],
   "source": [
    "model = RandomForestClassifier(random_state=42, n_estimators=200, \n",
    "#                                max_features=9, min_samples_leaf=5, min_samples_split=10\n",
    "                              )\n",
    "# model.fit(X_train, y_train)\n",
    "\n",
    "from sklearn.model_selection import KFold, StratifiedKFold, GridSearchCV\n",
    "\n",
    "kf = StratifiedKFold(n_splits=7, shuffle=True, random_state=42)\n",
    "clt = GridSearchCV(model, {'max_features': range(1, 10, 2)}, cv=kf)\n",
    "clt.fit(X_train, y_train)\n",
    "model = clt.best_estimator_"
   ]
  },
  {
   "cell_type": "code",
   "execution_count": 129,
   "metadata": {},
   "outputs": [],
   "source": [
    "score = model.predict_proba(X_test)[:, 1]"
   ]
  },
  {
   "cell_type": "code",
   "execution_count": 130,
   "metadata": {},
   "outputs": [
    {
     "data": {
      "text/plain": [
       "0.8084515094948151"
      ]
     },
     "execution_count": 130,
     "metadata": {},
     "output_type": "execute_result"
    }
   ],
   "source": [
    "roc_auc = metrics.roc_auc_score(y_test, score)\n",
    "roc_auc"
   ]
  },
  {
   "cell_type": "code",
   "execution_count": 146,
   "metadata": {},
   "outputs": [
    {
     "data": {
      "text/plain": [
       "<matplotlib.axes._subplots.AxesSubplot at 0x2387a69df98>"
      ]
     },
     "execution_count": 146,
     "metadata": {},
     "output_type": "execute_result"
    },
    {
     "data": {
      "image/png": "[encoded data removed]",
      "text/plain": [
       "<Figure size 432x288 with 1 Axes>"
      ]
     },
     "metadata": {
      "needs_background": "light"
     },
     "output_type": "display_data"
    }
   ],
   "source": [
    "feature_importances = pd.Series(model.feature_importances_, index=features).sort_values()\n",
    "feature_importances.plot(kind='barh')"
   ]
  }
 ],
 "metadata": {
  "kernelspec": {
   "display_name": "Python 3",
   "language": "python",
   "name": "python3"
  },
  "language_info": {
   "codemirror_mode": {
    "name": "ipython",
    "version": 3
   },
   "file_extension": ".py",
   "mimetype": "text/x-python",
   "name": "python",
   "nbconvert_exporter": "python",
   "pygments_lexer": "ipython3",
   "version": "3.11.4"
  },
  "toc": {
   "base_numbering": 1,
   "nav_menu": {},
   "number_sections": true,
   "sideBar": true,
   "skip_h1_title": false,
   "title_cell": "Table of Contents",
   "title_sidebar": "Contents",
   "toc_cell": false,
   "toc_position": {},
   "toc_section_display": true,
   "toc_window_display": false
  }
 },
 "nbformat": 4,
 "nbformat_minor": 2
}
