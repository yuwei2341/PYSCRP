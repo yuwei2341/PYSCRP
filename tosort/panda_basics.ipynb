{
 "cells": [
  {
   "cell_type": "code",
   "execution_count": 2,
   "metadata": {
    "collapsed": false
   },
   "outputs": [
    {
     "data": {
      "text/plain": [
       "' pandas is like numpy, Series is 1-dim dictionary, \\nDataFrame is 2-dim - like a database frame'"
      ]
     },
     "execution_count": 2,
     "metadata": {},
     "output_type": "execute_result"
    }
   ],
   "source": [
    "import pandas as pd\n",
    "import numpy as np\n",
    "import matplotlib.pyplot as plt\n",
    "from pandas import Series, DataFrame\n",
    "%matplotlib inline\n",
    "''' pandas is like numpy, Series is 1-dim dictionary, \n",
    "DataFrame is 2-dim - like a database frame'''"
   ]
  },
  {
   "cell_type": "markdown",
   "metadata": {},
   "source": [
    "# Object Creation"
   ]
  },
  {
   "cell_type": "code",
   "execution_count": 2,
   "metadata": {
    "collapsed": true
   },
   "outputs": [
    {
     "name": "stdout",
     "output_type": "stream",
     "text": [
      "Cashews    1\n",
      "Almonds    2\n",
      "Peanuts    3\n",
      "dtype: int64\n"
     ]
    }
   ],
   "source": [
    "values = range(1, 4)\n",
    "labels = ['Cashews', 'Almonds', 'Peanuts']\n",
    "s = Series(values, labels)\n",
    "print s"
   ]
  },
  {
   "cell_type": "code",
   "execution_count": 3,
   "metadata": {
    "collapsed": true
   },
   "outputs": [
    {
     "data": {
      "text/plain": [
       "0     1\n",
       "1     3\n",
       "2     5\n",
       "3   NaN\n",
       "4     6\n",
       "5     8\n",
       "dtype: float64"
      ]
     },
     "execution_count": 3,
     "metadata": {},
     "output_type": "execute_result"
    }
   ],
   "source": [
    "s2 = Series([1, 3, 5, np.nan, 6, 8])\n",
    "s2"
   ]
  },
  {
   "cell_type": "code",
   "execution_count": 4,
   "metadata": {
    "collapsed": true
   },
   "outputs": [
    {
     "name": "stdout",
     "output_type": "stream",
     "text": [
      "Index([u'Cashews', u'Almonds', u'Peanuts'], dtype='object')\n",
      "[1 2 3]\n",
      "<type 'numpy.ndarray'>\n",
      "[('Cashews', 1), ('Almonds', 2), ('Peanuts', 3)]\n",
      "{'Almonds': 2, 'Peanuts': 3, 'Cashews': 1}\n"
     ]
    },
    {
     "data": {
      "text/plain": [
       "Almonds    2\n",
       "Cashews    1\n",
       "Peanuts    3\n",
       "dtype: int64"
      ]
     },
     "execution_count": 4,
     "metadata": {},
     "output_type": "execute_result"
    }
   ],
   "source": [
    "print s.index\n",
    "print s.values\n",
    "print type(s.values)\n",
    "\n",
    "print zip(labels, values)\n",
    "d = dict(zip(labels, values))\n",
    "print d\n",
    "Series(d)"
   ]
  },
  {
   "cell_type": "code",
   "execution_count": 5,
   "metadata": {
    "collapsed": false
   },
   "outputs": [
    {
     "name": "stdout",
     "output_type": "stream",
     "text": [
      "first level inside a list is row\n",
      "   0\n",
      "0  3\n",
      "1  4\n",
      "second level inside a list is column\n",
      "   0  1\n",
      "0  3  4\n"
     ]
    }
   ],
   "source": [
    "print 'first level inside a list is row'\n",
    "print pd.DataFrame([3, 4]) \n",
    "print 'second level inside a list is column'\n",
    "print pd.DataFrame([[3, 4]]) "
   ]
  },
  {
   "cell_type": "code",
   "execution_count": 5,
   "metadata": {
    "collapsed": true
   },
   "outputs": [
    {
     "name": "stdout",
     "output_type": "stream",
     "text": [
      "a    1\n",
      "b    4\n",
      "c    7\n",
      "Name: Cashews, dtype: int64\n"
     ]
    },
    {
     "data": {
      "text/html": [
       "<div style=\"max-height:1000px;max-width:1500px;overflow:auto;\">\n",
       "<table border=\"1\" class=\"dataframe\">\n",
       "  <thead>\n",
       "    <tr style=\"text-align: right;\">\n",
       "      <th></th>\n",
       "      <th>Cashews</th>\n",
       "      <th>Almonds</th>\n",
       "      <th>Peanuts</th>\n",
       "    </tr>\n",
       "  </thead>\n",
       "  <tbody>\n",
       "    <tr>\n",
       "      <th>a</th>\n",
       "      <td>1</td>\n",
       "      <td>2</td>\n",
       "      <td>3</td>\n",
       "    </tr>\n",
       "    <tr>\n",
       "      <th>b</th>\n",
       "      <td>4</td>\n",
       "      <td>5</td>\n",
       "      <td>6</td>\n",
       "    </tr>\n",
       "    <tr>\n",
       "      <th>c</th>\n",
       "      <td>7</td>\n",
       "      <td>8</td>\n",
       "      <td>9</td>\n",
       "    </tr>\n",
       "  </tbody>\n",
       "</table>\n",
       "</div>"
      ],
      "text/plain": [
       "   Cashews  Almonds  Peanuts\n",
       "a        1        2        3\n",
       "b        4        5        6\n",
       "c        7        8        9"
      ]
     },
     "execution_count": 5,
     "metadata": {},
     "output_type": "execute_result"
    }
   ],
   "source": [
    "df = DataFrame(np.arange(1, 10).reshape(3, 3), index = ['a', 'b', 'c'], columns = labels)\n",
    "print df['Cashews']\n",
    "df"
   ]
  },
  {
   "cell_type": "code",
   "execution_count": 6,
   "metadata": {
    "collapsed": true
   },
   "outputs": [
    {
     "name": "stdout",
     "output_type": "stream",
     "text": [
      "DatetimeIndex(['2014-01-01', '2014-01-02', '2014-01-03', '2014-01-04',\n",
      "               '2014-01-05', '2014-01-06'],\n",
      "              dtype='datetime64[ns]', freq='D', tz=None)\n"
     ]
    },
    {
     "data": {
      "text/html": [
       "<div style=\"max-height:1000px;max-width:1500px;overflow:auto;\">\n",
       "<table border=\"1\" class=\"dataframe\">\n",
       "  <thead>\n",
       "    <tr style=\"text-align: right;\">\n",
       "      <th></th>\n",
       "      <th>A</th>\n",
       "      <th>B</th>\n",
       "      <th>C</th>\n",
       "      <th>D</th>\n",
       "    </tr>\n",
       "  </thead>\n",
       "  <tbody>\n",
       "    <tr>\n",
       "      <th>2014-01-01</th>\n",
       "      <td>0.552052</td>\n",
       "      <td>-1.339152</td>\n",
       "      <td>1.894806</td>\n",
       "      <td>0.411787</td>\n",
       "    </tr>\n",
       "    <tr>\n",
       "      <th>2014-01-02</th>\n",
       "      <td>-0.698046</td>\n",
       "      <td>0.938891</td>\n",
       "      <td>-0.050643</td>\n",
       "      <td>-0.208119</td>\n",
       "    </tr>\n",
       "    <tr>\n",
       "      <th>2014-01-03</th>\n",
       "      <td>0.578617</td>\n",
       "      <td>-0.391723</td>\n",
       "      <td>-0.226546</td>\n",
       "      <td>0.247181</td>\n",
       "    </tr>\n",
       "    <tr>\n",
       "      <th>2014-01-04</th>\n",
       "      <td>0.249337</td>\n",
       "      <td>-1.102670</td>\n",
       "      <td>0.694883</td>\n",
       "      <td>-0.526755</td>\n",
       "    </tr>\n",
       "    <tr>\n",
       "      <th>2014-01-05</th>\n",
       "      <td>-1.323987</td>\n",
       "      <td>-1.067379</td>\n",
       "      <td>-0.913080</td>\n",
       "      <td>-1.000748</td>\n",
       "    </tr>\n",
       "    <tr>\n",
       "      <th>2014-01-06</th>\n",
       "      <td>-1.309757</td>\n",
       "      <td>0.259838</td>\n",
       "      <td>-0.193535</td>\n",
       "      <td>0.585470</td>\n",
       "    </tr>\n",
       "  </tbody>\n",
       "</table>\n",
       "</div>"
      ],
      "text/plain": [
       "                   A         B         C         D\n",
       "2014-01-01  0.552052 -1.339152  1.894806  0.411787\n",
       "2014-01-02 -0.698046  0.938891 -0.050643 -0.208119\n",
       "2014-01-03  0.578617 -0.391723 -0.226546  0.247181\n",
       "2014-01-04  0.249337 -1.102670  0.694883 -0.526755\n",
       "2014-01-05 -1.323987 -1.067379 -0.913080 -1.000748\n",
       "2014-01-06 -1.309757  0.259838 -0.193535  0.585470"
      ]
     },
     "execution_count": 6,
     "metadata": {},
     "output_type": "execute_result"
    }
   ],
   "source": [
    "dates = pd.date_range(\"20140101\", periods = 6)\n",
    "print dates\n",
    "df2 = DataFrame(np.random.randn(6, 4), index = dates, columns = list('ABCD'))\n",
    "df2"
   ]
  },
  {
   "cell_type": "code",
   "execution_count": 7,
   "metadata": {
    "collapsed": true
   },
   "outputs": [
    {
     "name": "stdout",
     "output_type": "stream",
     "text": [
      "   A          B  C  D    E\n",
      "0  1 2014-01-02  1  3  foo\n",
      "1  1 2014-01-02  1  3  foo\n",
      "2  1 2014-01-02  1  3  foo\n",
      "3  1 2014-01-02  1  3  foo\n",
      "A           float64\n",
      "B    datetime64[ns]\n",
      "C           float32\n",
      "D             int32\n",
      "E            object\n",
      "dtype: object\n"
     ]
    }
   ],
   "source": [
    "df3 = DataFrame({'A': 1., 'B': pd.Timestamp('20140102'), \n",
    "                 'C': Series(1, index = list(range(4)), \n",
    "                             dtype = 'float32'), \n",
    "                 'D': np.array([3] * 4, dtype = 'int32'), \n",
    "                 'E': 'foo'})\n",
    "print df3\n",
    "print df3.dtypes\n",
    "#df3.<tab>"
   ]
  },
  {
   "cell_type": "markdown",
   "metadata": {},
   "source": [
    "## Viewing Data"
   ]
  },
  {
   "cell_type": "code",
   "execution_count": 8,
   "metadata": {
    "collapsed": true
   },
   "outputs": [
    {
     "data": {
      "text/html": [
       "<div style=\"max-height:1000px;max-width:1500px;overflow:auto;\">\n",
       "<table border=\"1\" class=\"dataframe\">\n",
       "  <thead>\n",
       "    <tr style=\"text-align: right;\">\n",
       "      <th></th>\n",
       "      <th>A</th>\n",
       "      <th>B</th>\n",
       "      <th>C</th>\n",
       "      <th>D</th>\n",
       "      <th>E</th>\n",
       "    </tr>\n",
       "  </thead>\n",
       "  <tbody>\n",
       "    <tr>\n",
       "      <th>0</th>\n",
       "      <td>1</td>\n",
       "      <td>2014-01-02</td>\n",
       "      <td>1</td>\n",
       "      <td>3</td>\n",
       "      <td>foo</td>\n",
       "    </tr>\n",
       "    <tr>\n",
       "      <th>1</th>\n",
       "      <td>1</td>\n",
       "      <td>2014-01-02</td>\n",
       "      <td>1</td>\n",
       "      <td>3</td>\n",
       "      <td>foo</td>\n",
       "    </tr>\n",
       "    <tr>\n",
       "      <th>2</th>\n",
       "      <td>1</td>\n",
       "      <td>2014-01-02</td>\n",
       "      <td>1</td>\n",
       "      <td>3</td>\n",
       "      <td>foo</td>\n",
       "    </tr>\n",
       "    <tr>\n",
       "      <th>3</th>\n",
       "      <td>1</td>\n",
       "      <td>2014-01-02</td>\n",
       "      <td>1</td>\n",
       "      <td>3</td>\n",
       "      <td>foo</td>\n",
       "    </tr>\n",
       "  </tbody>\n",
       "</table>\n",
       "</div>"
      ],
      "text/plain": [
       "   A          B  C  D    E\n",
       "0  1 2014-01-02  1  3  foo\n",
       "1  1 2014-01-02  1  3  foo\n",
       "2  1 2014-01-02  1  3  foo\n",
       "3  1 2014-01-02  1  3  foo"
      ]
     },
     "execution_count": 8,
     "metadata": {},
     "output_type": "execute_result"
    }
   ],
   "source": [
    "df3"
   ]
  },
  {
   "cell_type": "code",
   "execution_count": 9,
   "metadata": {
    "collapsed": true
   },
   "outputs": [
    {
     "name": "stdout",
     "output_type": "stream",
     "text": [
      "   A          B  C  D    E\n",
      "0  1 2014-01-02  1  3  foo\n",
      "   A          B  C  D    E\n",
      "1  1 2014-01-02  1  3  foo\n",
      "2  1 2014-01-02  1  3  foo\n",
      "3  1 2014-01-02  1  3  foo\n",
      "----------------\n",
      "<bound method Series.head of a    1\n",
      "b    4\n",
      "c    7\n",
      "Name: Cashews, dtype: int64>\n",
      "<class 'pandas.core.series.Series'>\n",
      "----------------\n",
      "a    1\n",
      "b    4\n",
      "c    7\n",
      "Name: Cashews, dtype: int64\n",
      "1\n"
     ]
    }
   ],
   "source": [
    "print df3.head(1)\n",
    "print df3.tail(3)\n",
    "print '----------------'\n",
    "print df['Cashews'].head\n",
    "print type(df['Cashews'])\n",
    "print '----------------'\n",
    "aa = df.Cashews\n",
    "print aa\n",
    "print aa['a']"
   ]
  },
  {
   "cell_type": "code",
   "execution_count": 10,
   "metadata": {
    "collapsed": true
   },
   "outputs": [
    {
     "name": "stdout",
     "output_type": "stream",
     "text": [
      "DatetimeIndex(['2014-01-01', '2014-01-02', '2014-01-03', '2014-01-04',\n",
      "               '2014-01-05', '2014-01-06'],\n",
      "              dtype='datetime64[ns]', freq='D', tz=None)\n",
      "Index([u'A', u'B', u'C', u'D'], dtype='object')\n",
      "[[ 0.55205223 -1.3391522   1.89480639  0.4117869 ]\n",
      " [-0.6980462   0.93889064 -0.05064274 -0.2081193 ]\n",
      " [ 0.57861741 -0.39172338 -0.22654593  0.24718122]\n",
      " [ 0.24933671 -1.10266956  0.69488323 -0.52675532]\n",
      " [-1.32398702 -1.0673794  -0.9130802  -1.00074806]\n",
      " [-1.30975731  0.25983777 -0.19353454  0.58546965]]\n"
     ]
    },
    {
     "data": {
      "text/html": [
       "<div style=\"max-height:1000px;max-width:1500px;overflow:auto;\">\n",
       "<table border=\"1\" class=\"dataframe\">\n",
       "  <thead>\n",
       "    <tr style=\"text-align: right;\">\n",
       "      <th></th>\n",
       "      <th>A</th>\n",
       "      <th>B</th>\n",
       "      <th>C</th>\n",
       "      <th>D</th>\n",
       "    </tr>\n",
       "  </thead>\n",
       "  <tbody>\n",
       "    <tr>\n",
       "      <th>2014-01-01</th>\n",
       "      <td>0.552052</td>\n",
       "      <td>-1.339152</td>\n",
       "      <td>1.894806</td>\n",
       "      <td>0.411787</td>\n",
       "    </tr>\n",
       "    <tr>\n",
       "      <th>2014-01-02</th>\n",
       "      <td>-0.698046</td>\n",
       "      <td>0.938891</td>\n",
       "      <td>-0.050643</td>\n",
       "      <td>-0.208119</td>\n",
       "    </tr>\n",
       "    <tr>\n",
       "      <th>2014-01-03</th>\n",
       "      <td>0.578617</td>\n",
       "      <td>-0.391723</td>\n",
       "      <td>-0.226546</td>\n",
       "      <td>0.247181</td>\n",
       "    </tr>\n",
       "    <tr>\n",
       "      <th>2014-01-04</th>\n",
       "      <td>0.249337</td>\n",
       "      <td>-1.102670</td>\n",
       "      <td>0.694883</td>\n",
       "      <td>-0.526755</td>\n",
       "    </tr>\n",
       "    <tr>\n",
       "      <th>2014-01-05</th>\n",
       "      <td>-1.323987</td>\n",
       "      <td>-1.067379</td>\n",
       "      <td>-0.913080</td>\n",
       "      <td>-1.000748</td>\n",
       "    </tr>\n",
       "    <tr>\n",
       "      <th>2014-01-06</th>\n",
       "      <td>-1.309757</td>\n",
       "      <td>0.259838</td>\n",
       "      <td>-0.193535</td>\n",
       "      <td>0.585470</td>\n",
       "    </tr>\n",
       "  </tbody>\n",
       "</table>\n",
       "</div>"
      ],
      "text/plain": [
       "                   A         B         C         D\n",
       "2014-01-01  0.552052 -1.339152  1.894806  0.411787\n",
       "2014-01-02 -0.698046  0.938891 -0.050643 -0.208119\n",
       "2014-01-03  0.578617 -0.391723 -0.226546  0.247181\n",
       "2014-01-04  0.249337 -1.102670  0.694883 -0.526755\n",
       "2014-01-05 -1.323987 -1.067379 -0.913080 -1.000748\n",
       "2014-01-06 -1.309757  0.259838 -0.193535  0.585470"
      ]
     },
     "execution_count": 10,
     "metadata": {},
     "output_type": "execute_result"
    }
   ],
   "source": [
    "print df2.index # index column\n",
    "print df2.columns # column\n",
    "print df2.values\n",
    "df2"
   ]
  },
  {
   "cell_type": "code",
   "execution_count": 11,
   "metadata": {
    "collapsed": true
   },
   "outputs": [
    {
     "data": {
      "text/html": [
       "<div style=\"max-height:1000px;max-width:1500px;overflow:auto;\">\n",
       "<table border=\"1\" class=\"dataframe\">\n",
       "  <thead>\n",
       "    <tr style=\"text-align: right;\">\n",
       "      <th></th>\n",
       "      <th>A</th>\n",
       "      <th>B</th>\n",
       "      <th>C</th>\n",
       "      <th>D</th>\n",
       "    </tr>\n",
       "  </thead>\n",
       "  <tbody>\n",
       "    <tr>\n",
       "      <th>count</th>\n",
       "      <td>6.000000</td>\n",
       "      <td>6.000000</td>\n",
       "      <td>6.000000</td>\n",
       "      <td>6.000000</td>\n",
       "    </tr>\n",
       "    <tr>\n",
       "      <th>mean</th>\n",
       "      <td>-0.325297</td>\n",
       "      <td>-0.450366</td>\n",
       "      <td>0.200981</td>\n",
       "      <td>-0.081864</td>\n",
       "    </tr>\n",
       "    <tr>\n",
       "      <th>std</th>\n",
       "      <td>0.896938</td>\n",
       "      <td>0.898221</td>\n",
       "      <td>0.975280</td>\n",
       "      <td>0.609182</td>\n",
       "    </tr>\n",
       "    <tr>\n",
       "      <th>min</th>\n",
       "      <td>-1.323987</td>\n",
       "      <td>-1.339152</td>\n",
       "      <td>-0.913080</td>\n",
       "      <td>-1.000748</td>\n",
       "    </tr>\n",
       "    <tr>\n",
       "      <th>25%</th>\n",
       "      <td>-1.156830</td>\n",
       "      <td>-1.093847</td>\n",
       "      <td>-0.218293</td>\n",
       "      <td>-0.447096</td>\n",
       "    </tr>\n",
       "    <tr>\n",
       "      <th>50%</th>\n",
       "      <td>-0.224355</td>\n",
       "      <td>-0.729551</td>\n",
       "      <td>-0.122089</td>\n",
       "      <td>0.019531</td>\n",
       "    </tr>\n",
       "    <tr>\n",
       "      <th>75%</th>\n",
       "      <td>0.476373</td>\n",
       "      <td>0.096947</td>\n",
       "      <td>0.508502</td>\n",
       "      <td>0.370635</td>\n",
       "    </tr>\n",
       "    <tr>\n",
       "      <th>max</th>\n",
       "      <td>0.578617</td>\n",
       "      <td>0.938891</td>\n",
       "      <td>1.894806</td>\n",
       "      <td>0.585470</td>\n",
       "    </tr>\n",
       "  </tbody>\n",
       "</table>\n",
       "</div>"
      ],
      "text/plain": [
       "              A         B         C         D\n",
       "count  6.000000  6.000000  6.000000  6.000000\n",
       "mean  -0.325297 -0.450366  0.200981 -0.081864\n",
       "std    0.896938  0.898221  0.975280  0.609182\n",
       "min   -1.323987 -1.339152 -0.913080 -1.000748\n",
       "25%   -1.156830 -1.093847 -0.218293 -0.447096\n",
       "50%   -0.224355 -0.729551 -0.122089  0.019531\n",
       "75%    0.476373  0.096947  0.508502  0.370635\n",
       "max    0.578617  0.938891  1.894806  0.585470"
      ]
     },
     "execution_count": 11,
     "metadata": {},
     "output_type": "execute_result"
    }
   ],
   "source": [
    "df2.describe() # R summary"
   ]
  },
  {
   "cell_type": "code",
   "execution_count": 12,
   "metadata": {
    "collapsed": true
   },
   "outputs": [
    {
     "data": {
      "text/html": [
       "<div style=\"max-height:1000px;max-width:1500px;overflow:auto;\">\n",
       "<table border=\"1\" class=\"dataframe\">\n",
       "  <thead>\n",
       "    <tr style=\"text-align: right;\">\n",
       "      <th></th>\n",
       "      <th>2014-01-01 00:00:00</th>\n",
       "      <th>2014-01-02 00:00:00</th>\n",
       "      <th>2014-01-03 00:00:00</th>\n",
       "      <th>2014-01-04 00:00:00</th>\n",
       "      <th>2014-01-05 00:00:00</th>\n",
       "      <th>2014-01-06 00:00:00</th>\n",
       "    </tr>\n",
       "  </thead>\n",
       "  <tbody>\n",
       "    <tr>\n",
       "      <th>A</th>\n",
       "      <td>0.552052</td>\n",
       "      <td>-0.698046</td>\n",
       "      <td>0.578617</td>\n",
       "      <td>0.249337</td>\n",
       "      <td>-1.323987</td>\n",
       "      <td>-1.309757</td>\n",
       "    </tr>\n",
       "    <tr>\n",
       "      <th>B</th>\n",
       "      <td>-1.339152</td>\n",
       "      <td>0.938891</td>\n",
       "      <td>-0.391723</td>\n",
       "      <td>-1.102670</td>\n",
       "      <td>-1.067379</td>\n",
       "      <td>0.259838</td>\n",
       "    </tr>\n",
       "    <tr>\n",
       "      <th>C</th>\n",
       "      <td>1.894806</td>\n",
       "      <td>-0.050643</td>\n",
       "      <td>-0.226546</td>\n",
       "      <td>0.694883</td>\n",
       "      <td>-0.913080</td>\n",
       "      <td>-0.193535</td>\n",
       "    </tr>\n",
       "    <tr>\n",
       "      <th>D</th>\n",
       "      <td>0.411787</td>\n",
       "      <td>-0.208119</td>\n",
       "      <td>0.247181</td>\n",
       "      <td>-0.526755</td>\n",
       "      <td>-1.000748</td>\n",
       "      <td>0.585470</td>\n",
       "    </tr>\n",
       "  </tbody>\n",
       "</table>\n",
       "</div>"
      ],
      "text/plain": [
       "   2014-01-01  2014-01-02  2014-01-03  2014-01-04  2014-01-05  2014-01-06\n",
       "A    0.552052   -0.698046    0.578617    0.249337   -1.323987   -1.309757\n",
       "B   -1.339152    0.938891   -0.391723   -1.102670   -1.067379    0.259838\n",
       "C    1.894806   -0.050643   -0.226546    0.694883   -0.913080   -0.193535\n",
       "D    0.411787   -0.208119    0.247181   -0.526755   -1.000748    0.585470"
      ]
     },
     "execution_count": 12,
     "metadata": {},
     "output_type": "execute_result"
    }
   ],
   "source": [
    "df2.T # transpose"
   ]
  },
  {
   "cell_type": "markdown",
   "metadata": {},
   "source": [
    "### Sort"
   ]
  },
  {
   "cell_type": "code",
   "execution_count": 13,
   "metadata": {
    "collapsed": true
   },
   "outputs": [
    {
     "data": {
      "text/html": [
       "<div style=\"max-height:1000px;max-width:1500px;overflow:auto;\">\n",
       "<table border=\"1\" class=\"dataframe\">\n",
       "  <thead>\n",
       "    <tr style=\"text-align: right;\">\n",
       "      <th></th>\n",
       "      <th>D</th>\n",
       "      <th>C</th>\n",
       "      <th>B</th>\n",
       "      <th>A</th>\n",
       "    </tr>\n",
       "  </thead>\n",
       "  <tbody>\n",
       "    <tr>\n",
       "      <th>2014-01-01</th>\n",
       "      <td>0.411787</td>\n",
       "      <td>1.894806</td>\n",
       "      <td>-1.339152</td>\n",
       "      <td>0.552052</td>\n",
       "    </tr>\n",
       "    <tr>\n",
       "      <th>2014-01-02</th>\n",
       "      <td>-0.208119</td>\n",
       "      <td>-0.050643</td>\n",
       "      <td>0.938891</td>\n",
       "      <td>-0.698046</td>\n",
       "    </tr>\n",
       "    <tr>\n",
       "      <th>2014-01-03</th>\n",
       "      <td>0.247181</td>\n",
       "      <td>-0.226546</td>\n",
       "      <td>-0.391723</td>\n",
       "      <td>0.578617</td>\n",
       "    </tr>\n",
       "    <tr>\n",
       "      <th>2014-01-04</th>\n",
       "      <td>-0.526755</td>\n",
       "      <td>0.694883</td>\n",
       "      <td>-1.102670</td>\n",
       "      <td>0.249337</td>\n",
       "    </tr>\n",
       "    <tr>\n",
       "      <th>2014-01-05</th>\n",
       "      <td>-1.000748</td>\n",
       "      <td>-0.913080</td>\n",
       "      <td>-1.067379</td>\n",
       "      <td>-1.323987</td>\n",
       "    </tr>\n",
       "    <tr>\n",
       "      <th>2014-01-06</th>\n",
       "      <td>0.585470</td>\n",
       "      <td>-0.193535</td>\n",
       "      <td>0.259838</td>\n",
       "      <td>-1.309757</td>\n",
       "    </tr>\n",
       "  </tbody>\n",
       "</table>\n",
       "</div>"
      ],
      "text/plain": [
       "                   D         C         B         A\n",
       "2014-01-01  0.411787  1.894806 -1.339152  0.552052\n",
       "2014-01-02 -0.208119 -0.050643  0.938891 -0.698046\n",
       "2014-01-03  0.247181 -0.226546 -0.391723  0.578617\n",
       "2014-01-04 -0.526755  0.694883 -1.102670  0.249337\n",
       "2014-01-05 -1.000748 -0.913080 -1.067379 -1.323987\n",
       "2014-01-06  0.585470 -0.193535  0.259838 -1.309757"
      ]
     },
     "execution_count": 13,
     "metadata": {},
     "output_type": "execute_result"
    }
   ],
   "source": [
    "df2.sort_index(axis = 1, ascending = False) # by axis labels"
   ]
  },
  {
   "cell_type": "code",
   "execution_count": 14,
   "metadata": {
    "collapsed": true
   },
   "outputs": [
    {
     "name": "stdout",
     "output_type": "stream",
     "text": [
      "                   A         B         C         D\n",
      "2014-01-01  0.552052 -1.339152  1.894806  0.411787\n",
      "2014-01-04  0.249337 -1.102670  0.694883 -0.526755\n",
      "2014-01-05 -1.323987 -1.067379 -0.913080 -1.000748\n",
      "2014-01-03  0.578617 -0.391723 -0.226546  0.247181\n",
      "2014-01-06 -1.309757  0.259838 -0.193535  0.585470\n",
      "2014-01-02 -0.698046  0.938891 -0.050643 -0.208119\n"
     ]
    },
    {
     "data": {
      "text/html": [
       "<div style=\"max-height:1000px;max-width:1500px;overflow:auto;\">\n",
       "<table border=\"1\" class=\"dataframe\">\n",
       "  <thead>\n",
       "    <tr style=\"text-align: right;\">\n",
       "      <th></th>\n",
       "      <th>A</th>\n",
       "      <th>B</th>\n",
       "      <th>C</th>\n",
       "      <th>D</th>\n",
       "    </tr>\n",
       "  </thead>\n",
       "  <tbody>\n",
       "    <tr>\n",
       "      <th>2014-01-01</th>\n",
       "      <td>0.552052</td>\n",
       "      <td>-1.339152</td>\n",
       "      <td>1.894806</td>\n",
       "      <td>0.411787</td>\n",
       "    </tr>\n",
       "    <tr>\n",
       "      <th>2014-01-04</th>\n",
       "      <td>0.249337</td>\n",
       "      <td>-1.102670</td>\n",
       "      <td>0.694883</td>\n",
       "      <td>-0.526755</td>\n",
       "    </tr>\n",
       "    <tr>\n",
       "      <th>2014-01-05</th>\n",
       "      <td>-1.323987</td>\n",
       "      <td>-1.067379</td>\n",
       "      <td>-0.913080</td>\n",
       "      <td>-1.000748</td>\n",
       "    </tr>\n",
       "    <tr>\n",
       "      <th>2014-01-03</th>\n",
       "      <td>0.578617</td>\n",
       "      <td>-0.391723</td>\n",
       "      <td>-0.226546</td>\n",
       "      <td>0.247181</td>\n",
       "    </tr>\n",
       "    <tr>\n",
       "      <th>2014-01-06</th>\n",
       "      <td>-1.309757</td>\n",
       "      <td>0.259838</td>\n",
       "      <td>-0.193535</td>\n",
       "      <td>0.585470</td>\n",
       "    </tr>\n",
       "    <tr>\n",
       "      <th>2014-01-02</th>\n",
       "      <td>-0.698046</td>\n",
       "      <td>0.938891</td>\n",
       "      <td>-0.050643</td>\n",
       "      <td>-0.208119</td>\n",
       "    </tr>\n",
       "  </tbody>\n",
       "</table>\n",
       "</div>"
      ],
      "text/plain": [
       "                   A         B         C         D\n",
       "2014-01-01  0.552052 -1.339152  1.894806  0.411787\n",
       "2014-01-04  0.249337 -1.102670  0.694883 -0.526755\n",
       "2014-01-05 -1.323987 -1.067379 -0.913080 -1.000748\n",
       "2014-01-03  0.578617 -0.391723 -0.226546  0.247181\n",
       "2014-01-06 -1.309757  0.259838 -0.193535  0.585470\n",
       "2014-01-02 -0.698046  0.938891 -0.050643 -0.208119"
      ]
     },
     "execution_count": 14,
     "metadata": {},
     "output_type": "execute_result"
    }
   ],
   "source": [
    "print df2.sort_index(by = 'B') # by values\n",
    "df2.sort(columns = 'B') # by values"
   ]
  },
  {
   "cell_type": "markdown",
   "metadata": {},
   "source": [
    "## Rank - rank of each element in its row/column"
   ]
  },
  {
   "cell_type": "code",
   "execution_count": 15,
   "metadata": {
    "collapsed": true
   },
   "outputs": [
    {
     "data": {
      "text/html": [
       "<div style=\"max-height:1000px;max-width:1500px;overflow:auto;\">\n",
       "<table border=\"1\" class=\"dataframe\">\n",
       "  <thead>\n",
       "    <tr style=\"text-align: right;\">\n",
       "      <th></th>\n",
       "      <th>A</th>\n",
       "      <th>B</th>\n",
       "      <th>C</th>\n",
       "      <th>D</th>\n",
       "    </tr>\n",
       "  </thead>\n",
       "  <tbody>\n",
       "    <tr>\n",
       "      <th>2014-01-01</th>\n",
       "      <td>3</td>\n",
       "      <td>1</td>\n",
       "      <td>4</td>\n",
       "      <td>2</td>\n",
       "    </tr>\n",
       "    <tr>\n",
       "      <th>2014-01-02</th>\n",
       "      <td>1</td>\n",
       "      <td>4</td>\n",
       "      <td>3</td>\n",
       "      <td>2</td>\n",
       "    </tr>\n",
       "    <tr>\n",
       "      <th>2014-01-03</th>\n",
       "      <td>4</td>\n",
       "      <td>1</td>\n",
       "      <td>2</td>\n",
       "      <td>3</td>\n",
       "    </tr>\n",
       "    <tr>\n",
       "      <th>2014-01-04</th>\n",
       "      <td>3</td>\n",
       "      <td>1</td>\n",
       "      <td>4</td>\n",
       "      <td>2</td>\n",
       "    </tr>\n",
       "    <tr>\n",
       "      <th>2014-01-05</th>\n",
       "      <td>1</td>\n",
       "      <td>2</td>\n",
       "      <td>4</td>\n",
       "      <td>3</td>\n",
       "    </tr>\n",
       "    <tr>\n",
       "      <th>2014-01-06</th>\n",
       "      <td>1</td>\n",
       "      <td>3</td>\n",
       "      <td>2</td>\n",
       "      <td>4</td>\n",
       "    </tr>\n",
       "  </tbody>\n",
       "</table>\n",
       "</div>"
      ],
      "text/plain": [
       "            A  B  C  D\n",
       "2014-01-01  3  1  4  2\n",
       "2014-01-02  1  4  3  2\n",
       "2014-01-03  4  1  2  3\n",
       "2014-01-04  3  1  4  2\n",
       "2014-01-05  1  2  4  3\n",
       "2014-01-06  1  3  2  4"
      ]
     },
     "execution_count": 15,
     "metadata": {},
     "output_type": "execute_result"
    }
   ],
   "source": [
    "df2.rank(axis = 1)"
   ]
  },
  {
   "cell_type": "markdown",
   "metadata": {},
   "source": [
    "## Selection and setting"
   ]
  },
  {
   "cell_type": "markdown",
   "metadata": {
    "collapsed": false
   },
   "source": [
    ".loc is primarily label based, but may also be used with a boolean array. \n",
    "\n",
    ".iloc is primarily integer position based (from 0 to length-1 of the axis), but may also be used with a boolean array. \n",
    "\n",
    ".ix supports mixed integer and label based access. It is primarily label based, but will fall back to integer positional access unless the corresponding axis is of integer type. ."
   ]
  },
  {
   "cell_type": "code",
   "execution_count": 16,
   "metadata": {
    "collapsed": true
   },
   "outputs": [
    {
     "data": {
      "text/plain": [
       "2014-01-01    0.552052\n",
       "2014-01-02   -0.698046\n",
       "2014-01-03    0.578617\n",
       "2014-01-04    0.249337\n",
       "2014-01-05   -1.323987\n",
       "2014-01-06   -1.309757\n",
       "Freq: D, Name: A, dtype: float64"
      ]
     },
     "execution_count": 16,
     "metadata": {},
     "output_type": "execute_result"
    }
   ],
   "source": [
    "df2['A'] # by column names\n",
    "df2.A"
   ]
  },
  {
   "cell_type": "code",
   "execution_count": 17,
   "metadata": {
    "collapsed": true
   },
   "outputs": [
    {
     "data": {
      "text/html": [
       "<div style=\"max-height:1000px;max-width:1500px;overflow:auto;\">\n",
       "<table border=\"1\" class=\"dataframe\">\n",
       "  <thead>\n",
       "    <tr style=\"text-align: right;\">\n",
       "      <th></th>\n",
       "      <th>A</th>\n",
       "      <th>B</th>\n",
       "      <th>C</th>\n",
       "      <th>D</th>\n",
       "    </tr>\n",
       "  </thead>\n",
       "  <tbody>\n",
       "    <tr>\n",
       "      <th>2014-01-01</th>\n",
       "      <td>0.552052</td>\n",
       "      <td>-1.339152</td>\n",
       "      <td>1.894806</td>\n",
       "      <td>0.411787</td>\n",
       "    </tr>\n",
       "    <tr>\n",
       "      <th>2014-01-02</th>\n",
       "      <td>-0.698046</td>\n",
       "      <td>0.938891</td>\n",
       "      <td>-0.050643</td>\n",
       "      <td>-0.208119</td>\n",
       "    </tr>\n",
       "    <tr>\n",
       "      <th>2014-01-03</th>\n",
       "      <td>0.578617</td>\n",
       "      <td>-0.391723</td>\n",
       "      <td>-0.226546</td>\n",
       "      <td>0.247181</td>\n",
       "    </tr>\n",
       "    <tr>\n",
       "      <th>2014-01-04</th>\n",
       "      <td>0.249337</td>\n",
       "      <td>-1.102670</td>\n",
       "      <td>0.694883</td>\n",
       "      <td>-0.526755</td>\n",
       "    </tr>\n",
       "  </tbody>\n",
       "</table>\n",
       "</div>"
      ],
      "text/plain": [
       "                   A         B         C         D\n",
       "2014-01-01  0.552052 -1.339152  1.894806  0.411787\n",
       "2014-01-02 -0.698046  0.938891 -0.050643 -0.208119\n",
       "2014-01-03  0.578617 -0.391723 -0.226546  0.247181\n",
       "2014-01-04  0.249337 -1.102670  0.694883 -0.526755"
      ]
     },
     "execution_count": 17,
     "metadata": {},
     "output_type": "execute_result"
    }
   ],
   "source": [
    "df2[0:4] # by row \n",
    "df2.loc[dates[0:4]] # by label\n",
    "df2['20140101':'20140104'] \n",
    "# by label: not python indexing..., the last ind is included"
   ]
  },
  {
   "cell_type": "code",
   "execution_count": 18,
   "metadata": {
    "collapsed": true
   },
   "outputs": [
    {
     "data": {
      "text/html": [
       "<div style=\"max-height:1000px;max-width:1500px;overflow:auto;\">\n",
       "<table border=\"1\" class=\"dataframe\">\n",
       "  <thead>\n",
       "    <tr style=\"text-align: right;\">\n",
       "      <th></th>\n",
       "      <th>C</th>\n",
       "      <th>D</th>\n",
       "    </tr>\n",
       "  </thead>\n",
       "  <tbody>\n",
       "    <tr>\n",
       "      <th>2014-01-01</th>\n",
       "      <td>1.894806</td>\n",
       "      <td>0.411787</td>\n",
       "    </tr>\n",
       "    <tr>\n",
       "      <th>2014-01-02</th>\n",
       "      <td>-0.050643</td>\n",
       "      <td>-0.208119</td>\n",
       "    </tr>\n",
       "  </tbody>\n",
       "</table>\n",
       "</div>"
      ],
      "text/plain": [
       "                   C         D\n",
       "2014-01-01  1.894806  0.411787\n",
       "2014-01-02 -0.050643 -0.208119"
      ]
     },
     "execution_count": 18,
     "metadata": {},
     "output_type": "execute_result"
    }
   ],
   "source": [
    "# by position\n",
    "df2.iloc[0:2, 2:4]"
   ]
  },
  {
   "cell_type": "code",
   "execution_count": 19,
   "metadata": {
    "collapsed": true
   },
   "outputs": [
    {
     "data": {
      "text/html": [
       "<div style=\"max-height:1000px;max-width:1500px;overflow:auto;\">\n",
       "<table border=\"1\" class=\"dataframe\">\n",
       "  <thead>\n",
       "    <tr style=\"text-align: right;\">\n",
       "      <th></th>\n",
       "      <th>A</th>\n",
       "      <th>B</th>\n",
       "      <th>C</th>\n",
       "      <th>D</th>\n",
       "    </tr>\n",
       "  </thead>\n",
       "  <tbody>\n",
       "    <tr>\n",
       "      <th>2014-01-01</th>\n",
       "      <td>0.552052</td>\n",
       "      <td>-1.339152</td>\n",
       "      <td>1.894806</td>\n",
       "      <td>0.411787</td>\n",
       "    </tr>\n",
       "    <tr>\n",
       "      <th>2014-01-03</th>\n",
       "      <td>0.578617</td>\n",
       "      <td>-0.391723</td>\n",
       "      <td>-0.226546</td>\n",
       "      <td>0.247181</td>\n",
       "    </tr>\n",
       "    <tr>\n",
       "      <th>2014-01-04</th>\n",
       "      <td>0.249337</td>\n",
       "      <td>-1.102670</td>\n",
       "      <td>0.694883</td>\n",
       "      <td>-0.526755</td>\n",
       "    </tr>\n",
       "  </tbody>\n",
       "</table>\n",
       "</div>"
      ],
      "text/plain": [
       "                   A         B         C         D\n",
       "2014-01-01  0.552052 -1.339152  1.894806  0.411787\n",
       "2014-01-03  0.578617 -0.391723 -0.226546  0.247181\n",
       "2014-01-04  0.249337 -1.102670  0.694883 -0.526755"
      ]
     },
     "execution_count": 19,
     "metadata": {},
     "output_type": "execute_result"
    }
   ],
   "source": [
    "# Boolean\n",
    "df2[df2.A > 0]"
   ]
  },
  {
   "cell_type": "code",
   "execution_count": 20,
   "metadata": {
    "collapsed": true
   },
   "outputs": [
    {
     "data": {
      "text/html": [
       "<div style=\"max-height:1000px;max-width:1500px;overflow:auto;\">\n",
       "<table border=\"1\" class=\"dataframe\">\n",
       "  <thead>\n",
       "    <tr style=\"text-align: right;\">\n",
       "      <th></th>\n",
       "      <th>A</th>\n",
       "      <th>B</th>\n",
       "      <th>C</th>\n",
       "      <th>D</th>\n",
       "    </tr>\n",
       "  </thead>\n",
       "  <tbody>\n",
       "    <tr>\n",
       "      <th>2014-01-01</th>\n",
       "      <td>0.552052</td>\n",
       "      <td>NaN</td>\n",
       "      <td>1.894806</td>\n",
       "      <td>0.411787</td>\n",
       "    </tr>\n",
       "    <tr>\n",
       "      <th>2014-01-02</th>\n",
       "      <td>NaN</td>\n",
       "      <td>0.938891</td>\n",
       "      <td>NaN</td>\n",
       "      <td>NaN</td>\n",
       "    </tr>\n",
       "    <tr>\n",
       "      <th>2014-01-03</th>\n",
       "      <td>0.578617</td>\n",
       "      <td>NaN</td>\n",
       "      <td>NaN</td>\n",
       "      <td>0.247181</td>\n",
       "    </tr>\n",
       "    <tr>\n",
       "      <th>2014-01-04</th>\n",
       "      <td>0.249337</td>\n",
       "      <td>NaN</td>\n",
       "      <td>0.694883</td>\n",
       "      <td>NaN</td>\n",
       "    </tr>\n",
       "    <tr>\n",
       "      <th>2014-01-05</th>\n",
       "      <td>NaN</td>\n",
       "      <td>NaN</td>\n",
       "      <td>NaN</td>\n",
       "      <td>NaN</td>\n",
       "    </tr>\n",
       "    <tr>\n",
       "      <th>2014-01-06</th>\n",
       "      <td>NaN</td>\n",
       "      <td>0.259838</td>\n",
       "      <td>NaN</td>\n",
       "      <td>0.585470</td>\n",
       "    </tr>\n",
       "  </tbody>\n",
       "</table>\n",
       "</div>"
      ],
      "text/plain": [
       "                   A         B         C         D\n",
       "2014-01-01  0.552052       NaN  1.894806  0.411787\n",
       "2014-01-02       NaN  0.938891       NaN       NaN\n",
       "2014-01-03  0.578617       NaN       NaN  0.247181\n",
       "2014-01-04  0.249337       NaN  0.694883       NaN\n",
       "2014-01-05       NaN       NaN       NaN       NaN\n",
       "2014-01-06       NaN  0.259838       NaN  0.585470"
      ]
     },
     "execution_count": 20,
     "metadata": {},
     "output_type": "execute_result"
    }
   ],
   "source": [
    "df2[df2 > 0]"
   ]
  },
  {
   "cell_type": "code",
   "execution_count": 21,
   "metadata": {
    "collapsed": true
   },
   "outputs": [
    {
     "data": {
      "text/html": [
       "<div style=\"max-height:1000px;max-width:1500px;overflow:auto;\">\n",
       "<table border=\"1\" class=\"dataframe\">\n",
       "  <thead>\n",
       "    <tr style=\"text-align: right;\">\n",
       "      <th></th>\n",
       "      <th>A</th>\n",
       "      <th>B</th>\n",
       "      <th>C</th>\n",
       "      <th>D</th>\n",
       "      <th>E</th>\n",
       "    </tr>\n",
       "  </thead>\n",
       "  <tbody>\n",
       "    <tr>\n",
       "      <th>2014-01-01</th>\n",
       "      <td>0.552052</td>\n",
       "      <td>-1.339152</td>\n",
       "      <td>1.894806</td>\n",
       "      <td>0.411787</td>\n",
       "      <td>one</td>\n",
       "    </tr>\n",
       "    <tr>\n",
       "      <th>2014-01-02</th>\n",
       "      <td>-0.698046</td>\n",
       "      <td>0.938891</td>\n",
       "      <td>-0.050643</td>\n",
       "      <td>-0.208119</td>\n",
       "      <td>one</td>\n",
       "    </tr>\n",
       "    <tr>\n",
       "      <th>2014-01-03</th>\n",
       "      <td>0.578617</td>\n",
       "      <td>-0.391723</td>\n",
       "      <td>-0.226546</td>\n",
       "      <td>0.247181</td>\n",
       "      <td>two</td>\n",
       "    </tr>\n",
       "    <tr>\n",
       "      <th>2014-01-04</th>\n",
       "      <td>0.249337</td>\n",
       "      <td>-1.102670</td>\n",
       "      <td>0.694883</td>\n",
       "      <td>-0.526755</td>\n",
       "      <td>three</td>\n",
       "    </tr>\n",
       "    <tr>\n",
       "      <th>2014-01-05</th>\n",
       "      <td>-1.323987</td>\n",
       "      <td>-1.067379</td>\n",
       "      <td>-0.913080</td>\n",
       "      <td>-1.000748</td>\n",
       "      <td>four</td>\n",
       "    </tr>\n",
       "    <tr>\n",
       "      <th>2014-01-06</th>\n",
       "      <td>-1.309757</td>\n",
       "      <td>0.259838</td>\n",
       "      <td>-0.193535</td>\n",
       "      <td>0.585470</td>\n",
       "      <td>three</td>\n",
       "    </tr>\n",
       "  </tbody>\n",
       "</table>\n",
       "</div>"
      ],
      "text/plain": [
       "                   A         B         C         D      E\n",
       "2014-01-01  0.552052 -1.339152  1.894806  0.411787    one\n",
       "2014-01-02 -0.698046  0.938891 -0.050643 -0.208119    one\n",
       "2014-01-03  0.578617 -0.391723 -0.226546  0.247181    two\n",
       "2014-01-04  0.249337 -1.102670  0.694883 -0.526755  three\n",
       "2014-01-05 -1.323987 -1.067379 -0.913080 -1.000748   four\n",
       "2014-01-06 -1.309757  0.259838 -0.193535  0.585470  three"
      ]
     },
     "execution_count": 21,
     "metadata": {},
     "output_type": "execute_result"
    }
   ],
   "source": [
    "df = df2.copy()\n",
    "df2['E'] = ['one', 'one', 'two', 'three', 'four', 'three']\n",
    "df2"
   ]
  },
  {
   "cell_type": "code",
   "execution_count": 22,
   "metadata": {
    "collapsed": true
   },
   "outputs": [
    {
     "data": {
      "text/html": [
       "<div style=\"max-height:1000px;max-width:1500px;overflow:auto;\">\n",
       "<table border=\"1\" class=\"dataframe\">\n",
       "  <thead>\n",
       "    <tr style=\"text-align: right;\">\n",
       "      <th></th>\n",
       "      <th>A</th>\n",
       "      <th>B</th>\n",
       "      <th>C</th>\n",
       "      <th>D</th>\n",
       "      <th>E</th>\n",
       "    </tr>\n",
       "  </thead>\n",
       "  <tbody>\n",
       "    <tr>\n",
       "      <th>2014-01-03</th>\n",
       "      <td>0.578617</td>\n",
       "      <td>-0.391723</td>\n",
       "      <td>-0.226546</td>\n",
       "      <td>0.247181</td>\n",
       "      <td>two</td>\n",
       "    </tr>\n",
       "    <tr>\n",
       "      <th>2014-01-05</th>\n",
       "      <td>-1.323987</td>\n",
       "      <td>-1.067379</td>\n",
       "      <td>-0.913080</td>\n",
       "      <td>-1.000748</td>\n",
       "      <td>four</td>\n",
       "    </tr>\n",
       "  </tbody>\n",
       "</table>\n",
       "</div>"
      ],
      "text/plain": [
       "                   A         B         C         D     E\n",
       "2014-01-03  0.578617 -0.391723 -0.226546  0.247181   two\n",
       "2014-01-05 -1.323987 -1.067379 -0.913080 -1.000748  four"
      ]
     },
     "execution_count": 22,
     "metadata": {},
     "output_type": "execute_result"
    }
   ],
   "source": [
    "# filter by value\n",
    "df2[df2['E'].isin(['two', 'four'])] "
   ]
  },
  {
   "cell_type": "code",
   "execution_count": 23,
   "metadata": {
    "collapsed": true
   },
   "outputs": [
    {
     "data": {
      "text/plain": [
       "2014-01-02    1\n",
       "2014-01-03    2\n",
       "2014-01-04    3\n",
       "2014-01-05    4\n",
       "2014-01-06    5\n",
       "2014-01-07    6\n",
       "Freq: D, dtype: int64"
      ]
     },
     "execution_count": 23,
     "metadata": {},
     "output_type": "execute_result"
    }
   ],
   "source": [
    "s1 = pd.Series([1, 2, 3, 4, 5, 6], index = pd.date_range('20140102', periods = 6))\n",
    "s1"
   ]
  },
  {
   "cell_type": "code",
   "execution_count": 24,
   "metadata": {
    "collapsed": true
   },
   "outputs": [
    {
     "data": {
      "text/html": [
       "<div style=\"max-height:1000px;max-width:1500px;overflow:auto;\">\n",
       "<table border=\"1\" class=\"dataframe\">\n",
       "  <thead>\n",
       "    <tr style=\"text-align: right;\">\n",
       "      <th></th>\n",
       "      <th>A</th>\n",
       "      <th>B</th>\n",
       "      <th>C</th>\n",
       "      <th>D</th>\n",
       "      <th>F</th>\n",
       "    </tr>\n",
       "  </thead>\n",
       "  <tbody>\n",
       "    <tr>\n",
       "      <th>2014-01-01</th>\n",
       "      <td>0.552052</td>\n",
       "      <td>-1.339152</td>\n",
       "      <td>1.894806</td>\n",
       "      <td>0.411787</td>\n",
       "      <td>NaN</td>\n",
       "    </tr>\n",
       "    <tr>\n",
       "      <th>2014-01-02</th>\n",
       "      <td>-0.698046</td>\n",
       "      <td>0.938891</td>\n",
       "      <td>-0.050643</td>\n",
       "      <td>-0.208119</td>\n",
       "      <td>1</td>\n",
       "    </tr>\n",
       "    <tr>\n",
       "      <th>2014-01-03</th>\n",
       "      <td>0.578617</td>\n",
       "      <td>-0.391723</td>\n",
       "      <td>-0.226546</td>\n",
       "      <td>0.247181</td>\n",
       "      <td>2</td>\n",
       "    </tr>\n",
       "    <tr>\n",
       "      <th>2014-01-04</th>\n",
       "      <td>0.249337</td>\n",
       "      <td>-1.102670</td>\n",
       "      <td>0.694883</td>\n",
       "      <td>-0.526755</td>\n",
       "      <td>3</td>\n",
       "    </tr>\n",
       "    <tr>\n",
       "      <th>2014-01-05</th>\n",
       "      <td>-1.323987</td>\n",
       "      <td>-1.067379</td>\n",
       "      <td>-0.913080</td>\n",
       "      <td>-1.000748</td>\n",
       "      <td>4</td>\n",
       "    </tr>\n",
       "    <tr>\n",
       "      <th>2014-01-06</th>\n",
       "      <td>-1.309757</td>\n",
       "      <td>0.259838</td>\n",
       "      <td>-0.193535</td>\n",
       "      <td>0.585470</td>\n",
       "      <td>5</td>\n",
       "    </tr>\n",
       "  </tbody>\n",
       "</table>\n",
       "</div>"
      ],
      "text/plain": [
       "                   A         B         C         D   F\n",
       "2014-01-01  0.552052 -1.339152  1.894806  0.411787 NaN\n",
       "2014-01-02 -0.698046  0.938891 -0.050643 -0.208119   1\n",
       "2014-01-03  0.578617 -0.391723 -0.226546  0.247181   2\n",
       "2014-01-04  0.249337 -1.102670  0.694883 -0.526755   3\n",
       "2014-01-05 -1.323987 -1.067379 -0.913080 -1.000748   4\n",
       "2014-01-06 -1.309757  0.259838 -0.193535  0.585470   5"
      ]
     },
     "execution_count": 24,
     "metadata": {},
     "output_type": "execute_result"
    }
   ],
   "source": [
    "# setting a new column automatically aligns the data by indices\n",
    "df['F'] = s1\n",
    "df"
   ]
  },
  {
   "cell_type": "code",
   "execution_count": 25,
   "metadata": {
    "collapsed": false
   },
   "outputs": [
    {
     "data": {
      "text/html": [
       "<div style=\"max-height:1000px;max-width:1500px;overflow:auto;\">\n",
       "<table border=\"1\" class=\"dataframe\">\n",
       "  <thead>\n",
       "    <tr style=\"text-align: right;\">\n",
       "      <th></th>\n",
       "      <th>A</th>\n",
       "      <th>B</th>\n",
       "      <th>C</th>\n",
       "      <th>D</th>\n",
       "      <th>F</th>\n",
       "    </tr>\n",
       "  </thead>\n",
       "  <tbody>\n",
       "    <tr>\n",
       "      <th>2014-01-01</th>\n",
       "      <td>0.000000</td>\n",
       "      <td>-1.339152</td>\n",
       "      <td>1.894806</td>\n",
       "      <td>0.411787</td>\n",
       "      <td>NaN</td>\n",
       "    </tr>\n",
       "    <tr>\n",
       "      <th>2014-01-02</th>\n",
       "      <td>-0.698046</td>\n",
       "      <td>0.938891</td>\n",
       "      <td>-0.050643</td>\n",
       "      <td>-0.208119</td>\n",
       "      <td>1</td>\n",
       "    </tr>\n",
       "    <tr>\n",
       "      <th>2014-01-03</th>\n",
       "      <td>0.578617</td>\n",
       "      <td>-0.391723</td>\n",
       "      <td>-0.226546</td>\n",
       "      <td>0.247181</td>\n",
       "      <td>2</td>\n",
       "    </tr>\n",
       "    <tr>\n",
       "      <th>2014-01-04</th>\n",
       "      <td>0.249337</td>\n",
       "      <td>-1.102670</td>\n",
       "      <td>0.694883</td>\n",
       "      <td>-0.526755</td>\n",
       "      <td>3</td>\n",
       "    </tr>\n",
       "    <tr>\n",
       "      <th>2014-01-05</th>\n",
       "      <td>-1.323987</td>\n",
       "      <td>-1.067379</td>\n",
       "      <td>-0.913080</td>\n",
       "      <td>-1.000748</td>\n",
       "      <td>4</td>\n",
       "    </tr>\n",
       "    <tr>\n",
       "      <th>2014-01-06</th>\n",
       "      <td>-1.309757</td>\n",
       "      <td>0.259838</td>\n",
       "      <td>-0.193535</td>\n",
       "      <td>0.585470</td>\n",
       "      <td>5</td>\n",
       "    </tr>\n",
       "  </tbody>\n",
       "</table>\n",
       "</div>"
      ],
      "text/plain": [
       "                   A         B         C         D   F\n",
       "2014-01-01  0.000000 -1.339152  1.894806  0.411787 NaN\n",
       "2014-01-02 -0.698046  0.938891 -0.050643 -0.208119   1\n",
       "2014-01-03  0.578617 -0.391723 -0.226546  0.247181   2\n",
       "2014-01-04  0.249337 -1.102670  0.694883 -0.526755   3\n",
       "2014-01-05 -1.323987 -1.067379 -0.913080 -1.000748   4\n",
       "2014-01-06 -1.309757  0.259838 -0.193535  0.585470   5"
      ]
     },
     "execution_count": 25,
     "metadata": {},
     "output_type": "execute_result"
    }
   ],
   "source": [
    "# setting data by position\n",
    "df.at[dates[0], 'A'] = 0\n",
    "df"
   ]
  },
  {
   "cell_type": "code",
   "execution_count": 26,
   "metadata": {
    "collapsed": false
   },
   "outputs": [
    {
     "data": {
      "text/html": [
       "<div style=\"max-height:1000px;max-width:1500px;overflow:auto;\">\n",
       "<table border=\"1\" class=\"dataframe\">\n",
       "  <thead>\n",
       "    <tr style=\"text-align: right;\">\n",
       "      <th></th>\n",
       "      <th>A</th>\n",
       "      <th>B</th>\n",
       "      <th>C</th>\n",
       "      <th>D</th>\n",
       "      <th>F</th>\n",
       "    </tr>\n",
       "  </thead>\n",
       "  <tbody>\n",
       "    <tr>\n",
       "      <th>2014-01-01</th>\n",
       "      <td>0.000000</td>\n",
       "      <td>-1.339152</td>\n",
       "      <td>1.894806</td>\n",
       "      <td>5</td>\n",
       "      <td>NaN</td>\n",
       "    </tr>\n",
       "    <tr>\n",
       "      <th>2014-01-02</th>\n",
       "      <td>-0.698046</td>\n",
       "      <td>0.938891</td>\n",
       "      <td>-0.050643</td>\n",
       "      <td>5</td>\n",
       "      <td>1</td>\n",
       "    </tr>\n",
       "    <tr>\n",
       "      <th>2014-01-03</th>\n",
       "      <td>0.578617</td>\n",
       "      <td>-0.391723</td>\n",
       "      <td>-0.226546</td>\n",
       "      <td>5</td>\n",
       "      <td>2</td>\n",
       "    </tr>\n",
       "    <tr>\n",
       "      <th>2014-01-04</th>\n",
       "      <td>0.249337</td>\n",
       "      <td>-1.102670</td>\n",
       "      <td>0.694883</td>\n",
       "      <td>5</td>\n",
       "      <td>3</td>\n",
       "    </tr>\n",
       "    <tr>\n",
       "      <th>2014-01-05</th>\n",
       "      <td>-1.323987</td>\n",
       "      <td>-1.067379</td>\n",
       "      <td>-0.913080</td>\n",
       "      <td>5</td>\n",
       "      <td>4</td>\n",
       "    </tr>\n",
       "    <tr>\n",
       "      <th>2014-01-06</th>\n",
       "      <td>-1.309757</td>\n",
       "      <td>0.259838</td>\n",
       "      <td>-0.193535</td>\n",
       "      <td>5</td>\n",
       "      <td>5</td>\n",
       "    </tr>\n",
       "  </tbody>\n",
       "</table>\n",
       "</div>"
      ],
      "text/plain": [
       "                   A         B         C  D   F\n",
       "2014-01-01  0.000000 -1.339152  1.894806  5 NaN\n",
       "2014-01-02 -0.698046  0.938891 -0.050643  5   1\n",
       "2014-01-03  0.578617 -0.391723 -0.226546  5   2\n",
       "2014-01-04  0.249337 -1.102670  0.694883  5   3\n",
       "2014-01-05 -1.323987 -1.067379 -0.913080  5   4\n",
       "2014-01-06 -1.309757  0.259838 -0.193535  5   5"
      ]
     },
     "execution_count": 26,
     "metadata": {},
     "output_type": "execute_result"
    }
   ],
   "source": [
    "df.loc[:, 'D'] = np.array([5] * len(df))\n",
    "df"
   ]
  },
  {
   "cell_type": "code",
   "execution_count": 27,
   "metadata": {
    "collapsed": false
   },
   "outputs": [
    {
     "data": {
      "text/plain": [
       "2014-01-01    0.000000\n",
       "2014-01-02   -0.698046\n",
       "Freq: D, Name: A, dtype: float64"
      ]
     },
     "execution_count": 27,
     "metadata": {},
     "output_type": "execute_result"
    }
   ],
   "source": [
    "# .ix is like R's selection\n",
    "df.ix[0:2, 'A']"
   ]
  },
  {
   "cell_type": "markdown",
   "metadata": {},
   "source": [
    "## Missing data"
   ]
  },
  {
   "cell_type": "code",
   "execution_count": 28,
   "metadata": {
    "collapsed": true
   },
   "outputs": [
    {
     "data": {
      "text/html": [
       "<div style=\"max-height:1000px;max-width:1500px;overflow:auto;\">\n",
       "<table border=\"1\" class=\"dataframe\">\n",
       "  <thead>\n",
       "    <tr style=\"text-align: right;\">\n",
       "      <th></th>\n",
       "      <th>A</th>\n",
       "      <th>B</th>\n",
       "      <th>C</th>\n",
       "      <th>D</th>\n",
       "      <th>F</th>\n",
       "    </tr>\n",
       "  </thead>\n",
       "  <tbody>\n",
       "    <tr>\n",
       "      <th>2014-01-01</th>\n",
       "      <td>0.000000</td>\n",
       "      <td>-1.339152</td>\n",
       "      <td>1.894806</td>\n",
       "      <td>5</td>\n",
       "      <td>NaN</td>\n",
       "    </tr>\n",
       "    <tr>\n",
       "      <th>2014-01-02</th>\n",
       "      <td>-0.698046</td>\n",
       "      <td>0.938891</td>\n",
       "      <td>-0.050643</td>\n",
       "      <td>5</td>\n",
       "      <td>1</td>\n",
       "    </tr>\n",
       "    <tr>\n",
       "      <th>2014-01-03</th>\n",
       "      <td>0.578617</td>\n",
       "      <td>-0.391723</td>\n",
       "      <td>-0.226546</td>\n",
       "      <td>5</td>\n",
       "      <td>2</td>\n",
       "    </tr>\n",
       "    <tr>\n",
       "      <th>2014-01-04</th>\n",
       "      <td>0.249337</td>\n",
       "      <td>-1.102670</td>\n",
       "      <td>0.694883</td>\n",
       "      <td>5</td>\n",
       "      <td>3</td>\n",
       "    </tr>\n",
       "    <tr>\n",
       "      <th>2014-01-05</th>\n",
       "      <td>-1.323987</td>\n",
       "      <td>-1.067379</td>\n",
       "      <td>-0.913080</td>\n",
       "      <td>5</td>\n",
       "      <td>4</td>\n",
       "    </tr>\n",
       "    <tr>\n",
       "      <th>2014-01-06</th>\n",
       "      <td>-1.309757</td>\n",
       "      <td>0.259838</td>\n",
       "      <td>-0.193535</td>\n",
       "      <td>5</td>\n",
       "      <td>5</td>\n",
       "    </tr>\n",
       "  </tbody>\n",
       "</table>\n",
       "</div>"
      ],
      "text/plain": [
       "                   A         B         C  D   F\n",
       "2014-01-01  0.000000 -1.339152  1.894806  5 NaN\n",
       "2014-01-02 -0.698046  0.938891 -0.050643  5   1\n",
       "2014-01-03  0.578617 -0.391723 -0.226546  5   2\n",
       "2014-01-04  0.249337 -1.102670  0.694883  5   3\n",
       "2014-01-05 -1.323987 -1.067379 -0.913080  5   4\n",
       "2014-01-06 -1.309757  0.259838 -0.193535  5   5"
      ]
     },
     "execution_count": 28,
     "metadata": {},
     "output_type": "execute_result"
    }
   ],
   "source": [
    "df"
   ]
  },
  {
   "cell_type": "code",
   "execution_count": 29,
   "metadata": {
    "collapsed": true
   },
   "outputs": [
    {
     "data": {
      "text/html": [
       "<div style=\"max-height:1000px;max-width:1500px;overflow:auto;\">\n",
       "<table border=\"1\" class=\"dataframe\">\n",
       "  <thead>\n",
       "    <tr style=\"text-align: right;\">\n",
       "      <th></th>\n",
       "      <th>A</th>\n",
       "      <th>B</th>\n",
       "      <th>C</th>\n",
       "      <th>D</th>\n",
       "      <th>F</th>\n",
       "      <th>E</th>\n",
       "    </tr>\n",
       "  </thead>\n",
       "  <tbody>\n",
       "    <tr>\n",
       "      <th>2014-01-01</th>\n",
       "      <td>0.000000</td>\n",
       "      <td>-1.339152</td>\n",
       "      <td>1.894806</td>\n",
       "      <td>5</td>\n",
       "      <td>NaN</td>\n",
       "      <td>NaN</td>\n",
       "    </tr>\n",
       "    <tr>\n",
       "      <th>2014-01-02</th>\n",
       "      <td>-0.698046</td>\n",
       "      <td>0.938891</td>\n",
       "      <td>-0.050643</td>\n",
       "      <td>5</td>\n",
       "      <td>1</td>\n",
       "      <td>1</td>\n",
       "    </tr>\n",
       "    <tr>\n",
       "      <th>2014-01-03</th>\n",
       "      <td>0.578617</td>\n",
       "      <td>-0.391723</td>\n",
       "      <td>-0.226546</td>\n",
       "      <td>5</td>\n",
       "      <td>2</td>\n",
       "      <td>NaN</td>\n",
       "    </tr>\n",
       "    <tr>\n",
       "      <th>2014-01-04</th>\n",
       "      <td>0.249337</td>\n",
       "      <td>-1.102670</td>\n",
       "      <td>0.694883</td>\n",
       "      <td>5</td>\n",
       "      <td>3</td>\n",
       "      <td>NaN</td>\n",
       "    </tr>\n",
       "  </tbody>\n",
       "</table>\n",
       "</div>"
      ],
      "text/plain": [
       "                   A         B         C  D   F   E\n",
       "2014-01-01  0.000000 -1.339152  1.894806  5 NaN NaN\n",
       "2014-01-02 -0.698046  0.938891 -0.050643  5   1   1\n",
       "2014-01-03  0.578617 -0.391723 -0.226546  5   2 NaN\n",
       "2014-01-04  0.249337 -1.102670  0.694883  5   3 NaN"
      ]
     },
     "execution_count": 29,
     "metadata": {},
     "output_type": "execute_result"
    }
   ],
   "source": [
    "df1 = df.reindex(index = dates[0:4], columns = list(df.columns) + ['E'])\n",
    "df1.loc[dates[1]:dates[1], 'E'] = 1\n",
    "df1\n"
   ]
  },
  {
   "cell_type": "code",
   "execution_count": 30,
   "metadata": {
    "collapsed": true
   },
   "outputs": [
    {
     "data": {
      "text/html": [
       "<div style=\"max-height:1000px;max-width:1500px;overflow:auto;\">\n",
       "<table border=\"1\" class=\"dataframe\">\n",
       "  <thead>\n",
       "    <tr style=\"text-align: right;\">\n",
       "      <th></th>\n",
       "      <th>A</th>\n",
       "      <th>B</th>\n",
       "      <th>C</th>\n",
       "      <th>D</th>\n",
       "      <th>F</th>\n",
       "      <th>E</th>\n",
       "    </tr>\n",
       "  </thead>\n",
       "  <tbody>\n",
       "    <tr>\n",
       "      <th>2014-01-02</th>\n",
       "      <td>-0.698046</td>\n",
       "      <td>0.938891</td>\n",
       "      <td>-0.050643</td>\n",
       "      <td>5</td>\n",
       "      <td>1</td>\n",
       "      <td>1</td>\n",
       "    </tr>\n",
       "  </tbody>\n",
       "</table>\n",
       "</div>"
      ],
      "text/plain": [
       "                   A         B         C  D  F  E\n",
       "2014-01-02 -0.698046  0.938891 -0.050643  5  1  1"
      ]
     },
     "execution_count": 30,
     "metadata": {},
     "output_type": "execute_result"
    }
   ],
   "source": [
    "# drop any rows with NA\n",
    "df1.dropna(how = 'any')"
   ]
  },
  {
   "cell_type": "code",
   "execution_count": 31,
   "metadata": {
    "collapsed": true
   },
   "outputs": [
    {
     "data": {
      "text/html": [
       "<div style=\"max-height:1000px;max-width:1500px;overflow:auto;\">\n",
       "<table border=\"1\" class=\"dataframe\">\n",
       "  <thead>\n",
       "    <tr style=\"text-align: right;\">\n",
       "      <th></th>\n",
       "      <th>A</th>\n",
       "      <th>B</th>\n",
       "      <th>C</th>\n",
       "      <th>D</th>\n",
       "      <th>F</th>\n",
       "      <th>E</th>\n",
       "    </tr>\n",
       "  </thead>\n",
       "  <tbody>\n",
       "    <tr>\n",
       "      <th>2014-01-01</th>\n",
       "      <td>0.000000</td>\n",
       "      <td>-1.339152</td>\n",
       "      <td>1.894806</td>\n",
       "      <td>5</td>\n",
       "      <td>5</td>\n",
       "      <td>5</td>\n",
       "    </tr>\n",
       "    <tr>\n",
       "      <th>2014-01-02</th>\n",
       "      <td>-0.698046</td>\n",
       "      <td>0.938891</td>\n",
       "      <td>-0.050643</td>\n",
       "      <td>5</td>\n",
       "      <td>1</td>\n",
       "      <td>1</td>\n",
       "    </tr>\n",
       "    <tr>\n",
       "      <th>2014-01-03</th>\n",
       "      <td>0.578617</td>\n",
       "      <td>-0.391723</td>\n",
       "      <td>-0.226546</td>\n",
       "      <td>5</td>\n",
       "      <td>2</td>\n",
       "      <td>5</td>\n",
       "    </tr>\n",
       "    <tr>\n",
       "      <th>2014-01-04</th>\n",
       "      <td>0.249337</td>\n",
       "      <td>-1.102670</td>\n",
       "      <td>0.694883</td>\n",
       "      <td>5</td>\n",
       "      <td>3</td>\n",
       "      <td>5</td>\n",
       "    </tr>\n",
       "  </tbody>\n",
       "</table>\n",
       "</div>"
      ],
      "text/plain": [
       "                   A         B         C  D  F  E\n",
       "2014-01-01  0.000000 -1.339152  1.894806  5  5  5\n",
       "2014-01-02 -0.698046  0.938891 -0.050643  5  1  1\n",
       "2014-01-03  0.578617 -0.391723 -0.226546  5  2  5\n",
       "2014-01-04  0.249337 -1.102670  0.694883  5  3  5"
      ]
     },
     "execution_count": 31,
     "metadata": {},
     "output_type": "execute_result"
    }
   ],
   "source": [
    "# fill NA\n",
    "df1.fillna(value = 5)"
   ]
  },
  {
   "cell_type": "code",
   "execution_count": 32,
   "metadata": {
    "collapsed": true
   },
   "outputs": [
    {
     "data": {
      "text/html": [
       "<div style=\"max-height:1000px;max-width:1500px;overflow:auto;\">\n",
       "<table border=\"1\" class=\"dataframe\">\n",
       "  <thead>\n",
       "    <tr style=\"text-align: right;\">\n",
       "      <th></th>\n",
       "      <th>A</th>\n",
       "      <th>B</th>\n",
       "      <th>C</th>\n",
       "      <th>D</th>\n",
       "      <th>F</th>\n",
       "      <th>E</th>\n",
       "    </tr>\n",
       "  </thead>\n",
       "  <tbody>\n",
       "    <tr>\n",
       "      <th>2014-01-01</th>\n",
       "      <td>False</td>\n",
       "      <td>False</td>\n",
       "      <td>False</td>\n",
       "      <td>False</td>\n",
       "      <td>True</td>\n",
       "      <td>True</td>\n",
       "    </tr>\n",
       "    <tr>\n",
       "      <th>2014-01-02</th>\n",
       "      <td>False</td>\n",
       "      <td>False</td>\n",
       "      <td>False</td>\n",
       "      <td>False</td>\n",
       "      <td>False</td>\n",
       "      <td>False</td>\n",
       "    </tr>\n",
       "    <tr>\n",
       "      <th>2014-01-03</th>\n",
       "      <td>False</td>\n",
       "      <td>False</td>\n",
       "      <td>False</td>\n",
       "      <td>False</td>\n",
       "      <td>False</td>\n",
       "      <td>True</td>\n",
       "    </tr>\n",
       "    <tr>\n",
       "      <th>2014-01-04</th>\n",
       "      <td>False</td>\n",
       "      <td>False</td>\n",
       "      <td>False</td>\n",
       "      <td>False</td>\n",
       "      <td>False</td>\n",
       "      <td>True</td>\n",
       "    </tr>\n",
       "  </tbody>\n",
       "</table>\n",
       "</div>"
      ],
      "text/plain": [
       "                A      B      C      D      F      E\n",
       "2014-01-01  False  False  False  False   True   True\n",
       "2014-01-02  False  False  False  False  False  False\n",
       "2014-01-03  False  False  False  False  False   True\n",
       "2014-01-04  False  False  False  False  False   True"
      ]
     },
     "execution_count": 32,
     "metadata": {},
     "output_type": "execute_result"
    }
   ],
   "source": [
    "# boolean mask of na\n",
    "pd.isnull(df1)"
   ]
  },
  {
   "cell_type": "code",
   "execution_count": 33,
   "metadata": {
    "collapsed": true
   },
   "outputs": [
    {
     "data": {
      "text/html": [
       "<div style=\"max-height:1000px;max-width:1500px;overflow:auto;\">\n",
       "<table border=\"1\" class=\"dataframe\">\n",
       "  <thead>\n",
       "    <tr style=\"text-align: right;\">\n",
       "      <th></th>\n",
       "      <th>A</th>\n",
       "      <th>B</th>\n",
       "      <th>C</th>\n",
       "      <th>D</th>\n",
       "      <th>F</th>\n",
       "      <th>E</th>\n",
       "    </tr>\n",
       "  </thead>\n",
       "  <tbody>\n",
       "    <tr>\n",
       "      <th>2014-01-02</th>\n",
       "      <td>-0.698046</td>\n",
       "      <td>0.938891</td>\n",
       "      <td>-0.050643</td>\n",
       "      <td>5</td>\n",
       "      <td>1</td>\n",
       "      <td>1</td>\n",
       "    </tr>\n",
       "    <tr>\n",
       "      <th>2014-01-03</th>\n",
       "      <td>0.578617</td>\n",
       "      <td>-0.391723</td>\n",
       "      <td>-0.226546</td>\n",
       "      <td>5</td>\n",
       "      <td>2</td>\n",
       "      <td>NaN</td>\n",
       "    </tr>\n",
       "    <tr>\n",
       "      <th>2014-01-04</th>\n",
       "      <td>0.249337</td>\n",
       "      <td>-1.102670</td>\n",
       "      <td>0.694883</td>\n",
       "      <td>5</td>\n",
       "      <td>3</td>\n",
       "      <td>NaN</td>\n",
       "    </tr>\n",
       "  </tbody>\n",
       "</table>\n",
       "</div>"
      ],
      "text/plain": [
       "                   A         B         C  D  F   E\n",
       "2014-01-02 -0.698046  0.938891 -0.050643  5  1   1\n",
       "2014-01-03  0.578617 -0.391723 -0.226546  5  2 NaN\n",
       "2014-01-04  0.249337 -1.102670  0.694883  5  3 NaN"
      ]
     },
     "execution_count": 33,
     "metadata": {},
     "output_type": "execute_result"
    }
   ],
   "source": [
    "df1.dropna(thresh = 5)"
   ]
  },
  {
   "cell_type": "markdown",
   "metadata": {},
   "source": [
    "# Opearations"
   ]
  },
  {
   "cell_type": "markdown",
   "metadata": {},
   "source": [
    "## Stats - generally exclude NA by default"
   ]
  },
  {
   "cell_type": "code",
   "execution_count": 34,
   "metadata": {
    "collapsed": true
   },
   "outputs": [
    {
     "name": "stdout",
     "output_type": "stream",
     "text": [
      "                   A         B         C  D   F\n",
      "2014-01-01  0.000000 -1.339152  1.894806  5 NaN\n",
      "2014-01-02 -0.698046  0.938891 -0.050643  5   1\n",
      "2014-01-03  0.578617 -0.391723 -0.226546  5   2\n",
      "2014-01-04  0.249337 -1.102670  0.694883  5   3\n",
      "2014-01-05 -1.323987 -1.067379 -0.913080  5   4\n",
      "2014-01-06 -1.309757  0.259838 -0.193535  5   5\n"
     ]
    },
    {
     "data": {
      "text/plain": [
       "2014-01-01    1.388914\n",
       "2014-01-02    1.238040\n",
       "2014-01-03    1.392070\n",
       "2014-01-04    1.568310\n",
       "2014-01-05    1.139111\n",
       "2014-01-06    1.751309\n",
       "Freq: D, dtype: float64"
      ]
     },
     "execution_count": 34,
     "metadata": {},
     "output_type": "execute_result"
    }
   ],
   "source": [
    "print df\n",
    "df.mean(axis = 1)"
   ]
  },
  {
   "cell_type": "code",
   "execution_count": 35,
   "metadata": {
    "collapsed": true
   },
   "outputs": [
    {
     "data": {
      "text/plain": [
       "2014-01-01   NaN\n",
       "2014-01-02   NaN\n",
       "2014-01-03     1\n",
       "2014-01-04     3\n",
       "2014-01-05     5\n",
       "2014-01-06   NaN\n",
       "Freq: D, dtype: float64"
      ]
     },
     "execution_count": 35,
     "metadata": {},
     "output_type": "execute_result"
    }
   ],
   "source": [
    "s = pd.Series([1,3,5,np.nan,6,8],index=dates).shift(2)\n",
    "s"
   ]
  },
  {
   "cell_type": "code",
   "execution_count": 36,
   "metadata": {
    "collapsed": true
   },
   "outputs": [
    {
     "data": {
      "text/html": [
       "<div style=\"max-height:1000px;max-width:1500px;overflow:auto;\">\n",
       "<table border=\"1\" class=\"dataframe\">\n",
       "  <thead>\n",
       "    <tr style=\"text-align: right;\">\n",
       "      <th></th>\n",
       "      <th>A</th>\n",
       "      <th>B</th>\n",
       "      <th>C</th>\n",
       "      <th>D</th>\n",
       "      <th>F</th>\n",
       "    </tr>\n",
       "  </thead>\n",
       "  <tbody>\n",
       "    <tr>\n",
       "      <th>2014-01-01</th>\n",
       "      <td>NaN</td>\n",
       "      <td>NaN</td>\n",
       "      <td>NaN</td>\n",
       "      <td>NaN</td>\n",
       "      <td>NaN</td>\n",
       "    </tr>\n",
       "    <tr>\n",
       "      <th>2014-01-02</th>\n",
       "      <td>NaN</td>\n",
       "      <td>NaN</td>\n",
       "      <td>NaN</td>\n",
       "      <td>NaN</td>\n",
       "      <td>NaN</td>\n",
       "    </tr>\n",
       "    <tr>\n",
       "      <th>2014-01-03</th>\n",
       "      <td>-0.421383</td>\n",
       "      <td>-1.391723</td>\n",
       "      <td>-1.226546</td>\n",
       "      <td>4</td>\n",
       "      <td>1</td>\n",
       "    </tr>\n",
       "    <tr>\n",
       "      <th>2014-01-04</th>\n",
       "      <td>-2.750663</td>\n",
       "      <td>-4.102670</td>\n",
       "      <td>-2.305117</td>\n",
       "      <td>2</td>\n",
       "      <td>0</td>\n",
       "    </tr>\n",
       "    <tr>\n",
       "      <th>2014-01-05</th>\n",
       "      <td>-6.323987</td>\n",
       "      <td>-6.067379</td>\n",
       "      <td>-5.913080</td>\n",
       "      <td>0</td>\n",
       "      <td>-1</td>\n",
       "    </tr>\n",
       "    <tr>\n",
       "      <th>2014-01-06</th>\n",
       "      <td>NaN</td>\n",
       "      <td>NaN</td>\n",
       "      <td>NaN</td>\n",
       "      <td>NaN</td>\n",
       "      <td>NaN</td>\n",
       "    </tr>\n",
       "  </tbody>\n",
       "</table>\n",
       "</div>"
      ],
      "text/plain": [
       "                   A         B         C   D   F\n",
       "2014-01-01       NaN       NaN       NaN NaN NaN\n",
       "2014-01-02       NaN       NaN       NaN NaN NaN\n",
       "2014-01-03 -0.421383 -1.391723 -1.226546   4   1\n",
       "2014-01-04 -2.750663 -4.102670 -2.305117   2   0\n",
       "2014-01-05 -6.323987 -6.067379 -5.913080   0  -1\n",
       "2014-01-06       NaN       NaN       NaN NaN NaN"
      ]
     },
     "execution_count": 36,
     "metadata": {},
     "output_type": "execute_result"
    }
   ],
   "source": [
    "# subtract a Series from a Frame: automatically broadcast\n",
    "df.sub(s, axis = 'index')"
   ]
  },
  {
   "cell_type": "markdown",
   "metadata": {},
   "source": [
    "1. argmin, argmax: index location of min/max\n",
    "1. idxmin, idxmax: index values of min/max\n",
    "1. pct_change: percent changes"
   ]
  },
  {
   "cell_type": "code",
   "execution_count": 64,
   "metadata": {
    "collapsed": true
   },
   "outputs": [
    {
     "data": {
      "text/html": [
       "<div style=\"max-height:1000px;max-width:1500px;overflow:auto;\">\n",
       "<table border=\"1\" class=\"dataframe\">\n",
       "  <thead>\n",
       "    <tr style=\"text-align: right;\">\n",
       "      <th></th>\n",
       "      <th>0</th>\n",
       "      <th>1</th>\n",
       "      <th>2</th>\n",
       "      <th>3</th>\n",
       "    </tr>\n",
       "  </thead>\n",
       "  <tbody>\n",
       "    <tr>\n",
       "      <th>0</th>\n",
       "      <td>NaN</td>\n",
       "      <td>NaN</td>\n",
       "      <td>NaN</td>\n",
       "      <td>NaN</td>\n",
       "    </tr>\n",
       "    <tr>\n",
       "      <th>1</th>\n",
       "      <td>17.340287</td>\n",
       "      <td>-3.631686</td>\n",
       "      <td>-1.527806</td>\n",
       "      <td>1.675795</td>\n",
       "    </tr>\n",
       "    <tr>\n",
       "      <th>2</th>\n",
       "      <td>-1.348509</td>\n",
       "      <td>-0.603981</td>\n",
       "      <td>-6.101802</td>\n",
       "      <td>-1.090901</td>\n",
       "    </tr>\n",
       "    <tr>\n",
       "      <th>3</th>\n",
       "      <td>2.394562</td>\n",
       "      <td>-0.653166</td>\n",
       "      <td>-1.024189</td>\n",
       "      <td>11.853774</td>\n",
       "    </tr>\n",
       "    <tr>\n",
       "      <th>4</th>\n",
       "      <td>-0.932968</td>\n",
       "      <td>-1.013099</td>\n",
       "      <td>-35.195460</td>\n",
       "      <td>-0.734993</td>\n",
       "    </tr>\n",
       "    <tr>\n",
       "      <th>5</th>\n",
       "      <td>46.602180</td>\n",
       "      <td>19.866025</td>\n",
       "      <td>-2.252444</td>\n",
       "      <td>-0.926345</td>\n",
       "    </tr>\n",
       "    <tr>\n",
       "      <th>6</th>\n",
       "      <td>-0.698410</td>\n",
       "      <td>6.738657</td>\n",
       "      <td>-1.190113</td>\n",
       "      <td>17.726514</td>\n",
       "    </tr>\n",
       "    <tr>\n",
       "      <th>7</th>\n",
       "      <td>-1.909594</td>\n",
       "      <td>-2.646584</td>\n",
       "      <td>0.869592</td>\n",
       "      <td>-1.967516</td>\n",
       "    </tr>\n",
       "    <tr>\n",
       "      <th>8</th>\n",
       "      <td>-0.602511</td>\n",
       "      <td>-1.856983</td>\n",
       "      <td>-4.903110</td>\n",
       "      <td>-2.585691</td>\n",
       "    </tr>\n",
       "    <tr>\n",
       "      <th>9</th>\n",
       "      <td>5.665212</td>\n",
       "      <td>-1.066515</td>\n",
       "      <td>-0.804322</td>\n",
       "      <td>-0.906508</td>\n",
       "    </tr>\n",
       "  </tbody>\n",
       "</table>\n",
       "</div>"
      ],
      "text/plain": [
       "           0          1          2          3\n",
       "0        NaN        NaN        NaN        NaN\n",
       "1  17.340287  -3.631686  -1.527806   1.675795\n",
       "2  -1.348509  -0.603981  -6.101802  -1.090901\n",
       "3   2.394562  -0.653166  -1.024189  11.853774\n",
       "4  -0.932968  -1.013099 -35.195460  -0.734993\n",
       "5  46.602180  19.866025  -2.252444  -0.926345\n",
       "6  -0.698410   6.738657  -1.190113  17.726514\n",
       "7  -1.909594  -2.646584   0.869592  -1.967516\n",
       "8  -0.602511  -1.856983  -4.903110  -2.585691\n",
       "9   5.665212  -1.066515  -0.804322  -0.906508"
      ]
     },
     "execution_count": 64,
     "metadata": {},
     "output_type": "execute_result"
    }
   ],
   "source": [
    "df.pct_change()"
   ]
  },
  {
   "cell_type": "code",
   "execution_count": null,
   "metadata": {
    "collapsed": true
   },
   "outputs": [],
   "source": [
    "#correlation, covariance\n",
    "df2.corr()"
   ]
  },
  {
   "cell_type": "code",
   "execution_count": null,
   "metadata": {
    "collapsed": true
   },
   "outputs": [],
   "source": [
    "df2.corrwith(df2.A)"
   ]
  },
  {
   "cell_type": "code",
   "execution_count": null,
   "metadata": {
    "collapsed": true
   },
   "outputs": [],
   "source": [
    "df2"
   ]
  },
  {
   "cell_type": "code",
   "execution_count": null,
   "metadata": {
    "collapsed": true
   },
   "outputs": [],
   "source": [
    "df2.corr().isin([1])"
   ]
  },
  {
   "cell_type": "markdown",
   "metadata": {},
   "source": [
    "## Apply (col or row), Applymap (element-wise), map (for series)"
   ]
  },
  {
   "cell_type": "code",
   "execution_count": null,
   "metadata": {
    "collapsed": true
   },
   "outputs": [],
   "source": [
    "# apply function along specified axis of frame\n",
    "df.apply(np.cumsum, axis = 1)"
   ]
  },
  {
   "cell_type": "markdown",
   "metadata": {},
   "source": [
    "## Histogramming"
   ]
  },
  {
   "cell_type": "code",
   "execution_count": null,
   "metadata": {
    "collapsed": true
   },
   "outputs": [],
   "source": [
    "s = pd.Series(np.random.randint(0, 7, size = 10))\n",
    "s"
   ]
  },
  {
   "cell_type": "code",
   "execution_count": null,
   "metadata": {
    "collapsed": true
   },
   "outputs": [],
   "source": [
    "s.value_counts()"
   ]
  },
  {
   "cell_type": "markdown",
   "metadata": {},
   "source": [
    "## String Methods"
   ]
  },
  {
   "cell_type": "code",
   "execution_count": null,
   "metadata": {
    "collapsed": true
   },
   "outputs": [],
   "source": [
    "s = pd.Series(['A', 'B', 'C', 'Aaba', 'Baca', np.nan, 'CABA', 'dog', 'cat'])\n",
    "print s\n",
    "s.str.lower()"
   ]
  },
  {
   "cell_type": "markdown",
   "metadata": {},
   "source": [
    "# Merge"
   ]
  },
  {
   "cell_type": "markdown",
   "metadata": {},
   "source": [
    "## Concat / Intersect / combine with NaN filling"
   ]
  },
  {
   "cell_type": "code",
   "execution_count": 60,
   "metadata": {
    "collapsed": true
   },
   "outputs": [
    {
     "data": {
      "text/plain": [
       "[          0         1         2         3\n",
       " 0 -0.041334 -0.772922  0.529117  0.539917\n",
       " 1 -0.758075  2.034088 -0.279271  1.444706\n",
       " 2  0.264196  0.805537  1.424786 -0.131326,\n",
       "           0         1         2         3\n",
       " 3  0.896831  0.279387 -0.034465 -1.688032\n",
       " 4  0.060117 -0.003660  1.178538 -0.447340\n",
       " 5  2.861680 -0.076362 -1.476053 -0.032949\n",
       " 6  0.863054 -0.590937  0.280617 -0.617019,\n",
       "           0         1         2         3\n",
       " 7 -0.785029  0.973027  0.524639  0.596976\n",
       " 8 -0.312040 -0.833868 -2.047722 -0.946620\n",
       " 9 -2.079814  0.055464 -0.400693 -0.088502]"
      ]
     },
     "execution_count": 60,
     "metadata": {},
     "output_type": "execute_result"
    }
   ],
   "source": [
    "df = pd.DataFrame(np.random.randn(10, 4))\n",
    "pieces = [df[:3], df[3:7], df[7:]]\n",
    "pieces"
   ]
  },
  {
   "cell_type": "code",
   "execution_count": 43,
   "metadata": {
    "collapsed": true
   },
   "outputs": [
    {
     "data": {
      "text/html": [
       "<div style=\"max-height:1000px;max-width:1500px;overflow:auto;\">\n",
       "<table border=\"1\" class=\"dataframe\">\n",
       "  <thead>\n",
       "    <tr style=\"text-align: right;\">\n",
       "      <th></th>\n",
       "      <th>0</th>\n",
       "      <th>1</th>\n",
       "      <th>2</th>\n",
       "      <th>3</th>\n",
       "    </tr>\n",
       "  </thead>\n",
       "  <tbody>\n",
       "    <tr>\n",
       "      <th>0</th>\n",
       "      <td>-0.095722</td>\n",
       "      <td>-0.318699</td>\n",
       "      <td>-1.565286</td>\n",
       "      <td>1.487514</td>\n",
       "    </tr>\n",
       "    <tr>\n",
       "      <th>1</th>\n",
       "      <td>-0.282228</td>\n",
       "      <td>-1.928746</td>\n",
       "      <td>1.017282</td>\n",
       "      <td>-0.216777</td>\n",
       "    </tr>\n",
       "    <tr>\n",
       "      <th>2</th>\n",
       "      <td>-0.736848</td>\n",
       "      <td>0.353567</td>\n",
       "      <td>0.071673</td>\n",
       "      <td>-0.215898</td>\n",
       "    </tr>\n",
       "    <tr>\n",
       "      <th>3</th>\n",
       "      <td>0.145845</td>\n",
       "      <td>1.788257</td>\n",
       "      <td>0.843018</td>\n",
       "      <td>0.890737</td>\n",
       "    </tr>\n",
       "    <tr>\n",
       "      <th>4</th>\n",
       "      <td>-0.942070</td>\n",
       "      <td>0.286443</td>\n",
       "      <td>1.600361</td>\n",
       "      <td>-0.750786</td>\n",
       "    </tr>\n",
       "    <tr>\n",
       "      <th>5</th>\n",
       "      <td>-0.697249</td>\n",
       "      <td>-1.315938</td>\n",
       "      <td>-2.064965</td>\n",
       "      <td>0.308894</td>\n",
       "    </tr>\n",
       "    <tr>\n",
       "      <th>6</th>\n",
       "      <td>1.146851</td>\n",
       "      <td>0.883578</td>\n",
       "      <td>1.969243</td>\n",
       "      <td>0.256813</td>\n",
       "    </tr>\n",
       "    <tr>\n",
       "      <th>7</th>\n",
       "      <td>0.931635</td>\n",
       "      <td>-1.739227</td>\n",
       "      <td>-0.347588</td>\n",
       "      <td>0.535940</td>\n",
       "    </tr>\n",
       "    <tr>\n",
       "      <th>8</th>\n",
       "      <td>0.113310</td>\n",
       "      <td>0.793846</td>\n",
       "      <td>-1.120285</td>\n",
       "      <td>0.879548</td>\n",
       "    </tr>\n",
       "    <tr>\n",
       "      <th>9</th>\n",
       "      <td>0.403197</td>\n",
       "      <td>-1.116450</td>\n",
       "      <td>-0.196104</td>\n",
       "      <td>-0.787861</td>\n",
       "    </tr>\n",
       "  </tbody>\n",
       "</table>\n",
       "</div>"
      ],
      "text/plain": [
       "          0         1         2         3\n",
       "0 -0.095722 -0.318699 -1.565286  1.487514\n",
       "1 -0.282228 -1.928746  1.017282 -0.216777\n",
       "2 -0.736848  0.353567  0.071673 -0.215898\n",
       "3  0.145845  1.788257  0.843018  0.890737\n",
       "4 -0.942070  0.286443  1.600361 -0.750786\n",
       "5 -0.697249 -1.315938 -2.064965  0.308894\n",
       "6  1.146851  0.883578  1.969243  0.256813\n",
       "7  0.931635 -1.739227 -0.347588  0.535940\n",
       "8  0.113310  0.793846 -1.120285  0.879548\n",
       "9  0.403197 -1.116450 -0.196104 -0.787861"
      ]
     },
     "execution_count": 43,
     "metadata": {},
     "output_type": "execute_result"
    }
   ],
   "source": [
    "\n",
    "pd.concat(pieces)"
   ]
  },
  {
   "cell_type": "code",
   "execution_count": 63,
   "metadata": {
    "collapsed": true
   },
   "outputs": [
    {
     "data": {
      "text/html": [
       "<div style=\"max-height:1000px;max-width:1500px;overflow:auto;\">\n",
       "<table border=\"1\" class=\"dataframe\">\n",
       "  <thead>\n",
       "    <tr style=\"text-align: right;\">\n",
       "      <th></th>\n",
       "      <th>0</th>\n",
       "      <th>2</th>\n",
       "      <th>3</th>\n",
       "    </tr>\n",
       "  </thead>\n",
       "  <tbody>\n",
       "    <tr>\n",
       "      <th>0</th>\n",
       "      <td>-0.041334</td>\n",
       "      <td>0.529117</td>\n",
       "      <td>0.539917</td>\n",
       "    </tr>\n",
       "    <tr>\n",
       "      <th>1</th>\n",
       "      <td>-0.758075</td>\n",
       "      <td>-0.279271</td>\n",
       "      <td>1.444706</td>\n",
       "    </tr>\n",
       "    <tr>\n",
       "      <th>2</th>\n",
       "      <td>0.264196</td>\n",
       "      <td>1.424786</td>\n",
       "      <td>-0.131326</td>\n",
       "    </tr>\n",
       "    <tr>\n",
       "      <th>3</th>\n",
       "      <td>0.896831</td>\n",
       "      <td>-0.034465</td>\n",
       "      <td>-1.688032</td>\n",
       "    </tr>\n",
       "    <tr>\n",
       "      <th>4</th>\n",
       "      <td>0.060117</td>\n",
       "      <td>1.178538</td>\n",
       "      <td>-0.447340</td>\n",
       "    </tr>\n",
       "    <tr>\n",
       "      <th>5</th>\n",
       "      <td>2.861680</td>\n",
       "      <td>-1.476053</td>\n",
       "      <td>-0.032949</td>\n",
       "    </tr>\n",
       "    <tr>\n",
       "      <th>6</th>\n",
       "      <td>0.863054</td>\n",
       "      <td>0.280617</td>\n",
       "      <td>-0.617019</td>\n",
       "    </tr>\n",
       "    <tr>\n",
       "      <th>7</th>\n",
       "      <td>-0.785029</td>\n",
       "      <td>0.524639</td>\n",
       "      <td>0.596976</td>\n",
       "    </tr>\n",
       "    <tr>\n",
       "      <th>8</th>\n",
       "      <td>-0.312040</td>\n",
       "      <td>-2.047722</td>\n",
       "      <td>-0.946620</td>\n",
       "    </tr>\n",
       "    <tr>\n",
       "      <th>9</th>\n",
       "      <td>-2.079814</td>\n",
       "      <td>-0.400693</td>\n",
       "      <td>-0.088502</td>\n",
       "    </tr>\n",
       "  </tbody>\n",
       "</table>\n",
       "</div>"
      ],
      "text/plain": [
       "          0         2         3\n",
       "0 -0.041334  0.529117  0.539917\n",
       "1 -0.758075 -0.279271  1.444706\n",
       "2  0.264196  1.424786 -0.131326\n",
       "3  0.896831 -0.034465 -1.688032\n",
       "4  0.060117  1.178538 -0.447340\n",
       "5  2.861680 -1.476053 -0.032949\n",
       "6  0.863054  0.280617 -0.617019\n",
       "7 -0.785029  0.524639  0.596976\n",
       "8 -0.312040 -2.047722 -0.946620\n",
       "9 -2.079814 -0.400693 -0.088502"
      ]
     },
     "execution_count": 63,
     "metadata": {},
     "output_type": "execute_result"
    }
   ],
   "source": [
    "pieces[1] = pieces[1].rename(columns = {1: 11})\n",
    "pd.concat(pieces, join = 'inner')"
   ]
  },
  {
   "cell_type": "code",
   "execution_count": 71,
   "metadata": {
    "collapsed": false
   },
   "outputs": [],
   "source": [
    "pieces[1].iloc[1, 0] = np.nan"
   ]
  },
  {
   "cell_type": "code",
   "execution_count": 74,
   "metadata": {
    "collapsed": true
   },
   "outputs": [
    {
     "data": {
      "text/plain": [
       "[          0         1         2         3\n",
       " 0 -0.041334 -0.772922  0.529117  0.539917\n",
       " 1 -0.758075  2.034088 -0.279271  1.444706\n",
       " 2  0.264196  0.805537  1.424786 -0.131326,\n",
       "          0         11        2         3 \n",
       " 3  0.896831  0.279387 -0.034465 -1.688032\n",
       " 4       NaN       NaN  1.178538 -0.447340\n",
       " 5  2.861680 -0.076362 -1.476053 -0.032949\n",
       " 6  0.863054 -0.590937  0.280617 -0.617019,\n",
       "           0         1         2         3\n",
       " 7 -0.785029  0.973027  0.524639  0.596976\n",
       " 8 -0.312040 -0.833868 -2.047722 -0.946620\n",
       " 9 -2.079814  0.055464 -0.400693 -0.088502]"
      ]
     },
     "execution_count": 74,
     "metadata": {},
     "output_type": "execute_result"
    }
   ],
   "source": [
    "pieces"
   ]
  },
  {
   "cell_type": "code",
   "execution_count": 81,
   "metadata": {
    "collapsed": true
   },
   "outputs": [
    {
     "data": {
      "text/html": [
       "<div style=\"max-height:1000px;max-width:1500px;overflow:auto;\">\n",
       "<table border=\"1\" class=\"dataframe\">\n",
       "  <thead>\n",
       "    <tr style=\"text-align: right;\">\n",
       "      <th></th>\n",
       "      <th>0</th>\n",
       "      <th>1</th>\n",
       "      <th>2</th>\n",
       "      <th>3</th>\n",
       "      <th>11</th>\n",
       "    </tr>\n",
       "  </thead>\n",
       "  <tbody>\n",
       "    <tr>\n",
       "      <th>0</th>\n",
       "      <td>0.896831</td>\n",
       "      <td>-0.772922</td>\n",
       "      <td>-0.034465</td>\n",
       "      <td>-1.688032</td>\n",
       "      <td>0.279387</td>\n",
       "    </tr>\n",
       "    <tr>\n",
       "      <th>1</th>\n",
       "      <td>-0.758075</td>\n",
       "      <td>2.034088</td>\n",
       "      <td>1.178538</td>\n",
       "      <td>-0.447340</td>\n",
       "      <td>NaN</td>\n",
       "    </tr>\n",
       "    <tr>\n",
       "      <th>2</th>\n",
       "      <td>2.861680</td>\n",
       "      <td>0.805537</td>\n",
       "      <td>-1.476053</td>\n",
       "      <td>-0.032949</td>\n",
       "      <td>-0.076362</td>\n",
       "    </tr>\n",
       "    <tr>\n",
       "      <th>3</th>\n",
       "      <td>0.863054</td>\n",
       "      <td>NaN</td>\n",
       "      <td>0.280617</td>\n",
       "      <td>-0.617019</td>\n",
       "      <td>-0.590937</td>\n",
       "    </tr>\n",
       "  </tbody>\n",
       "</table>\n",
       "</div>"
      ],
      "text/plain": [
       "         0         1         2         3         11\n",
       "0  0.896831 -0.772922 -0.034465 -1.688032  0.279387\n",
       "1 -0.758075  2.034088  1.178538 -0.447340       NaN\n",
       "2  2.861680  0.805537 -1.476053 -0.032949 -0.076362\n",
       "3  0.863054       NaN  0.280617 -0.617019 -0.590937"
      ]
     },
     "execution_count": 81,
     "metadata": {},
     "output_type": "execute_result"
    }
   ],
   "source": [
    "pieces[1].reset_index(drop = True).combine_first(pieces[0])"
   ]
  },
  {
   "cell_type": "markdown",
   "metadata": {},
   "source": [
    "## Join/Merge"
   ]
  },
  {
   "cell_type": "markdown",
   "metadata": {},
   "source": [
    "by default the join is inner"
   ]
  },
  {
   "cell_type": "code",
   "execution_count": null,
   "metadata": {
    "collapsed": true
   },
   "outputs": [],
   "source": [
    "left = pd.DataFrame({'key': ['foo', 'foo'], 'lval': [1, 2]})\n",
    "print left\n",
    "right = pd.DataFrame({'key': ['foo', 'foo'], 'rval': [4, 5]})\n",
    "print right\n",
    "pd.merge(left, right, on = 'key')"
   ]
  },
  {
   "cell_type": "markdown",
   "metadata": {},
   "source": [
    "## Append"
   ]
  },
  {
   "cell_type": "code",
   "execution_count": null,
   "metadata": {
    "collapsed": true
   },
   "outputs": [],
   "source": [
    "df = pd.DataFrame(np.random.randn(8, 4), columns=['A','B','C','D'])\n",
    "df"
   ]
  },
  {
   "cell_type": "code",
   "execution_count": null,
   "metadata": {
    "collapsed": true
   },
   "outputs": [],
   "source": [
    "s = df.iloc[3]\n",
    "s"
   ]
  },
  {
   "cell_type": "code",
   "execution_count": null,
   "metadata": {
    "collapsed": true
   },
   "outputs": [],
   "source": [
    "df.append(s, ignore_index = True)"
   ]
  },
  {
   "cell_type": "markdown",
   "metadata": {},
   "source": [
    "## Grouping"
   ]
  },
  {
   "cell_type": "code",
   "execution_count": null,
   "metadata": {
    "collapsed": true
   },
   "outputs": [],
   "source": [
    "df = pd.DataFrame({'A' : ['foo', 'bar', 'foo', 'bar',\n",
    "   ....:                          'foo', 'bar', 'foo', 'foo'],\n",
    "   ....:                    'B' : ['one', 'one', 'two', 'three',\n",
    "   ....:                          'two', 'two', 'one', 'three'],\n",
    "   ....:                    'C' : np.random.randn(8),\n",
    "   ....:                    'D' : np.random.randn(8)})\n",
    "df"
   ]
  },
  {
   "cell_type": "code",
   "execution_count": null,
   "metadata": {
    "collapsed": true
   },
   "outputs": [],
   "source": [
    "df.groupby('A').sum()"
   ]
  },
  {
   "cell_type": "code",
   "execution_count": null,
   "metadata": {
    "collapsed": true
   },
   "outputs": [],
   "source": [
    "df.groupby(['A', 'B']).sum()"
   ]
  },
  {
   "cell_type": "markdown",
   "metadata": {},
   "source": [
    "# Reshaping"
   ]
  },
  {
   "cell_type": "markdown",
   "metadata": {},
   "source": [
    "## Stack (compresses a level in DF's columns), multilevel index"
   ]
  },
  {
   "cell_type": "code",
   "execution_count": 82,
   "metadata": {
    "collapsed": true
   },
   "outputs": [
    {
     "data": {
      "text/plain": [
       "[('bar', 'one'),\n",
       " ('bar', 'two'),\n",
       " ('baz', 'one'),\n",
       " ('baz', 'two'),\n",
       " ('foo', 'one'),\n",
       " ('foo', 'two'),\n",
       " ('qux', 'one'),\n",
       " ('qux', 'two')]"
      ]
     },
     "execution_count": 82,
     "metadata": {},
     "output_type": "execute_result"
    }
   ],
   "source": [
    "tuples = list(zip(*[['bar', 'bar', 'baz', 'baz', 'foo', 'foo', 'qux', 'qux'],\n",
    "['one', 'two', 'one', 'two', 'one', 'two', 'one', 'two']]))\n",
    "tuples"
   ]
  },
  {
   "cell_type": "code",
   "execution_count": 83,
   "metadata": {
    "collapsed": true
   },
   "outputs": [
    {
     "data": {
      "text/plain": [
       "MultiIndex(levels=[[u'bar', u'baz', u'foo', u'qux'], [u'one', u'two']],\n",
       "           labels=[[0, 0, 1, 1, 2, 2, 3, 3], [0, 1, 0, 1, 0, 1, 0, 1]],\n",
       "           names=[u'first', u'second'])"
      ]
     },
     "execution_count": 83,
     "metadata": {},
     "output_type": "execute_result"
    }
   ],
   "source": [
    "index = pd.MultiIndex.from_tuples(tuples, \n",
    "                                  names = ['first', 'second'])\n",
    "index"
   ]
  },
  {
   "cell_type": "code",
   "execution_count": 84,
   "metadata": {
    "collapsed": true
   },
   "outputs": [
    {
     "data": {
      "text/html": [
       "<div style=\"max-height:1000px;max-width:1500px;overflow:auto;\">\n",
       "<table border=\"1\" class=\"dataframe\">\n",
       "  <thead>\n",
       "    <tr style=\"text-align: right;\">\n",
       "      <th></th>\n",
       "      <th></th>\n",
       "      <th>A</th>\n",
       "      <th>B</th>\n",
       "    </tr>\n",
       "    <tr>\n",
       "      <th>first</th>\n",
       "      <th>second</th>\n",
       "      <th></th>\n",
       "      <th></th>\n",
       "    </tr>\n",
       "  </thead>\n",
       "  <tbody>\n",
       "    <tr>\n",
       "      <th rowspan=\"2\" valign=\"top\">bar</th>\n",
       "      <th>one</th>\n",
       "      <td>0.306013</td>\n",
       "      <td>1.255840</td>\n",
       "    </tr>\n",
       "    <tr>\n",
       "      <th>two</th>\n",
       "      <td>-0.197295</td>\n",
       "      <td>0.913461</td>\n",
       "    </tr>\n",
       "    <tr>\n",
       "      <th rowspan=\"2\" valign=\"top\">baz</th>\n",
       "      <th>one</th>\n",
       "      <td>0.765388</td>\n",
       "      <td>0.811382</td>\n",
       "    </tr>\n",
       "    <tr>\n",
       "      <th>two</th>\n",
       "      <td>-0.382991</td>\n",
       "      <td>-0.402895</td>\n",
       "    </tr>\n",
       "    <tr>\n",
       "      <th rowspan=\"2\" valign=\"top\">foo</th>\n",
       "      <th>one</th>\n",
       "      <td>-0.506141</td>\n",
       "      <td>-0.436941</td>\n",
       "    </tr>\n",
       "    <tr>\n",
       "      <th>two</th>\n",
       "      <td>-1.430893</td>\n",
       "      <td>0.120281</td>\n",
       "    </tr>\n",
       "    <tr>\n",
       "      <th rowspan=\"2\" valign=\"top\">qux</th>\n",
       "      <th>one</th>\n",
       "      <td>1.494867</td>\n",
       "      <td>-1.378650</td>\n",
       "    </tr>\n",
       "    <tr>\n",
       "      <th>two</th>\n",
       "      <td>-0.472516</td>\n",
       "      <td>-0.235794</td>\n",
       "    </tr>\n",
       "  </tbody>\n",
       "</table>\n",
       "</div>"
      ],
      "text/plain": [
       "                     A         B\n",
       "first second                    \n",
       "bar   one     0.306013  1.255840\n",
       "      two    -0.197295  0.913461\n",
       "baz   one     0.765388  0.811382\n",
       "      two    -0.382991 -0.402895\n",
       "foo   one    -0.506141 -0.436941\n",
       "      two    -1.430893  0.120281\n",
       "qux   one     1.494867 -1.378650\n",
       "      two    -0.472516 -0.235794"
      ]
     },
     "execution_count": 84,
     "metadata": {},
     "output_type": "execute_result"
    }
   ],
   "source": [
    "df = pd.DataFrame(np.random.randn(8, 2), index = index, columns = ['A', 'B'])\n",
    "df"
   ]
  },
  {
   "cell_type": "code",
   "execution_count": 85,
   "metadata": {
    "collapsed": true
   },
   "outputs": [
    {
     "data": {
      "text/html": [
       "<div style=\"max-height:1000px;max-width:1500px;overflow:auto;\">\n",
       "<table border=\"1\" class=\"dataframe\">\n",
       "  <thead>\n",
       "    <tr style=\"text-align: right;\">\n",
       "      <th></th>\n",
       "      <th></th>\n",
       "      <th>A</th>\n",
       "      <th>B</th>\n",
       "    </tr>\n",
       "    <tr>\n",
       "      <th>first</th>\n",
       "      <th>second</th>\n",
       "      <th></th>\n",
       "      <th></th>\n",
       "    </tr>\n",
       "  </thead>\n",
       "  <tbody>\n",
       "    <tr>\n",
       "      <th rowspan=\"2\" valign=\"top\">bar</th>\n",
       "      <th>one</th>\n",
       "      <td>0.306013</td>\n",
       "      <td>1.255840</td>\n",
       "    </tr>\n",
       "    <tr>\n",
       "      <th>two</th>\n",
       "      <td>-0.197295</td>\n",
       "      <td>0.913461</td>\n",
       "    </tr>\n",
       "    <tr>\n",
       "      <th rowspan=\"2\" valign=\"top\">baz</th>\n",
       "      <th>one</th>\n",
       "      <td>0.765388</td>\n",
       "      <td>0.811382</td>\n",
       "    </tr>\n",
       "    <tr>\n",
       "      <th>two</th>\n",
       "      <td>-0.382991</td>\n",
       "      <td>-0.402895</td>\n",
       "    </tr>\n",
       "  </tbody>\n",
       "</table>\n",
       "</div>"
      ],
      "text/plain": [
       "                     A         B\n",
       "first second                    \n",
       "bar   one     0.306013  1.255840\n",
       "      two    -0.197295  0.913461\n",
       "baz   one     0.765388  0.811382\n",
       "      two    -0.382991 -0.402895"
      ]
     },
     "execution_count": 85,
     "metadata": {},
     "output_type": "execute_result"
    }
   ],
   "source": [
    "df2 = df[:4]\n",
    "df2"
   ]
  },
  {
   "cell_type": "code",
   "execution_count": 86,
   "metadata": {
    "collapsed": true
   },
   "outputs": [
    {
     "data": {
      "text/plain": [
       "first  second   \n",
       "bar    one     A    0.306013\n",
       "               B    1.255840\n",
       "       two     A   -0.197295\n",
       "               B    0.913461\n",
       "baz    one     A    0.765388\n",
       "               B    0.811382\n",
       "       two     A   -0.382991\n",
       "               B   -0.402895\n",
       "dtype: float64"
      ]
     },
     "execution_count": 86,
     "metadata": {},
     "output_type": "execute_result"
    }
   ],
   "source": [
    "stacked = df2.stack()\n",
    "stacked"
   ]
  },
  {
   "cell_type": "code",
   "execution_count": 87,
   "metadata": {
    "collapsed": true
   },
   "outputs": [
    {
     "data": {
      "text/html": [
       "<div style=\"max-height:1000px;max-width:1500px;overflow:auto;\">\n",
       "<table border=\"1\" class=\"dataframe\">\n",
       "  <thead>\n",
       "    <tr style=\"text-align: right;\">\n",
       "      <th></th>\n",
       "      <th>first</th>\n",
       "      <th>bar</th>\n",
       "      <th>baz</th>\n",
       "    </tr>\n",
       "    <tr>\n",
       "      <th>second</th>\n",
       "      <th></th>\n",
       "      <th></th>\n",
       "      <th></th>\n",
       "    </tr>\n",
       "  </thead>\n",
       "  <tbody>\n",
       "    <tr>\n",
       "      <th rowspan=\"2\" valign=\"top\">one</th>\n",
       "      <th>A</th>\n",
       "      <td>0.306013</td>\n",
       "      <td>0.765388</td>\n",
       "    </tr>\n",
       "    <tr>\n",
       "      <th>B</th>\n",
       "      <td>1.255840</td>\n",
       "      <td>0.811382</td>\n",
       "    </tr>\n",
       "    <tr>\n",
       "      <th rowspan=\"2\" valign=\"top\">two</th>\n",
       "      <th>A</th>\n",
       "      <td>-0.197295</td>\n",
       "      <td>-0.382991</td>\n",
       "    </tr>\n",
       "    <tr>\n",
       "      <th>B</th>\n",
       "      <td>0.913461</td>\n",
       "      <td>-0.402895</td>\n",
       "    </tr>\n",
       "  </tbody>\n",
       "</table>\n",
       "</div>"
      ],
      "text/plain": [
       "first          bar       baz\n",
       "second                      \n",
       "one    A  0.306013  0.765388\n",
       "       B  1.255840  0.811382\n",
       "two    A -0.197295 -0.382991\n",
       "       B  0.913461 -0.402895"
      ]
     },
     "execution_count": 87,
     "metadata": {},
     "output_type": "execute_result"
    }
   ],
   "source": [
    "stacked.unstack(0)"
   ]
  },
  {
   "cell_type": "markdown",
   "metadata": {},
   "source": [
    "## Pivot Tables: convert row to col/col to row"
   ]
  },
  {
   "cell_type": "code",
   "execution_count": 88,
   "metadata": {
    "collapsed": true
   },
   "outputs": [
    {
     "data": {
      "text/html": [
       "<div style=\"max-height:1000px;max-width:1500px;overflow:auto;\">\n",
       "<table border=\"1\" class=\"dataframe\">\n",
       "  <thead>\n",
       "    <tr style=\"text-align: right;\">\n",
       "      <th></th>\n",
       "      <th>A</th>\n",
       "      <th>B</th>\n",
       "      <th>C</th>\n",
       "      <th>D</th>\n",
       "      <th>E</th>\n",
       "    </tr>\n",
       "  </thead>\n",
       "  <tbody>\n",
       "    <tr>\n",
       "      <th>0</th>\n",
       "      <td>one</td>\n",
       "      <td>A</td>\n",
       "      <td>foo</td>\n",
       "      <td>-0.497203</td>\n",
       "      <td>-0.870454</td>\n",
       "    </tr>\n",
       "    <tr>\n",
       "      <th>1</th>\n",
       "      <td>one</td>\n",
       "      <td>B</td>\n",
       "      <td>foo</td>\n",
       "      <td>0.389975</td>\n",
       "      <td>0.895622</td>\n",
       "    </tr>\n",
       "    <tr>\n",
       "      <th>2</th>\n",
       "      <td>two</td>\n",
       "      <td>C</td>\n",
       "      <td>foo</td>\n",
       "      <td>-0.206902</td>\n",
       "      <td>-0.562737</td>\n",
       "    </tr>\n",
       "    <tr>\n",
       "      <th>3</th>\n",
       "      <td>three</td>\n",
       "      <td>A</td>\n",
       "      <td>bar</td>\n",
       "      <td>1.240001</td>\n",
       "      <td>0.912450</td>\n",
       "    </tr>\n",
       "    <tr>\n",
       "      <th>4</th>\n",
       "      <td>one</td>\n",
       "      <td>B</td>\n",
       "      <td>bar</td>\n",
       "      <td>1.188392</td>\n",
       "      <td>0.493197</td>\n",
       "    </tr>\n",
       "    <tr>\n",
       "      <th>5</th>\n",
       "      <td>one</td>\n",
       "      <td>C</td>\n",
       "      <td>bar</td>\n",
       "      <td>-0.596450</td>\n",
       "      <td>-0.521180</td>\n",
       "    </tr>\n",
       "    <tr>\n",
       "      <th>6</th>\n",
       "      <td>two</td>\n",
       "      <td>A</td>\n",
       "      <td>foo</td>\n",
       "      <td>-0.861538</td>\n",
       "      <td>-0.321827</td>\n",
       "    </tr>\n",
       "    <tr>\n",
       "      <th>7</th>\n",
       "      <td>three</td>\n",
       "      <td>B</td>\n",
       "      <td>foo</td>\n",
       "      <td>-0.019569</td>\n",
       "      <td>-0.344544</td>\n",
       "    </tr>\n",
       "    <tr>\n",
       "      <th>8</th>\n",
       "      <td>one</td>\n",
       "      <td>C</td>\n",
       "      <td>foo</td>\n",
       "      <td>-0.317591</td>\n",
       "      <td>0.086169</td>\n",
       "    </tr>\n",
       "    <tr>\n",
       "      <th>9</th>\n",
       "      <td>one</td>\n",
       "      <td>A</td>\n",
       "      <td>bar</td>\n",
       "      <td>1.243131</td>\n",
       "      <td>1.522866</td>\n",
       "    </tr>\n",
       "    <tr>\n",
       "      <th>10</th>\n",
       "      <td>two</td>\n",
       "      <td>B</td>\n",
       "      <td>bar</td>\n",
       "      <td>1.779272</td>\n",
       "      <td>1.092390</td>\n",
       "    </tr>\n",
       "    <tr>\n",
       "      <th>11</th>\n",
       "      <td>three</td>\n",
       "      <td>C</td>\n",
       "      <td>bar</td>\n",
       "      <td>0.297339</td>\n",
       "      <td>0.657651</td>\n",
       "    </tr>\n",
       "  </tbody>\n",
       "</table>\n",
       "</div>"
      ],
      "text/plain": [
       "        A  B    C         D         E\n",
       "0     one  A  foo -0.497203 -0.870454\n",
       "1     one  B  foo  0.389975  0.895622\n",
       "2     two  C  foo -0.206902 -0.562737\n",
       "3   three  A  bar  1.240001  0.912450\n",
       "4     one  B  bar  1.188392  0.493197\n",
       "5     one  C  bar -0.596450 -0.521180\n",
       "6     two  A  foo -0.861538 -0.321827\n",
       "7   three  B  foo -0.019569 -0.344544\n",
       "8     one  C  foo -0.317591  0.086169\n",
       "9     one  A  bar  1.243131  1.522866\n",
       "10    two  B  bar  1.779272  1.092390\n",
       "11  three  C  bar  0.297339  0.657651"
      ]
     },
     "execution_count": 88,
     "metadata": {},
     "output_type": "execute_result"
    }
   ],
   "source": [
    "df = pd.DataFrame({'A' : ['one', 'one', 'two', 'three'] * 3,\n",
    "'B' : ['A', 'B', 'C'] * 4,\n",
    "'C' : ['foo', 'foo', 'foo', 'bar', 'bar', 'bar'] * 2,\n",
    "'D' : np.random.randn(12),\n",
    "'E' : np.random.randn(12)})\n",
    "df"
   ]
  },
  {
   "cell_type": "code",
   "execution_count": 89,
   "metadata": {
    "collapsed": true
   },
   "outputs": [
    {
     "data": {
      "text/html": [
       "<div style=\"max-height:1000px;max-width:1500px;overflow:auto;\">\n",
       "<table border=\"1\" class=\"dataframe\">\n",
       "  <thead>\n",
       "    <tr style=\"text-align: right;\">\n",
       "      <th></th>\n",
       "      <th>C</th>\n",
       "      <th>bar</th>\n",
       "      <th>foo</th>\n",
       "    </tr>\n",
       "    <tr>\n",
       "      <th>A</th>\n",
       "      <th>B</th>\n",
       "      <th></th>\n",
       "      <th></th>\n",
       "    </tr>\n",
       "  </thead>\n",
       "  <tbody>\n",
       "    <tr>\n",
       "      <th rowspan=\"3\" valign=\"top\">one</th>\n",
       "      <th>A</th>\n",
       "      <td>1.243131</td>\n",
       "      <td>-0.497203</td>\n",
       "    </tr>\n",
       "    <tr>\n",
       "      <th>B</th>\n",
       "      <td>1.188392</td>\n",
       "      <td>0.389975</td>\n",
       "    </tr>\n",
       "    <tr>\n",
       "      <th>C</th>\n",
       "      <td>-0.596450</td>\n",
       "      <td>-0.317591</td>\n",
       "    </tr>\n",
       "    <tr>\n",
       "      <th rowspan=\"3\" valign=\"top\">three</th>\n",
       "      <th>A</th>\n",
       "      <td>1.240001</td>\n",
       "      <td>NaN</td>\n",
       "    </tr>\n",
       "    <tr>\n",
       "      <th>B</th>\n",
       "      <td>NaN</td>\n",
       "      <td>-0.019569</td>\n",
       "    </tr>\n",
       "    <tr>\n",
       "      <th>C</th>\n",
       "      <td>0.297339</td>\n",
       "      <td>NaN</td>\n",
       "    </tr>\n",
       "    <tr>\n",
       "      <th rowspan=\"3\" valign=\"top\">two</th>\n",
       "      <th>A</th>\n",
       "      <td>NaN</td>\n",
       "      <td>-0.861538</td>\n",
       "    </tr>\n",
       "    <tr>\n",
       "      <th>B</th>\n",
       "      <td>1.779272</td>\n",
       "      <td>NaN</td>\n",
       "    </tr>\n",
       "    <tr>\n",
       "      <th>C</th>\n",
       "      <td>NaN</td>\n",
       "      <td>-0.206902</td>\n",
       "    </tr>\n",
       "  </tbody>\n",
       "</table>\n",
       "</div>"
      ],
      "text/plain": [
       "C             bar       foo\n",
       "A     B                    \n",
       "one   A  1.243131 -0.497203\n",
       "      B  1.188392  0.389975\n",
       "      C -0.596450 -0.317591\n",
       "three A  1.240001       NaN\n",
       "      B       NaN -0.019569\n",
       "      C  0.297339       NaN\n",
       "two   A       NaN -0.861538\n",
       "      B  1.779272       NaN\n",
       "      C       NaN -0.206902"
      ]
     },
     "execution_count": 89,
     "metadata": {},
     "output_type": "execute_result"
    }
   ],
   "source": [
    "pd.pivot_table(df, values = 'D', index = ['A', 'B'], columns = ['C'])"
   ]
  },
  {
   "cell_type": "markdown",
   "metadata": {},
   "source": [
    "### set_index: convert row to column"
   ]
  },
  {
   "cell_type": "code",
   "execution_count": 140,
   "metadata": {
    "collapsed": true
   },
   "outputs": [
    {
     "name": "stdout",
     "output_type": "stream",
     "text": [
      "                    D         E\n",
      "A     B C                      \n",
      "one   A foo -0.497203 -0.870454\n",
      "      B foo  0.389975  0.895622\n",
      "two   C foo -0.206902 -0.562737\n",
      "three A bar  1.240001  0.912450\n",
      "one   B bar  1.188392  0.493197\n",
      "      C bar -0.596450 -0.521180\n",
      "two   A foo -0.861538 -0.321827\n",
      "three B foo -0.019569 -0.344544\n",
      "one   C foo -0.317591  0.086169\n",
      "      A bar  1.243131  1.522866\n",
      "two   B bar  1.779272  1.092390\n",
      "three C bar  0.297339  0.657651\n"
     ]
    },
    {
     "data": {
      "text/html": [
       "<div style=\"max-height:1000px;max-width:1500px;overflow:auto;\">\n",
       "<table border=\"1\" class=\"dataframe\">\n",
       "  <thead>\n",
       "    <tr>\n",
       "      <th></th>\n",
       "      <th></th>\n",
       "      <th colspan=\"2\" halign=\"left\">D</th>\n",
       "    </tr>\n",
       "    <tr>\n",
       "      <th></th>\n",
       "      <th>C</th>\n",
       "      <th>bar</th>\n",
       "      <th>foo</th>\n",
       "    </tr>\n",
       "    <tr>\n",
       "      <th>A</th>\n",
       "      <th>B</th>\n",
       "      <th></th>\n",
       "      <th></th>\n",
       "    </tr>\n",
       "  </thead>\n",
       "  <tbody>\n",
       "    <tr>\n",
       "      <th rowspan=\"3\" valign=\"top\">one</th>\n",
       "      <th>A</th>\n",
       "      <td>1.243131</td>\n",
       "      <td>-0.497203</td>\n",
       "    </tr>\n",
       "    <tr>\n",
       "      <th>B</th>\n",
       "      <td>1.188392</td>\n",
       "      <td>0.389975</td>\n",
       "    </tr>\n",
       "    <tr>\n",
       "      <th>C</th>\n",
       "      <td>-0.596450</td>\n",
       "      <td>-0.317591</td>\n",
       "    </tr>\n",
       "    <tr>\n",
       "      <th rowspan=\"3\" valign=\"top\">three</th>\n",
       "      <th>A</th>\n",
       "      <td>1.240001</td>\n",
       "      <td>NaN</td>\n",
       "    </tr>\n",
       "    <tr>\n",
       "      <th>B</th>\n",
       "      <td>NaN</td>\n",
       "      <td>-0.019569</td>\n",
       "    </tr>\n",
       "    <tr>\n",
       "      <th>C</th>\n",
       "      <td>0.297339</td>\n",
       "      <td>NaN</td>\n",
       "    </tr>\n",
       "    <tr>\n",
       "      <th rowspan=\"3\" valign=\"top\">two</th>\n",
       "      <th>A</th>\n",
       "      <td>NaN</td>\n",
       "      <td>-0.861538</td>\n",
       "    </tr>\n",
       "    <tr>\n",
       "      <th>B</th>\n",
       "      <td>1.779272</td>\n",
       "      <td>NaN</td>\n",
       "    </tr>\n",
       "    <tr>\n",
       "      <th>C</th>\n",
       "      <td>NaN</td>\n",
       "      <td>-0.206902</td>\n",
       "    </tr>\n",
       "  </tbody>\n",
       "</table>\n",
       "</div>"
      ],
      "text/plain": [
       "                D          \n",
       "C             bar       foo\n",
       "A     B                    \n",
       "one   A  1.243131 -0.497203\n",
       "      B  1.188392  0.389975\n",
       "      C -0.596450 -0.317591\n",
       "three A  1.240001       NaN\n",
       "      B       NaN -0.019569\n",
       "      C  0.297339       NaN\n",
       "two   A       NaN -0.861538\n",
       "      B  1.779272       NaN\n",
       "      C       NaN -0.206902"
      ]
     },
     "execution_count": 140,
     "metadata": {},
     "output_type": "execute_result"
    }
   ],
   "source": [
    "df2 = df.set_index(['A', 'B', 'C'])\n",
    "print df2\n",
    "df3 = df2.unstack('C').drop('E', axis = 1)\n",
    "df3"
   ]
  },
  {
   "cell_type": "code",
   "execution_count": 147,
   "metadata": {
    "collapsed": true
   },
   "outputs": [
    {
     "data": {
      "text/html": [
       "<div style=\"max-height:1000px;max-width:1500px;overflow:auto;\">\n",
       "<table border=\"1\" class=\"dataframe\">\n",
       "  <thead>\n",
       "    <tr style=\"text-align: right;\">\n",
       "      <th></th>\n",
       "      <th>A</th>\n",
       "      <th>B</th>\n",
       "      <th>C</th>\n",
       "      <th>variable</th>\n",
       "      <th>value</th>\n",
       "    </tr>\n",
       "  </thead>\n",
       "  <tbody>\n",
       "    <tr>\n",
       "      <th>0</th>\n",
       "      <td>one</td>\n",
       "      <td>A</td>\n",
       "      <td>foo</td>\n",
       "      <td>D</td>\n",
       "      <td>-0.497203</td>\n",
       "    </tr>\n",
       "    <tr>\n",
       "      <th>1</th>\n",
       "      <td>one</td>\n",
       "      <td>B</td>\n",
       "      <td>foo</td>\n",
       "      <td>D</td>\n",
       "      <td>0.389975</td>\n",
       "    </tr>\n",
       "    <tr>\n",
       "      <th>2</th>\n",
       "      <td>two</td>\n",
       "      <td>C</td>\n",
       "      <td>foo</td>\n",
       "      <td>D</td>\n",
       "      <td>-0.206902</td>\n",
       "    </tr>\n",
       "    <tr>\n",
       "      <th>3</th>\n",
       "      <td>three</td>\n",
       "      <td>A</td>\n",
       "      <td>bar</td>\n",
       "      <td>D</td>\n",
       "      <td>1.240001</td>\n",
       "    </tr>\n",
       "    <tr>\n",
       "      <th>4</th>\n",
       "      <td>one</td>\n",
       "      <td>B</td>\n",
       "      <td>bar</td>\n",
       "      <td>D</td>\n",
       "      <td>1.188392</td>\n",
       "    </tr>\n",
       "    <tr>\n",
       "      <th>5</th>\n",
       "      <td>one</td>\n",
       "      <td>C</td>\n",
       "      <td>bar</td>\n",
       "      <td>D</td>\n",
       "      <td>-0.596450</td>\n",
       "    </tr>\n",
       "    <tr>\n",
       "      <th>6</th>\n",
       "      <td>two</td>\n",
       "      <td>A</td>\n",
       "      <td>foo</td>\n",
       "      <td>D</td>\n",
       "      <td>-0.861538</td>\n",
       "    </tr>\n",
       "    <tr>\n",
       "      <th>7</th>\n",
       "      <td>three</td>\n",
       "      <td>B</td>\n",
       "      <td>foo</td>\n",
       "      <td>D</td>\n",
       "      <td>-0.019569</td>\n",
       "    </tr>\n",
       "    <tr>\n",
       "      <th>8</th>\n",
       "      <td>one</td>\n",
       "      <td>C</td>\n",
       "      <td>foo</td>\n",
       "      <td>D</td>\n",
       "      <td>-0.317591</td>\n",
       "    </tr>\n",
       "    <tr>\n",
       "      <th>9</th>\n",
       "      <td>one</td>\n",
       "      <td>A</td>\n",
       "      <td>bar</td>\n",
       "      <td>D</td>\n",
       "      <td>1.243131</td>\n",
       "    </tr>\n",
       "    <tr>\n",
       "      <th>10</th>\n",
       "      <td>two</td>\n",
       "      <td>B</td>\n",
       "      <td>bar</td>\n",
       "      <td>D</td>\n",
       "      <td>1.779272</td>\n",
       "    </tr>\n",
       "    <tr>\n",
       "      <th>11</th>\n",
       "      <td>three</td>\n",
       "      <td>C</td>\n",
       "      <td>bar</td>\n",
       "      <td>D</td>\n",
       "      <td>0.297339</td>\n",
       "    </tr>\n",
       "    <tr>\n",
       "      <th>12</th>\n",
       "      <td>one</td>\n",
       "      <td>A</td>\n",
       "      <td>foo</td>\n",
       "      <td>E</td>\n",
       "      <td>-0.870454</td>\n",
       "    </tr>\n",
       "    <tr>\n",
       "      <th>13</th>\n",
       "      <td>one</td>\n",
       "      <td>B</td>\n",
       "      <td>foo</td>\n",
       "      <td>E</td>\n",
       "      <td>0.895622</td>\n",
       "    </tr>\n",
       "    <tr>\n",
       "      <th>14</th>\n",
       "      <td>two</td>\n",
       "      <td>C</td>\n",
       "      <td>foo</td>\n",
       "      <td>E</td>\n",
       "      <td>-0.562737</td>\n",
       "    </tr>\n",
       "    <tr>\n",
       "      <th>15</th>\n",
       "      <td>three</td>\n",
       "      <td>A</td>\n",
       "      <td>bar</td>\n",
       "      <td>E</td>\n",
       "      <td>0.912450</td>\n",
       "    </tr>\n",
       "    <tr>\n",
       "      <th>16</th>\n",
       "      <td>one</td>\n",
       "      <td>B</td>\n",
       "      <td>bar</td>\n",
       "      <td>E</td>\n",
       "      <td>0.493197</td>\n",
       "    </tr>\n",
       "    <tr>\n",
       "      <th>17</th>\n",
       "      <td>one</td>\n",
       "      <td>C</td>\n",
       "      <td>bar</td>\n",
       "      <td>E</td>\n",
       "      <td>-0.521180</td>\n",
       "    </tr>\n",
       "    <tr>\n",
       "      <th>18</th>\n",
       "      <td>two</td>\n",
       "      <td>A</td>\n",
       "      <td>foo</td>\n",
       "      <td>E</td>\n",
       "      <td>-0.321827</td>\n",
       "    </tr>\n",
       "    <tr>\n",
       "      <th>19</th>\n",
       "      <td>three</td>\n",
       "      <td>B</td>\n",
       "      <td>foo</td>\n",
       "      <td>E</td>\n",
       "      <td>-0.344544</td>\n",
       "    </tr>\n",
       "    <tr>\n",
       "      <th>20</th>\n",
       "      <td>one</td>\n",
       "      <td>C</td>\n",
       "      <td>foo</td>\n",
       "      <td>E</td>\n",
       "      <td>0.086169</td>\n",
       "    </tr>\n",
       "    <tr>\n",
       "      <th>21</th>\n",
       "      <td>one</td>\n",
       "      <td>A</td>\n",
       "      <td>bar</td>\n",
       "      <td>E</td>\n",
       "      <td>1.522866</td>\n",
       "    </tr>\n",
       "    <tr>\n",
       "      <th>22</th>\n",
       "      <td>two</td>\n",
       "      <td>B</td>\n",
       "      <td>bar</td>\n",
       "      <td>E</td>\n",
       "      <td>1.092390</td>\n",
       "    </tr>\n",
       "    <tr>\n",
       "      <th>23</th>\n",
       "      <td>three</td>\n",
       "      <td>C</td>\n",
       "      <td>bar</td>\n",
       "      <td>E</td>\n",
       "      <td>0.657651</td>\n",
       "    </tr>\n",
       "  </tbody>\n",
       "</table>\n",
       "</div>"
      ],
      "text/plain": [
       "        A  B    C variable     value\n",
       "0     one  A  foo        D -0.497203\n",
       "1     one  B  foo        D  0.389975\n",
       "2     two  C  foo        D -0.206902\n",
       "3   three  A  bar        D  1.240001\n",
       "4     one  B  bar        D  1.188392\n",
       "5     one  C  bar        D -0.596450\n",
       "6     two  A  foo        D -0.861538\n",
       "7   three  B  foo        D -0.019569\n",
       "8     one  C  foo        D -0.317591\n",
       "9     one  A  bar        D  1.243131\n",
       "10    two  B  bar        D  1.779272\n",
       "11  three  C  bar        D  0.297339\n",
       "12    one  A  foo        E -0.870454\n",
       "13    one  B  foo        E  0.895622\n",
       "14    two  C  foo        E -0.562737\n",
       "15  three  A  bar        E  0.912450\n",
       "16    one  B  bar        E  0.493197\n",
       "17    one  C  bar        E -0.521180\n",
       "18    two  A  foo        E -0.321827\n",
       "19  three  B  foo        E -0.344544\n",
       "20    one  C  foo        E  0.086169\n",
       "21    one  A  bar        E  1.522866\n",
       "22    two  B  bar        E  1.092390\n",
       "23  three  C  bar        E  0.657651"
      ]
     },
     "execution_count": 147,
     "metadata": {},
     "output_type": "execute_result"
    }
   ],
   "source": [
    "pd.melt(df, id_vars = ['A', 'B', 'C'])"
   ]
  },
  {
   "cell_type": "markdown",
   "metadata": {},
   "source": [
    "## Reset Index - convert index to a column"
   ]
  },
  {
   "cell_type": "code",
   "execution_count": 146,
   "metadata": {
    "collapsed": true
   },
   "outputs": [
    {
     "name": "stdout",
     "output_type": "stream",
     "text": [
      "        A  B    C         D         E\n",
      "0     one  A  foo -0.497203 -0.870454\n",
      "1     one  B  foo  0.389975  0.895622\n",
      "2     two  C  foo -0.206902 -0.562737\n",
      "3   three  A  bar  1.240001  0.912450\n",
      "4     one  B  bar  1.188392  0.493197\n",
      "5     one  C  bar -0.596450 -0.521180\n",
      "6     two  A  foo -0.861538 -0.321827\n",
      "7   three  B  foo -0.019569 -0.344544\n",
      "8     one  C  foo -0.317591  0.086169\n",
      "9     one  A  bar  1.243131  1.522866\n",
      "10    two  B  bar  1.779272  1.092390\n",
      "11  three  C  bar  0.297339  0.657651\n"
     ]
    },
    {
     "data": {
      "text/html": [
       "<div style=\"max-height:1000px;max-width:1500px;overflow:auto;\">\n",
       "<table border=\"1\" class=\"dataframe\">\n",
       "  <thead>\n",
       "    <tr style=\"text-align: right;\">\n",
       "      <th></th>\n",
       "      <th>A</th>\n",
       "      <th>B</th>\n",
       "      <th>C</th>\n",
       "      <th>D</th>\n",
       "      <th>E</th>\n",
       "    </tr>\n",
       "  </thead>\n",
       "  <tbody>\n",
       "    <tr>\n",
       "      <th>0</th>\n",
       "      <td>one</td>\n",
       "      <td>A</td>\n",
       "      <td>foo</td>\n",
       "      <td>-0.497203</td>\n",
       "      <td>-0.870454</td>\n",
       "    </tr>\n",
       "    <tr>\n",
       "      <th>1</th>\n",
       "      <td>one</td>\n",
       "      <td>B</td>\n",
       "      <td>foo</td>\n",
       "      <td>0.389975</td>\n",
       "      <td>0.895622</td>\n",
       "    </tr>\n",
       "    <tr>\n",
       "      <th>2</th>\n",
       "      <td>two</td>\n",
       "      <td>C</td>\n",
       "      <td>foo</td>\n",
       "      <td>-0.206902</td>\n",
       "      <td>-0.562737</td>\n",
       "    </tr>\n",
       "    <tr>\n",
       "      <th>3</th>\n",
       "      <td>three</td>\n",
       "      <td>A</td>\n",
       "      <td>bar</td>\n",
       "      <td>1.240001</td>\n",
       "      <td>0.912450</td>\n",
       "    </tr>\n",
       "    <tr>\n",
       "      <th>4</th>\n",
       "      <td>one</td>\n",
       "      <td>B</td>\n",
       "      <td>bar</td>\n",
       "      <td>1.188392</td>\n",
       "      <td>0.493197</td>\n",
       "    </tr>\n",
       "    <tr>\n",
       "      <th>5</th>\n",
       "      <td>one</td>\n",
       "      <td>C</td>\n",
       "      <td>bar</td>\n",
       "      <td>-0.596450</td>\n",
       "      <td>-0.521180</td>\n",
       "    </tr>\n",
       "    <tr>\n",
       "      <th>6</th>\n",
       "      <td>two</td>\n",
       "      <td>A</td>\n",
       "      <td>foo</td>\n",
       "      <td>-0.861538</td>\n",
       "      <td>-0.321827</td>\n",
       "    </tr>\n",
       "    <tr>\n",
       "      <th>7</th>\n",
       "      <td>three</td>\n",
       "      <td>B</td>\n",
       "      <td>foo</td>\n",
       "      <td>-0.019569</td>\n",
       "      <td>-0.344544</td>\n",
       "    </tr>\n",
       "    <tr>\n",
       "      <th>8</th>\n",
       "      <td>one</td>\n",
       "      <td>C</td>\n",
       "      <td>foo</td>\n",
       "      <td>-0.317591</td>\n",
       "      <td>0.086169</td>\n",
       "    </tr>\n",
       "    <tr>\n",
       "      <th>9</th>\n",
       "      <td>one</td>\n",
       "      <td>A</td>\n",
       "      <td>bar</td>\n",
       "      <td>1.243131</td>\n",
       "      <td>1.522866</td>\n",
       "    </tr>\n",
       "    <tr>\n",
       "      <th>10</th>\n",
       "      <td>two</td>\n",
       "      <td>B</td>\n",
       "      <td>bar</td>\n",
       "      <td>1.779272</td>\n",
       "      <td>1.092390</td>\n",
       "    </tr>\n",
       "    <tr>\n",
       "      <th>11</th>\n",
       "      <td>three</td>\n",
       "      <td>C</td>\n",
       "      <td>bar</td>\n",
       "      <td>0.297339</td>\n",
       "      <td>0.657651</td>\n",
       "    </tr>\n",
       "  </tbody>\n",
       "</table>\n",
       "</div>"
      ],
      "text/plain": [
       "        A  B    C         D         E\n",
       "0     one  A  foo -0.497203 -0.870454\n",
       "1     one  B  foo  0.389975  0.895622\n",
       "2     two  C  foo -0.206902 -0.562737\n",
       "3   three  A  bar  1.240001  0.912450\n",
       "4     one  B  bar  1.188392  0.493197\n",
       "5     one  C  bar -0.596450 -0.521180\n",
       "6     two  A  foo -0.861538 -0.321827\n",
       "7   three  B  foo -0.019569 -0.344544\n",
       "8     one  C  foo -0.317591  0.086169\n",
       "9     one  A  bar  1.243131  1.522866\n",
       "10    two  B  bar  1.779272  1.092390\n",
       "11  three  C  bar  0.297339  0.657651"
      ]
     },
     "execution_count": 146,
     "metadata": {},
     "output_type": "execute_result"
    }
   ],
   "source": [
    "print df\n",
    "df.reset_index(drop = True)"
   ]
  },
  {
   "cell_type": "markdown",
   "metadata": {},
   "source": [
    "# Time Series"
   ]
  },
  {
   "cell_type": "markdown",
   "metadata": {},
   "source": [
    "## frequency conversion (like second to minite data)"
   ]
  },
  {
   "cell_type": "code",
   "execution_count": null,
   "metadata": {
    "collapsed": true
   },
   "outputs": [],
   "source": [
    "rng = pd.date_range('1/1/2012', periods=100, freq='S')\n",
    "ts = pd.Series(np.random.randint(0, 500, len(rng)), index=rng)\n",
    "ts"
   ]
  },
  {
   "cell_type": "code",
   "execution_count": null,
   "metadata": {
    "collapsed": true
   },
   "outputs": [],
   "source": [
    "ts.resample('5Min', how = 'sum')"
   ]
  },
  {
   "cell_type": "markdown",
   "metadata": {},
   "source": [
    "## Time zone representation"
   ]
  },
  {
   "cell_type": "code",
   "execution_count": null,
   "metadata": {
    "collapsed": true
   },
   "outputs": [],
   "source": [
    "rng = pd.date_range('3/6/2012 00:00', periods=5, freq='D')\n",
    "ts = pd.Series(np.random.randn(len(rng)), rng)\n",
    "ts"
   ]
  },
  {
   "cell_type": "code",
   "execution_count": null,
   "metadata": {
    "collapsed": true
   },
   "outputs": [],
   "source": [
    "ts_utc = ts.tz_localize('UTC')\n",
    "ts_utc"
   ]
  },
  {
   "cell_type": "code",
   "execution_count": null,
   "metadata": {
    "collapsed": true
   },
   "outputs": [],
   "source": [
    "#convert to another time zone\n",
    "ts_utc.tz_convert('US/Eastern')"
   ]
  },
  {
   "cell_type": "code",
   "execution_count": null,
   "metadata": {
    "collapsed": true
   },
   "outputs": [],
   "source": [
    "rng = pd.date_range('1/1/2012', periods=5, freq='M')\n",
    "ts = pd.Series(np.random.randn(len(rng)), index=rng)\n",
    "ts"
   ]
  },
  {
   "cell_type": "code",
   "execution_count": null,
   "metadata": {
    "collapsed": true
   },
   "outputs": [],
   "source": [
    "# time span conversion\n",
    "ps = ts.to_period()\n",
    "ps"
   ]
  },
  {
   "cell_type": "code",
   "execution_count": null,
   "metadata": {
    "collapsed": true
   },
   "outputs": [],
   "source": [
    "ps.to_timestamp()"
   ]
  },
  {
   "cell_type": "markdown",
   "metadata": {},
   "source": [
    "# Plotting"
   ]
  },
  {
   "cell_type": "code",
   "execution_count": null,
   "metadata": {
    "collapsed": true
   },
   "outputs": [],
   "source": [
    "ts = pd.Series(np.random.randn(1000), \n",
    "               index=pd.date_range('1/1/2000', periods=1000))"
   ]
  },
  {
   "cell_type": "code",
   "execution_count": null,
   "metadata": {
    "collapsed": false
   },
   "outputs": [],
   "source": [
    "ts = ts.cumsum()\n",
    "ts.plot()"
   ]
  },
  {
   "cell_type": "code",
   "execution_count": null,
   "metadata": {
    "collapsed": false
   },
   "outputs": [],
   "source": [
    "df = pd.DataFrame(np.random.randn(1000, 4),\n",
    "index=ts.index, columns=['A', 'B', 'C', 'D'])\n",
    "df = df.cumsum()\n",
    "plt.figure()\n",
    "df.plot()"
   ]
  },
  {
   "cell_type": "markdown",
   "metadata": {},
   "source": [
    "# I/O"
   ]
  },
  {
   "cell_type": "code",
   "execution_count": null,
   "metadata": {
    "collapsed": true
   },
   "outputs": [],
   "source": [
    "df.to_csv('foo.csv')"
   ]
  },
  {
   "cell_type": "code",
   "execution_count": null,
   "metadata": {
    "collapsed": true
   },
   "outputs": [],
   "source": [
    "ls"
   ]
  },
  {
   "cell_type": "code",
   "execution_count": null,
   "metadata": {
    "collapsed": false
   },
   "outputs": [],
   "source": [
    "aa = pd.read_csv('foo.csv')\n",
    "aa"
   ]
  },
  {
   "cell_type": "markdown",
   "metadata": {},
   "source": [
    "## Excel"
   ]
  },
  {
   "cell_type": "code",
   "execution_count": null,
   "metadata": {
    "collapsed": true
   },
   "outputs": [],
   "source": [
    "df.to_excel('foo.xlsx', sheet_name = 'Sheet1')"
   ]
  },
  {
   "cell_type": "code",
   "execution_count": null,
   "metadata": {
    "collapsed": false
   },
   "outputs": [],
   "source": [
    "\n",
    "pd.read_excel('foo.xlsx', 'Sheet1', index_col = None, na_values = ['NA'])"
   ]
  },
  {
   "cell_type": "markdown",
   "metadata": {},
   "source": [
    "## Filtering/Sampling"
   ]
  },
  {
   "cell_type": "code",
   "execution_count": 6,
   "metadata": {
    "collapsed": false
   },
   "outputs": [
    {
     "name": "stdout",
     "output_type": "stream",
     "text": [
      "          0         1         2\n",
      "0 -0.201883  0.212899  0.908256\n",
      "1 -0.167004 -0.607268 -0.244057\n",
      "2 -2.032865  1.208505  1.658248\n",
      "3 -0.222002  1.525824 -1.495721\n",
      "4 -1.476540  1.125183 -0.618756\n",
      "5 -1.076687 -0.795009  1.156377\n",
      "6  0.035613  0.749159  0.077703\n",
      "7  0.212349  0.508544  0.357414\n",
      "8  0.775127  0.308759  0.660430\n",
      "9 -0.525249  0.021875 -0.680428\n",
      "          0         1         2\n",
      "2 -2.032865  1.208505  1.658248\n",
      "3 -0.222002  1.525824 -1.495721\n",
      "4 -1.476540  1.125183 -0.618756\n",
      "5 -1.076687 -0.795009  1.156377\n"
     ]
    }
   ],
   "source": [
    "ddff = pd.DataFrame(np.random.randn(10,3))\n",
    "print ddff\n",
    "print ddff[(ddff > 1).any(1)] # get any line with elements > 1"
   ]
  },
  {
   "cell_type": "code",
   "execution_count": 7,
   "metadata": {
    "collapsed": false
   },
   "outputs": [
    {
     "data": {
      "text/html": [
       "<div style=\"max-height:1000px;max-width:1500px;overflow:auto;\">\n",
       "<table border=\"1\" class=\"dataframe\">\n",
       "  <thead>\n",
       "    <tr style=\"text-align: right;\">\n",
       "      <th></th>\n",
       "      <th>0</th>\n",
       "      <th>1</th>\n",
       "      <th>2</th>\n",
       "    </tr>\n",
       "  </thead>\n",
       "  <tbody>\n",
       "    <tr>\n",
       "      <th>8</th>\n",
       "      <td>0.775127</td>\n",
       "      <td>0.308759</td>\n",
       "      <td>0.660430</td>\n",
       "    </tr>\n",
       "    <tr>\n",
       "      <th>6</th>\n",
       "      <td>0.035613</td>\n",
       "      <td>0.749159</td>\n",
       "      <td>0.077703</td>\n",
       "    </tr>\n",
       "    <tr>\n",
       "      <th>7</th>\n",
       "      <td>0.212349</td>\n",
       "      <td>0.508544</td>\n",
       "      <td>0.357414</td>\n",
       "    </tr>\n",
       "    <tr>\n",
       "      <th>1</th>\n",
       "      <td>-0.167004</td>\n",
       "      <td>-0.607268</td>\n",
       "      <td>-0.244057</td>\n",
       "    </tr>\n",
       "    <tr>\n",
       "      <th>0</th>\n",
       "      <td>-0.201883</td>\n",
       "      <td>0.212899</td>\n",
       "      <td>0.908256</td>\n",
       "    </tr>\n",
       "    <tr>\n",
       "      <th>3</th>\n",
       "      <td>-0.222002</td>\n",
       "      <td>1.525824</td>\n",
       "      <td>-1.495721</td>\n",
       "    </tr>\n",
       "    <tr>\n",
       "      <th>4</th>\n",
       "      <td>-1.476540</td>\n",
       "      <td>1.125183</td>\n",
       "      <td>-0.618756</td>\n",
       "    </tr>\n",
       "    <tr>\n",
       "      <th>9</th>\n",
       "      <td>-0.525249</td>\n",
       "      <td>0.021875</td>\n",
       "      <td>-0.680428</td>\n",
       "    </tr>\n",
       "    <tr>\n",
       "      <th>5</th>\n",
       "      <td>-1.076687</td>\n",
       "      <td>-0.795009</td>\n",
       "      <td>1.156377</td>\n",
       "    </tr>\n",
       "    <tr>\n",
       "      <th>2</th>\n",
       "      <td>-2.032865</td>\n",
       "      <td>1.208505</td>\n",
       "      <td>1.658248</td>\n",
       "    </tr>\n",
       "  </tbody>\n",
       "</table>\n",
       "</div>"
      ],
      "text/plain": [
       "          0         1         2\n",
       "8  0.775127  0.308759  0.660430\n",
       "6  0.035613  0.749159  0.077703\n",
       "7  0.212349  0.508544  0.357414\n",
       "1 -0.167004 -0.607268 -0.244057\n",
       "0 -0.201883  0.212899  0.908256\n",
       "3 -0.222002  1.525824 -1.495721\n",
       "4 -1.476540  1.125183 -0.618756\n",
       "9 -0.525249  0.021875 -0.680428\n",
       "5 -1.076687 -0.795009  1.156377\n",
       "2 -2.032865  1.208505  1.658248"
      ]
     },
     "execution_count": 7,
     "metadata": {},
     "output_type": "execute_result"
    }
   ],
   "source": [
    "ddff.take(np.random.permutation(len(ddff)))"
   ]
  },
  {
   "cell_type": "markdown",
   "metadata": {},
   "source": [
    "## Dummy variable and BIN"
   ]
  },
  {
   "cell_type": "code",
   "execution_count": 16,
   "metadata": {
    "collapsed": false
   },
   "outputs": [
    {
     "data": {
      "text/html": [
       "<div style=\"max-height:1000px;max-width:1500px;overflow:auto;\">\n",
       "<table border=\"1\" class=\"dataframe\">\n",
       "  <thead>\n",
       "    <tr style=\"text-align: right;\">\n",
       "      <th></th>\n",
       "      <th>tiny</th>\n",
       "      <th>pitty</th>\n",
       "      <th>poor</th>\n",
       "      <th>okay</th>\n",
       "      <th>see</th>\n",
       "    </tr>\n",
       "  </thead>\n",
       "  <tbody>\n",
       "    <tr>\n",
       "      <th>0</th>\n",
       "      <td>0</td>\n",
       "      <td>0</td>\n",
       "      <td>1</td>\n",
       "      <td>0</td>\n",
       "      <td>0</td>\n",
       "    </tr>\n",
       "    <tr>\n",
       "      <th>1</th>\n",
       "      <td>0</td>\n",
       "      <td>0</td>\n",
       "      <td>1</td>\n",
       "      <td>0</td>\n",
       "      <td>0</td>\n",
       "    </tr>\n",
       "    <tr>\n",
       "      <th>2</th>\n",
       "      <td>1</td>\n",
       "      <td>0</td>\n",
       "      <td>0</td>\n",
       "      <td>0</td>\n",
       "      <td>0</td>\n",
       "    </tr>\n",
       "    <tr>\n",
       "      <th>3</th>\n",
       "      <td>0</td>\n",
       "      <td>0</td>\n",
       "      <td>1</td>\n",
       "      <td>0</td>\n",
       "      <td>0</td>\n",
       "    </tr>\n",
       "    <tr>\n",
       "      <th>4</th>\n",
       "      <td>0</td>\n",
       "      <td>1</td>\n",
       "      <td>0</td>\n",
       "      <td>0</td>\n",
       "      <td>0</td>\n",
       "    </tr>\n",
       "    <tr>\n",
       "      <th>5</th>\n",
       "      <td>0</td>\n",
       "      <td>1</td>\n",
       "      <td>0</td>\n",
       "      <td>0</td>\n",
       "      <td>0</td>\n",
       "    </tr>\n",
       "    <tr>\n",
       "      <th>6</th>\n",
       "      <td>0</td>\n",
       "      <td>0</td>\n",
       "      <td>0</td>\n",
       "      <td>1</td>\n",
       "      <td>0</td>\n",
       "    </tr>\n",
       "    <tr>\n",
       "      <th>7</th>\n",
       "      <td>0</td>\n",
       "      <td>0</td>\n",
       "      <td>0</td>\n",
       "      <td>1</td>\n",
       "      <td>0</td>\n",
       "    </tr>\n",
       "    <tr>\n",
       "      <th>8</th>\n",
       "      <td>0</td>\n",
       "      <td>0</td>\n",
       "      <td>0</td>\n",
       "      <td>1</td>\n",
       "      <td>0</td>\n",
       "    </tr>\n",
       "    <tr>\n",
       "      <th>9</th>\n",
       "      <td>0</td>\n",
       "      <td>0</td>\n",
       "      <td>1</td>\n",
       "      <td>0</td>\n",
       "      <td>0</td>\n",
       "    </tr>\n",
       "  </tbody>\n",
       "</table>\n",
       "</div>"
      ],
      "text/plain": [
       "   tiny  pitty  poor  okay  see\n",
       "0     0      0     1     0    0\n",
       "1     0      0     1     0    0\n",
       "2     1      0     0     0    0\n",
       "3     0      0     1     0    0\n",
       "4     0      1     0     0    0\n",
       "5     0      1     0     0    0\n",
       "6     0      0     0     1    0\n",
       "7     0      0     0     1    0\n",
       "8     0      0     0     1    0\n",
       "9     0      0     1     0    0"
      ]
     },
     "execution_count": 16,
     "metadata": {},
     "output_type": "execute_result"
    }
   ],
   "source": [
    "bins = np.arange(-3, 3, 1)\n",
    "pd.get_dummies(pd.cut(ddff[0], bins, labels = ['tiny', 'pitty', 'poor', 'okay', 'see']))"
   ]
  }
 ],
 "metadata": {
  "kernelspec": {
   "display_name": "Python 2",
   "language": "python",
   "name": "python2"
  },
  "language_info": {
   "codemirror_mode": {
    "name": "ipython",
    "version": 2
   },
   "file_extension": ".py",
   "mimetype": "text/x-python",
   "name": "python",
   "nbconvert_exporter": "python",
   "pygments_lexer": "ipython2",
   "version": "2.7.9"
  }
 },
 "nbformat": 4,
 "nbformat_minor": 0
}
