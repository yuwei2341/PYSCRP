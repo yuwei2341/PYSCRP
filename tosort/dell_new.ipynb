{
 "cells": [
  {
   "cell_type": "markdown",
   "metadata": {},
   "source": [
    "# Use existing website to convert each linked video to mp3 and download"
   ]
  },
  {
   "cell_type": "markdown",
   "metadata": {},
   "source": [
    "Firefox annoyingly open mp3 with iTunes by default and won't save to the disk. A get-around is when the first download is made, select save to disk and do that for all following files. Then just keep looping and all later files will be saved to disk automatically\n",
    "\n",
    "\n",
    "For usage of selenium, refer to:\n",
    "http://irwinkwan.com/2013/04/05/automating-the-web-with-selenium-complete-tasks-automatically-and-write-test-cases/"
   ]
  },
  {
   "cell_type": "code",
   "execution_count": 1,
   "metadata": {
    "collapsed": true,
    "scrolled": false
   },
   "outputs": [],
   "source": [
    "from selenium import webdriver\n",
    "from selenium.common.exceptions import TimeoutException\n",
    "from selenium.webdriver.support.ui import WebDriverWait\n",
    "from selenium.webdriver.support import expected_conditions as EC\n",
    "import time\n",
    "try:\n",
    "    import winsound\n",
    "except:\n",
    "    pass\n",
    "\n",
    "try:\n",
    "    import os\n",
    "except:\n",
    "    pass\n",
    "\n",
    "\n",
    "# Create a new instance of the Firefox driver\n",
    "fp = webdriver.FirefoxProfile()\n",
    "fp.set_preference(\"browser.download.folderList\",2)\n",
    "fp.set_preference(\"browser.download.manager.showWhenStarting\",False)\n",
    "#fp.set_preference(\"browser.download.dir\", os.getcwd())\n",
    "fp.set_preference(\"browser.helperApps.neverAsk.saveToDisk\", \"application/iTunes\")\n",
    "fp.set_preference(\"plugin.disable_full_page_plugin_for_types\", \"audio/mp3\")\n",
    "driver = webdriver.Firefox(firefox_profile=fp)\n",
    "\n",
    "web_url = 'http://outlet.us.dell.com/ARBOnlineSales/Online/InventorySearch.aspx?c=us&cs=22&l=en&s=dfh&brandid=2202&fid=5991&AspxAutoDetectCookieSupport=1'\n"
   ]
  },
  {
   "cell_type": "code",
   "execution_count": null,
   "metadata": {
    "collapsed": true
   },
   "outputs": [],
   "source": [
    "while True:\n",
    "    # go to the home page, locate the element for filling up the vidio link\n",
    "    driver.get(web_url) \n",
    "    try:\n",
    "        inputElement = driver.find_element_by_id(\"LikeConfigGridUC_LikeConfigDetailsRepeater_PriceLabel_0\")\n",
    "        price = float(inputElement.text.split()[1][1:])\n",
    "        print price\n",
    "        if price < 670.0:\n",
    "            try:\n",
    "                winsound.Beep(500,10000)\n",
    "            except:\n",
    "                pass\n",
    "\n",
    "            try:\n",
    "                os.system('say \"your program has finished\"')\n",
    "            except:\n",
    "                pass\n",
    "            print 'Look at me!!!'\n",
    "            time.sleep(40)\n",
    "    except:\n",
    "        pass\n",
    "    time.sleep(40)"
   ]
  },
  {
   "cell_type": "code",
   "execution_count": null,
   "metadata": {
    "collapsed": true
   },
   "outputs": [],
   "source": []
  },
  {
   "cell_type": "code",
   "execution_count": null,
   "metadata": {
    "collapsed": true
   },
   "outputs": [],
   "source": [
    "        inputElement = driver.find_elements_by_class_name('para_small')\n",
    "        for i in inputElement:\n",
    "            if 'Certified Refurbished' in i.text:\n",
    "                i.find_element_by_class_name('anavtest').click()\n",
    "                time.sleep(4)\n",
    "                break"
   ]
  },
  {
   "cell_type": "markdown",
   "metadata": {
    "collapsed": true
   },
   "source": [
    "# download subtitles of the practice"
   ]
  },
  {
   "cell_type": "code",
   "execution_count": 24,
   "metadata": {
    "collapsed": false
   },
   "outputs": [
    {
     "ename": "WebDriverException",
     "evalue": "Message: Can't load the profile. Profile Dir: /var/folders/s_/gg48tdyn1zlg6779md8xbp3r0000gn/T/tmpn5rHly If you specified a log_file in the FirefoxBinary constructor, check it for details.\n",
     "output_type": "error",
     "traceback": [
      "\u001b[0;31m---------------------------------------------------------------------------\u001b[0m",
      "\u001b[0;31mWebDriverException\u001b[0m                        Traceback (most recent call last)",
      "\u001b[0;32m<ipython-input-24-6dfb2cda5f1c>\u001b[0m in \u001b[0;36m<module>\u001b[0;34m()\u001b[0m\n\u001b[1;32m      6\u001b[0m \u001b[0;31m#import winsound\u001b[0m\u001b[0;34m\u001b[0m\u001b[0;34m\u001b[0m\u001b[0m\n\u001b[1;32m      7\u001b[0m \u001b[0;34m\u001b[0m\u001b[0m\n\u001b[0;32m----> 8\u001b[0;31m \u001b[0mdriver\u001b[0m \u001b[0;34m=\u001b[0m \u001b[0mwebdriver\u001b[0m\u001b[0;34m.\u001b[0m\u001b[0mFirefox\u001b[0m\u001b[0;34m(\u001b[0m\u001b[0;34m)\u001b[0m\u001b[0;34m\u001b[0m\u001b[0m\n\u001b[0m\u001b[1;32m      9\u001b[0m \u001b[0;34m\u001b[0m\u001b[0m\n\u001b[1;32m     10\u001b[0m \u001b[0mweb_url\u001b[0m \u001b[0;34m=\u001b[0m \u001b[0;34m'http://subhd.com/search/%E5%BE%8B%E5%B8%88%E6%9C%AC%E8%89%B2/all/page/4'\u001b[0m\u001b[0;34m\u001b[0m\u001b[0m\n",
      "\u001b[0;32m/Library/Frameworks/Python.framework/Versions/2.7/lib/python2.7/site-packages/selenium/webdriver/firefox/webdriver.pyc\u001b[0m in \u001b[0;36m__init__\u001b[0;34m(self, firefox_profile, firefox_binary, timeout, capabilities, proxy, executable_path)\u001b[0m\n\u001b[1;32m     77\u001b[0m         \u001b[0;34m`\u001b[0m\u001b[0mfirefox_options\u001b[0m\u001b[0;34m.\u001b[0m\u001b[0mprofile\u001b[0m\u001b[0;34m`\u001b[0m \u001b[0mto\u001b[0m \u001b[0mbe\u001b[0m \u001b[0mignored\u001b[0m \u001b[0mbecause\u001b[0m \u001b[0mit\u001b[0m \u001b[0;32mis\u001b[0m \u001b[0mconsidered\u001b[0m\u001b[0;34m\u001b[0m\u001b[0m\n\u001b[1;32m     78\u001b[0m         \u001b[0ma\u001b[0m \u001b[0mless\u001b[0m \u001b[0mspecific\u001b[0m \u001b[0msetting\u001b[0m \u001b[0mthan\u001b[0m \u001b[0mthe\u001b[0m \u001b[0mtop\u001b[0m\u001b[0;34m-\u001b[0m\u001b[0mlevel\u001b[0m \u001b[0;34m`\u001b[0m\u001b[0mfirefox_profile\u001b[0m\u001b[0;34m`\u001b[0m\u001b[0;34m\u001b[0m\u001b[0m\n\u001b[0;32m---> 79\u001b[0;31m         \u001b[0mkeyword\u001b[0m \u001b[0margument\u001b[0m\u001b[0;34m.\u001b[0m  \u001b[0mSimilarily\u001b[0m\u001b[0;34m,\u001b[0m \u001b[0;32mif\u001b[0m \u001b[0myou\u001b[0m \u001b[0mhad\u001b[0m \u001b[0mspecified\u001b[0m \u001b[0ma\u001b[0m\u001b[0;34m\u001b[0m\u001b[0m\n\u001b[0m\u001b[1;32m     80\u001b[0m         \u001b[0;34m`\u001b[0m\u001b[0mcapabilities\u001b[0m\u001b[0;34m[\u001b[0m\u001b[0;34m\"firefoxOptions\"\u001b[0m\u001b[0;34m]\u001b[0m\u001b[0;34m[\u001b[0m\u001b[0;34m\"profile\"\u001b[0m\u001b[0;34m]\u001b[0m\u001b[0;34m`\u001b[0m \u001b[0mBase64\u001b[0m \u001b[0mstring\u001b[0m\u001b[0;34m,\u001b[0m\u001b[0;34m\u001b[0m\u001b[0m\n\u001b[1;32m     81\u001b[0m         \u001b[0mthis\u001b[0m \u001b[0mwould\u001b[0m \u001b[0mrank\u001b[0m \u001b[0mbelow\u001b[0m \u001b[0;34m`\u001b[0m\u001b[0mfirefox_options\u001b[0m\u001b[0;34m.\u001b[0m\u001b[0mprofile\u001b[0m\u001b[0;34m`\u001b[0m\u001b[0;34m.\u001b[0m\u001b[0;34m\u001b[0m\u001b[0m\n",
      "\u001b[0;32m/Library/Frameworks/Python.framework/Versions/2.7/lib/python2.7/site-packages/selenium/webdriver/firefox/extension_connection.pyc\u001b[0m in \u001b[0;36m__init__\u001b[0;34m(self, host, firefox_profile, firefox_binary, timeout)\u001b[0m\n\u001b[1;32m     47\u001b[0m         \u001b[0mself\u001b[0m\u001b[0;34m.\u001b[0m\u001b[0mprofile\u001b[0m\u001b[0;34m.\u001b[0m\u001b[0mport\u001b[0m \u001b[0;34m=\u001b[0m \u001b[0mPORT\u001b[0m\u001b[0;34m\u001b[0m\u001b[0m\n\u001b[1;32m     48\u001b[0m         \u001b[0mself\u001b[0m\u001b[0;34m.\u001b[0m\u001b[0mprofile\u001b[0m\u001b[0;34m.\u001b[0m\u001b[0mupdate_preferences\u001b[0m\u001b[0;34m(\u001b[0m\u001b[0;34m)\u001b[0m\u001b[0;34m\u001b[0m\u001b[0m\n\u001b[0;32m---> 49\u001b[0;31m \u001b[0;34m\u001b[0m\u001b[0m\n\u001b[0m\u001b[1;32m     50\u001b[0m         \u001b[0mself\u001b[0m\u001b[0;34m.\u001b[0m\u001b[0mprofile\u001b[0m\u001b[0;34m.\u001b[0m\u001b[0madd_extension\u001b[0m\u001b[0;34m(\u001b[0m\u001b[0;34m)\u001b[0m\u001b[0;34m\u001b[0m\u001b[0m\n\u001b[1;32m     51\u001b[0m \u001b[0;34m\u001b[0m\u001b[0m\n",
      "\u001b[0;32m/Library/Frameworks/Python.framework/Versions/2.7/lib/python2.7/site-packages/selenium/webdriver/firefox/firefox_binary.pyc\u001b[0m in \u001b[0;36mlaunch_browser\u001b[0;34m(self, profile)\u001b[0m\n\u001b[1;32m     66\u001b[0m     \u001b[0;32mdef\u001b[0m \u001b[0mlaunch_browser\u001b[0m\u001b[0;34m(\u001b[0m\u001b[0mself\u001b[0m\u001b[0;34m,\u001b[0m \u001b[0mprofile\u001b[0m\u001b[0;34m,\u001b[0m \u001b[0mtimeout\u001b[0m\u001b[0;34m=\u001b[0m\u001b[0;36m30\u001b[0m\u001b[0;34m)\u001b[0m\u001b[0;34m:\u001b[0m\u001b[0;34m\u001b[0m\u001b[0m\n\u001b[1;32m     67\u001b[0m         \"\"\"Launches the browser for the given profile name.\n\u001b[0;32m---> 68\u001b[0;31m         \u001b[0mIt\u001b[0m \u001b[0;32mis\u001b[0m \u001b[0massumed\u001b[0m \u001b[0mthe\u001b[0m \u001b[0mprofile\u001b[0m \u001b[0malready\u001b[0m \u001b[0mexists\u001b[0m\u001b[0;34m.\u001b[0m\u001b[0;34m\u001b[0m\u001b[0m\n\u001b[0m\u001b[1;32m     69\u001b[0m         \"\"\"\n\u001b[1;32m     70\u001b[0m         \u001b[0mself\u001b[0m\u001b[0;34m.\u001b[0m\u001b[0mprofile\u001b[0m \u001b[0;34m=\u001b[0m \u001b[0mprofile\u001b[0m\u001b[0;34m\u001b[0m\u001b[0m\n",
      "\u001b[0;32m/Library/Frameworks/Python.framework/Versions/2.7/lib/python2.7/site-packages/selenium/webdriver/firefox/firefox_binary.pyc\u001b[0m in \u001b[0;36m_wait_until_connectable\u001b[0;34m(self)\u001b[0m\n\u001b[1;32m    104\u001b[0m                     \u001b[0;34m\"The browser appears to have exited \"\u001b[0m\u001b[0;34m\u001b[0m\u001b[0m\n\u001b[1;32m    105\u001b[0m                     \u001b[0;34m\"before we could connect. If you specified a log_file in \"\u001b[0m\u001b[0;34m\u001b[0m\u001b[0m\n\u001b[0;32m--> 106\u001b[0;31m                     \"the FirefoxBinary constructor, check it for details.\")\n\u001b[0m\u001b[1;32m    107\u001b[0m             \u001b[0;32mif\u001b[0m \u001b[0mcount\u001b[0m \u001b[0;34m>=\u001b[0m \u001b[0mtimeout\u001b[0m\u001b[0;34m:\u001b[0m\u001b[0;34m\u001b[0m\u001b[0m\n\u001b[1;32m    108\u001b[0m                 \u001b[0mself\u001b[0m\u001b[0;34m.\u001b[0m\u001b[0mkill\u001b[0m\u001b[0;34m(\u001b[0m\u001b[0;34m)\u001b[0m\u001b[0;34m\u001b[0m\u001b[0m\n",
      "\u001b[0;31mWebDriverException\u001b[0m: Message: Can't load the profile. Profile Dir: /var/folders/s_/gg48tdyn1zlg6779md8xbp3r0000gn/T/tmpn5rHly If you specified a log_file in the FirefoxBinary constructor, check it for details.\n"
     ]
    }
   ],
   "source": [
    "from selenium import webdriver\n",
    "from selenium.common.exceptions import TimeoutException\n",
    "from selenium.webdriver.support.ui import WebDriverWait\n",
    "from selenium.webdriver.support import expected_conditions as EC\n",
    "import time\n",
    "#import winsound\n",
    "\n",
    "driver = webdriver.Firefox()\n",
    "\n",
    "web_url = 'http://subhd.com/search/%E5%BE%8B%E5%B8%88%E6%9C%AC%E8%89%B2/all/page/4'\n",
    "driver.get(web_url) \n",
    "inputElement = driver.find_elements_by_class_name('d_title')"
   ]
  },
  {
   "cell_type": "code",
   "execution_count": 35,
   "metadata": {
    "collapsed": false,
    "scrolled": false
   },
   "outputs": [
    {
     "ename": "KeyboardInterrupt",
     "evalue": "",
     "output_type": "error",
     "traceback": [
      "\u001b[1;31m---------------------------------------------------------------------------\u001b[0m",
      "\u001b[1;31mKeyboardInterrupt\u001b[0m                         Traceback (most recent call last)",
      "\u001b[1;32m<ipython-input-35-ab12f110f1fe>\u001b[0m in \u001b[0;36m<module>\u001b[1;34m()\u001b[0m\n\u001b[0;32m      6\u001b[0m     \u001b[0mdown_link\u001b[0m \u001b[1;33m=\u001b[0m \u001b[0mdriver\u001b[0m\u001b[1;33m.\u001b[0m\u001b[0mfind_element_by_id\u001b[0m\u001b[1;33m(\u001b[0m\u001b[1;34m'down'\u001b[0m\u001b[1;33m)\u001b[0m\u001b[1;33m\u001b[0m\u001b[0m\n\u001b[0;32m      7\u001b[0m     \u001b[0mdown_link\u001b[0m\u001b[1;33m.\u001b[0m\u001b[0mclick\u001b[0m\u001b[1;33m(\u001b[0m\u001b[1;33m)\u001b[0m\u001b[1;33m\u001b[0m\u001b[0m\n\u001b[1;32m----> 8\u001b[1;33m     \u001b[0mtime\u001b[0m\u001b[1;33m.\u001b[0m\u001b[0msleep\u001b[0m\u001b[1;33m(\u001b[0m\u001b[1;36m5\u001b[0m\u001b[1;33m)\u001b[0m\u001b[1;33m\u001b[0m\u001b[0m\n\u001b[0m\u001b[0;32m      9\u001b[0m     \u001b[0mdriver\u001b[0m\u001b[1;33m.\u001b[0m\u001b[0mclose\u001b[0m\u001b[1;33m(\u001b[0m\u001b[1;33m)\u001b[0m\u001b[1;33m\u001b[0m\u001b[0m\n\u001b[0;32m     10\u001b[0m     \u001b[0mdriver\u001b[0m\u001b[1;33m.\u001b[0m\u001b[0mswitch_to_window\u001b[0m\u001b[1;33m(\u001b[0m\u001b[0mdriver\u001b[0m\u001b[1;33m.\u001b[0m\u001b[0mwindow_handles\u001b[0m\u001b[1;33m[\u001b[0m\u001b[1;36m0\u001b[0m\u001b[1;33m]\u001b[0m\u001b[1;33m)\u001b[0m\u001b[1;33m\u001b[0m\u001b[0m\n",
      "\u001b[1;31mKeyboardInterrupt\u001b[0m: "
     ]
    }
   ],
   "source": [
    "\n",
    "for ii in inputElement:\n",
    "    ii.find_elements_by_xpath(\".//*\")[0].click()\n",
    "    time.sleep(5)\n",
    "    driver.switch_to_window(driver.window_handles[1])\n",
    "    down_link = driver.find_element_by_id('down')\n",
    "    down_link.click()\n",
    "    time.sleep(5)\n",
    "    driver.close()\n",
    "    driver.switch_to_window(driver.window_handles[0])"
   ]
  },
  {
   "cell_type": "code",
   "execution_count": null,
   "metadata": {
    "collapsed": true
   },
   "outputs": [],
   "source": []
  },
  {
   "cell_type": "markdown",
   "metadata": {},
   "source": [
    "# Download http://web.stanford.edu/class/cs259d/ class lectures"
   ]
  },
  {
   "cell_type": "code",
   "execution_count": 20,
   "metadata": {
    "collapsed": true
   },
   "outputs": [],
   "source": [
    "import urllib"
   ]
  },
  {
   "cell_type": "code",
   "execution_count": 21,
   "metadata": {
    "collapsed": true
   },
   "outputs": [],
   "source": [
    "text = '''Event\tDate\tDescription\tCourse Materials\n",
    "Lecture\tJan 9\tIntroduction to NLP and Deep Learning \n",
    "[slides]\tSuggested Readings:\n",
    "[Linear Algebra Review]\n",
    "[Probability Review]\n",
    "[Convex Optimization Review]\n",
    "[More Optimization (SGD) Review]\n",
    "Lecture\tJan 11\tWord Vectors 1 \n",
    "[slides]\tSuggested Readings:\n",
    "[Word2Vec Tutorial - The Skip-Gram Model]\n",
    "[Distributed Representations of Words and Phrases and their Compositionality]\n",
    "[Efficient Estimation of Word Representations in Vector Space]\n",
    "A1 released\tJan 11\tAssignment #1 released\t[Assignment #1][ Written Solutions ]\n",
    "Lecture\tJan 16\tWord Vectors 2 \n",
    "[slides]\tSuggested Readings:\n",
    "[GloVe: Global Vectors for Word Representation]\n",
    "[Improving Distributional Similarity with Lessons Learned fromWord Embeddings]\n",
    "[Evaluation methods for unsupervised word embeddings]\n",
    "Lecture\tJan 18\tNeural Networks \n",
    "[slides]\tSuggested Readings:\n",
    "cs231n notes on [backprop] and [network architectures]\n",
    "[Review of differential calculus]\n",
    "[Natural Language Processing (almost) from Scratch]\n",
    "[Learning Representations by Backpropagating Errors]\n",
    "Review\tJan 19\tPython Refresher\t[ slides ]\n",
    "Lecture\tJan 23\tBackpropagation and Project Advice\n",
    "[slides] [lecture notes]\tSuggested Readings:\n",
    "[Derivatives, Backpropagation, and Vectorization]\n",
    "[Yes you should understand backprop]\n",
    "Lecture\tJan 25\tIntroduction to TensorFlow \n",
    "[slides] [lecture code]\tSuggested Readings:\n",
    "[TensorFlow Basic Usage]\n",
    "A1 Due\tJan 25\tAssignment #1 due\t\n",
    "A2 Released\tJan 25\tAssignment #2 released\t[Assignment #2] [ Written Solutions ]\n",
    "Lecture\tJan 30\tDependency Parsing \n",
    "[slides]\tSuggested Readings:\n",
    "Joakim Nivre. 2004. Incrementality in Deterministic Dependency Parsing. Workshop on Incremental Parsing.\n",
    "Danqi Chen and Christopher D. Manning. 2014. A Fast and Accurate Dependency Parser using Neural Networks. EMNLP 2014.\n",
    "Sandra Kübler, Ryan McDonald, Joakim Nivre. 2009. Dependency Parsing. Morgan and Claypool. [Free access from Stanford campus, only!]\n",
    "Daniel Andor, Chris Alberti, David Weiss, Aliaksei Severyn, Alessandro Presta, Kuzman Ganchev, Slav Petrov, and Michael Collins. 2016. Globally Normalized Transition-Based Neural Networks. ACL 2016.\n",
    "Marie-Catherine de Marneffe, Timothy Dozat, Natalia Silveira, Katri Haverinen, Filip Ginter, Joakim Nivre, and Christopher D. Manning. 2014. Universal Stanford Dependencies: A cross-linguistic typology. Proceedings of the Ninth International Conference on Language Resources and Evaluation (LREC-2014). Revised version for UD v1.\n",
    "Universal Dependencies website\n",
    "Lecture\tFeb 1\tRecurrent Neural Networks and Language Models \n",
    "[slides]\tSuggested Readings:\n",
    "[N-gram Language Models and Perplexity]\n",
    "[The Unreasonable Effectiveness of Recurrent Neural Networks]\n",
    "[Recurrent Neural Networks Tutorial]\n",
    "[Sequence Modeling: Recurrent and Recursive Neural Nets]\n",
    "DFP Released\tFeb 1\tDefault Final Project released\t\n",
    "Lecture\tFeb 6\tVanishing Gradients, Fancy RNNs \n",
    "[slides]\tSuggested Readings:\n",
    "[Understanding LSTM Networks]\n",
    "[Vanishing Gradients Example]\n",
    "Review\tFeb 8\tMidterm Review \n",
    "[slides]\tThis year's midterm will be most similar to practice midterm 3 (the first two are from cs224d). \n",
    "[practice midterm 1] [with solutions] \n",
    "[practice midterm 2] [with solutions] \n",
    "[practice midterm 3] [with solutions]\n",
    "Project Proposal Due\tFeb 8\tFinal Project proposal due\tFinal Project Proposal\n",
    "A2 Due\tFeb 8\tAssignment #2 due\t\n",
    "Alternate Midterm\tFeb 9\tAlternate Midterm\t\n",
    "A3 Released\tFeb 13\tAssignment #3 released\tAssignment #3 [ Written Solutions ]\t\n",
    "Midterm\tFeb 13\tIn-class midterm\tLocation: Memorial Auditorium, Time: 4:30 - 5:50pm \n",
    "[Midterm] \n",
    "[Midterm Solutions]\n",
    "Lecture\tFeb 15\tMachine Translation, Seq2Seq and Attention \n",
    "[slides]\tSuggested Readings:\n",
    "[Statistical Machine Translation slides (see lectures 2/3/4)]\n",
    "[Statistical Machine Translation Book]\n",
    "[BLEU metric]\n",
    "[Original sequence-to-sequence NMT paper (also describes beam search)]\n",
    "[Earlier sequence-to-sequence speech recognition paper (includes detailed beam search alg)]\n",
    "[Original sequence-to-sequence + attention paper]\n",
    "[Guide to attention and other RNN augmentations]\n",
    "[Massive Exploration of Neural Machine Translation Architectures]\n",
    "Lecture\tFeb 20\tAdvanced Attention \n",
    "[slides]\tSuggested Readings:\n",
    "[A Deep Reinforced Model for Abstractive Summarization]\n",
    "[Get To The Point: Summarization with Pointer-Generator Networks]\n",
    "[BlackOut: Speeding up Recurrent Neural Network Language Models with very Large Vocabularies]\n",
    "[Achieving Open Vocabulary Neural Machine Translation with Hybrid Word-Character Models]\n",
    "[Quasi-Recurrent Neural Networks]\n",
    "Lecture\tFeb 22\tTransformer Networks and CNNs\n",
    "[slides]\tSuggested Readings:\n",
    "[Attention Is All You Need]\n",
    "[Layer Normalization]\n",
    "[Convolutional Neural Networks for Sentence Classification]\n",
    "[Improving neural network3s by preventing co-adaptation of feature detectors]\n",
    "[A Convolutional Neural Network for Modelling Sentences]\n",
    "Lecture\tFeb 27\tCoreference Resolution\n",
    "[slides]\tSuggested Readings:\n",
    "[Learning Anaphoricity and Antecedent Ranking Features for Coreference Resolution]\n",
    "[Improving Coreference Resolution by Learning Entity-Level Distributed Representations]\n",
    "[End-to-end Neural Coreference Resolution]\n",
    "[Coreference Demo]\n",
    "A3 Due\tFeb 27\tAssignment #3 due\t\n",
    "Milestone Due\tFeb 28\tFinal project milestone due\tProject Milestone\n",
    "Lecture\tMar 1\tTree Recursive Neural Networks and Constituency Parsing \n",
    "[slides]\t\n",
    "Lecture\tMar 6\tAdvanced Architectures and Memory Networks \n",
    "[slides]\t\n",
    "Lecture\tMar 8\tReinforcement Learning for NLP Guest Lecture \n",
    "[slides]\tSuggested Readings:\n",
    "[A Deep Reinforced Model for Abstractive Summarization]\n",
    "[DCN+: Mixed Objective and Deep Residual Coattention for Question Answering]\n",
    "[Deep Reinforcement Learning for Dialogue Generation]\n",
    "Lecture\tMar 13\tSemi-supervised Learning for NLP \n",
    "[slides]\tSuggested Readings:\n",
    "[Semi-Supervised Sequence Learning]\n",
    "[Learned in Translation: Contextualized Word Vectors]\n",
    "[Deep Contextualized Word Representations]\n",
    "[Adversarial Training Methods for Semi-Supervised Text Classification]\n",
    "Lecture\tMar 15\tFuture of NLP Models, Multi-task Learning and QA Systems \n",
    "[slides]\t\n",
    "Final Project Due\tMar 18\tFinal project due\t\n",
    "Poster Presentation\tMar 21\tFinal project poster presentations\n",
    "5:30-8:30\n",
    "McCaw Hall at the Alumni Center\n",
    "McCaw Hall at the Alumni Center\n",
    "More Details\n",
    "'''"
   ]
  },
  {
   "cell_type": "code",
   "execution_count": 22,
   "metadata": {
    "collapsed": true
   },
   "outputs": [],
   "source": [
    "all_title = [i.split('\\t')[-1].strip() for i in text.split('\\n') if 'Lecture' in i]"
   ]
  },
  {
   "cell_type": "code",
   "execution_count": 34,
   "metadata": {
    "collapsed": true
   },
   "outputs": [],
   "source": [
    "template_url = 'http://web.stanford.edu/class/cs224n/lectures/lecture{}.pdf'\n",
    "for i, k in enumerate(all_title):\n",
    "    try:\n",
    "        urllib.urlretrieve(template_url.format(str(i + 1)), \n",
    "                           './{}_{}.pdf'.format(str(i + 1), k.replace(' ', '_').replace(',', '_')))\n",
    "    except:\n",
    "        print 'Failed for {}'.format(i)\n",
    "        pass\n"
   ]
  },
  {
   "cell_type": "markdown",
   "metadata": {},
   "source": [
    "### 白先勇红楼梦，by index"
   ]
  },
  {
   "cell_type": "code",
   "execution_count": 3,
   "metadata": {
    "collapsed": false
   },
   "outputs": [
    {
     "name": "stdout",
     "output_type": "stream",
     "text": [
      "http://140.112.161.158/vod/102S206/102S206_CT26V01.mp4\n",
      "http://140.112.161.158/vod/102S206/102S206_CT27V01.mp4\n",
      "http://140.112.161.158/vod/102S206/102S206_CT28V01.mp4\n",
      "http://140.112.161.158/vod/102S206/102S206_CT29V01.mp4\n",
      "http://140.112.161.158/vod/102S206/102S206_CT30V01.mp4\n",
      "http://140.112.161.158/vod/102S206/102S206_CT31V01.mp4\n",
      "http://140.112.161.158/vod/102S206/102S206_CT32V01.mp4\n",
      "http://140.112.161.158/vod/102S206/102S206_CT33V01.mp4\n",
      "http://140.112.161.158/vod/102S206/102S206_CT34V01.mp4\n",
      "http://140.112.161.158/vod/102S206/102S206_CT35V01.mp4\n",
      "http://140.112.161.158/vod/102S206/102S206_CT36V01.mp4\n",
      "http://140.112.161.158/vod/102S206/102S206_CT37V01.mp4\n",
      "http://140.112.161.158/vod/102S206/102S206_CT38V01.mp4\n",
      "http://140.112.161.158/vod/102S206/102S206_CT39V01.mp4\n",
      "http://140.112.161.158/vod/102S206/102S206_CT40V01.mp4\n",
      "http://140.112.161.158/vod/102S206/102S206_CT41V01.mp4\n",
      "http://140.112.161.158/vod/102S206/102S206_CT42V01.mp4\n",
      "http://140.112.161.158/vod/102S206/102S206_CT43V01.mp4\n",
      "http://140.112.161.158/vod/102S206/102S206_CT44V01.mp4\n",
      "http://140.112.161.158/vod/102S206/102S206_CT45V01.mp4\n"
     ]
    }
   ],
   "source": [
    "for ii in range(26, 46):\n",
    "    url = 'http://140.112.161.158/vod/102S206/102S206_CT{}V01.mp4'.format(str(ii).zfill(2))\n",
    "    title = \"E:/Reading/Red/RedChamber_{}.mp4\".format(str(ii).zfill(2))\n",
    "    print url\n",
    "    urllib.urlretrieve (url, title)"
   ]
  },
  {
   "cell_type": "code",
   "execution_count": null,
   "metadata": {
    "collapsed": true
   },
   "outputs": [],
   "source": []
  },
  {
   "cell_type": "code",
   "execution_count": null,
   "metadata": {
    "collapsed": true
   },
   "outputs": [],
   "source": []
  },
  {
   "cell_type": "markdown",
   "metadata": {},
   "source": [
    "### Download youtube mp3"
   ]
  },
  {
   "cell_type": "code",
   "execution_count": 18,
   "metadata": {
    "collapsed": false
   },
   "outputs": [],
   "source": [
    "# get the links\n",
    "import urllib\n",
    "from bs4 import *\n",
    "\n",
    "#Islam - 16:40\n",
    "#baseURL = \"https://www.youtube.com/playlist?list=PL7JfALlBnZCt1lf6Gzg11Sgc-iiZn0m-b\"\n",
    "# Predictably Irrational\n",
    "#baseURL = \"https://www.youtube.com/playlist?list=PLRk6tqWzeieUqgjeTXTRREyGNG_s9uu3Y\"\n",
    "# Emotion\n",
    "#baseURL = \"https://www.youtube.com/playlist?list=PLh9mgdi4rNewieO9Dsj-OhNBC9bF4FoRp\"\n",
    "# social theory\n",
    "#baseURL = \"https://www.youtube.com/playlist?list=PLDF7B08FF8564D1FE&feature=plcp\"\n",
    "# chinese novels\n",
    "#baseURL = \"https://www.youtube.com/playlist?list=PLpuwNaSkRcPea012OoQmaHX2OiGP4rmsO\"\n",
    "# chinese lectures -- literature\n",
    "#baseURL = \"https://www.youtube.com/playlist?list=PLWTGuoT3s5eTYZP156rV07ninQXTGnZMQ\"\n",
    "# chinese lectures -- history\n",
    "# baseURL = \"https://www.youtube.com/playlist?list=PLWTGuoT3s5eRI3tSIAdxNt5FOofgTyDZD\"\n",
    "# law\n",
    "baseURL = \"https://www.youtube.com/playlist?list=PLh9mgdi4rNeyfbeQuCxF2nGCMmCcJPoIU\"\n",
    "\n",
    "\n",
    "r = urllib.urlopen(baseURL).read()\n",
    "soup = BeautifulSoup(r, \"html.parser\")\n",
    "\n",
    "body = soup.findAll('a', {'class': 'pl-video-title-link yt-uix-tile-link yt-uix-sessionlink spf-link '})\n",
    "video_url_list = [(ii.string.strip(), 'https://www.youtube.com' + ii['href']) for ii in body]\n",
    "# video_url_list = sorted(video_url_list, key=lambda x: x[0])"
   ]
  },
  {
   "cell_type": "code",
   "execution_count": 52,
   "metadata": {
    "collapsed": false
   },
   "outputs": [],
   "source": [
    "from selenium import webdriver\n",
    "from selenium.common.exceptions import TimeoutException\n",
    "from selenium.webdriver.support.ui import WebDriverWait\n",
    "from selenium.webdriver.support import expected_conditions as EC\n",
    "from selenium.webdriver.common.keys import Keys\n",
    "import time\n",
    "    \n",
    "# Create a new instance of the Firefox driver\n",
    "fp = webdriver.FirefoxProfile()\n",
    "# NEED TO USE THE CORRECT MIME TYPE HERE TO INDICATE FIREFOX SAVE A CERTAIN TYPE OF FILE TO DISK DIRECTLY\n",
    "fp.set_preference(\"browser.helperApps.neverAsk.saveToDisk\", \"audio/mpeg3, audio/x-mpeg-3, video/mpeg, video/x-mpeg\")\n",
    "driver = webdriver.Firefox(firefox_profile=fp)\n",
    "\n",
    "driver.set_page_load_timeout(300)\n",
    "web_url = 'http://www.vidtomp3.com/'\n"
   ]
  },
  {
   "cell_type": "code",
   "execution_count": 53,
   "metadata": {
    "collapsed": false,
    "scrolled": false
   },
   "outputs": [
    {
     "name": "stdout",
     "output_type": "stream",
     "text": [
      "Behavioral Biases\n",
      "17 https://www.youtube.com/watch?v=cmwT6eRbaRU&t=0s&list=PLh9mgdi4rNeyfbeQuCxF2nGCMmCcJPoIU&index=19\n",
      "\n",
      "waiting for generating mp3\n",
      "\n",
      "waiting for generating mp3\n",
      "\n",
      "waiting for generating mp3\n",
      "\n",
      "waiting for generating mp3\n",
      "\n",
      "waiting for generating mp3\n",
      "Try downloading now...\n",
      "Behavioral Biases\n",
      "17 https://www.youtube.com/watch?v=cmwT6eRbaRU&t=0s&list=PLh9mgdi4rNeyfbeQuCxF2nGCMmCcJPoIU&index=19\n",
      "\n",
      "waiting for generating mp3\n",
      "\n",
      "waiting for generating mp3\n",
      "\n",
      "waiting for generating mp3\n",
      "\n",
      "waiting for generating mp3\n",
      "\n",
      "waiting for generating mp3\n",
      "Try downloading now...\n",
      "Behavioral Biases\n",
      "17 https://www.youtube.com/watch?v=cmwT6eRbaRU&t=0s&list=PLh9mgdi4rNeyfbeQuCxF2nGCMmCcJPoIU&index=19\n",
      "\n",
      "waiting for generating mp3\n"
     ]
    },
    {
     "ename": "NoSuchWindowException",
     "evalue": "Message: Browsing context has been discarded\n",
     "output_type": "error",
     "traceback": [
      "\u001b[0;31m\u001b[0m",
      "\u001b[0;31mNoSuchWindowException\u001b[0mTraceback (most recent call last)",
      "\u001b[0;32m<ipython-input-53-02c0d33b9c26>\u001b[0m in \u001b[0;36m<module>\u001b[0;34m()\u001b[0m\n\u001b[1;32m     43\u001b[0m \u001b[1;33m\u001b[0m\u001b[0m\n\u001b[1;32m     44\u001b[0m         \u001b[1;31m# get all links on the website, findout the one with \"Download\" in text, and click it\u001b[0m\u001b[1;33m\u001b[0m\u001b[1;33m\u001b[0m\u001b[0m\n\u001b[0;32m---> 45\u001b[0;31m         \u001b[0mListlinkerHref\u001b[0m \u001b[1;33m=\u001b[0m \u001b[0mdriver\u001b[0m\u001b[1;33m.\u001b[0m\u001b[0mfind_elements_by_xpath\u001b[0m\u001b[1;33m(\u001b[0m\u001b[1;34m\"//*[@href]\"\u001b[0m\u001b[1;33m)\u001b[0m\u001b[1;33m\u001b[0m\u001b[0m\n\u001b[0m\u001b[1;32m     46\u001b[0m         \u001b[1;32mfor\u001b[0m \u001b[0mii\u001b[0m \u001b[1;32min\u001b[0m \u001b[0mListlinkerHref\u001b[0m\u001b[1;33m:\u001b[0m\u001b[1;33m\u001b[0m\u001b[0m\n\u001b[1;32m     47\u001b[0m             \u001b[1;32mif\u001b[0m \u001b[1;34m\"Download Link\"\u001b[0m \u001b[1;32min\u001b[0m \u001b[0mii\u001b[0m\u001b[1;33m.\u001b[0m\u001b[0mtext\u001b[0m\u001b[1;33m:\u001b[0m\u001b[1;33m\u001b[0m\u001b[0m\n",
      "\u001b[0;32mC:\\Users\\Yuwei\\AppData\\Roaming\\Python\\Python27\\site-packages\\selenium\\webdriver\\remote\\webdriver.pyc\u001b[0m in \u001b[0;36mfind_elements_by_xpath\u001b[0;34m(self, xpath)\u001b[0m\n\u001b[1;32m    408\u001b[0m             \u001b[0melements\u001b[0m \u001b[1;33m=\u001b[0m \u001b[0mdriver\u001b[0m\u001b[1;33m.\u001b[0m\u001b[0mfind_elements_by_xpath\u001b[0m\u001b[1;33m(\u001b[0m\u001b[1;34m\"//div[contains(@class, 'foo')]\"\u001b[0m\u001b[1;33m)\u001b[0m\u001b[1;33m\u001b[0m\u001b[0m\n\u001b[1;32m    409\u001b[0m         \"\"\"\n\u001b[0;32m--> 410\u001b[0;31m         \u001b[1;32mreturn\u001b[0m \u001b[0mself\u001b[0m\u001b[1;33m.\u001b[0m\u001b[0mfind_elements\u001b[0m\u001b[1;33m(\u001b[0m\u001b[0mby\u001b[0m\u001b[1;33m=\u001b[0m\u001b[0mBy\u001b[0m\u001b[1;33m.\u001b[0m\u001b[0mXPATH\u001b[0m\u001b[1;33m,\u001b[0m \u001b[0mvalue\u001b[0m\u001b[1;33m=\u001b[0m\u001b[0mxpath\u001b[0m\u001b[1;33m)\u001b[0m\u001b[1;33m\u001b[0m\u001b[0m\n\u001b[0m\u001b[1;32m    411\u001b[0m \u001b[1;33m\u001b[0m\u001b[0m\n\u001b[1;32m    412\u001b[0m     \u001b[1;32mdef\u001b[0m \u001b[0mfind_element_by_link_text\u001b[0m\u001b[1;33m(\u001b[0m\u001b[0mself\u001b[0m\u001b[1;33m,\u001b[0m \u001b[0mlink_text\u001b[0m\u001b[1;33m)\u001b[0m\u001b[1;33m:\u001b[0m\u001b[1;33m\u001b[0m\u001b[0m\n",
      "\u001b[0;32mC:\\Users\\Yuwei\\AppData\\Roaming\\Python\\Python27\\site-packages\\selenium\\webdriver\\remote\\webdriver.pyc\u001b[0m in \u001b[0;36mfind_elements\u001b[0;34m(self, by, value)\u001b[0m\n\u001b[1;32m   1005\u001b[0m         return self.execute(Command.FIND_ELEMENTS, {\n\u001b[1;32m   1006\u001b[0m             \u001b[1;34m'using'\u001b[0m\u001b[1;33m:\u001b[0m \u001b[0mby\u001b[0m\u001b[1;33m,\u001b[0m\u001b[1;33m\u001b[0m\u001b[0m\n\u001b[0;32m-> 1007\u001b[0;31m             'value': value})['value'] or []\n\u001b[0m\u001b[1;32m   1008\u001b[0m \u001b[1;33m\u001b[0m\u001b[0m\n\u001b[1;32m   1009\u001b[0m     \u001b[1;33m@\u001b[0m\u001b[0mproperty\u001b[0m\u001b[1;33m\u001b[0m\u001b[0m\n",
      "\u001b[0;32mC:\\Users\\Yuwei\\AppData\\Roaming\\Python\\Python27\\site-packages\\selenium\\webdriver\\remote\\webdriver.pyc\u001b[0m in \u001b[0;36mexecute\u001b[0;34m(self, driver_command, params)\u001b[0m\n\u001b[1;32m    319\u001b[0m         \u001b[0mresponse\u001b[0m \u001b[1;33m=\u001b[0m \u001b[0mself\u001b[0m\u001b[1;33m.\u001b[0m\u001b[0mcommand_executor\u001b[0m\u001b[1;33m.\u001b[0m\u001b[0mexecute\u001b[0m\u001b[1;33m(\u001b[0m\u001b[0mdriver_command\u001b[0m\u001b[1;33m,\u001b[0m \u001b[0mparams\u001b[0m\u001b[1;33m)\u001b[0m\u001b[1;33m\u001b[0m\u001b[0m\n\u001b[1;32m    320\u001b[0m         \u001b[1;32mif\u001b[0m \u001b[0mresponse\u001b[0m\u001b[1;33m:\u001b[0m\u001b[1;33m\u001b[0m\u001b[0m\n\u001b[0;32m--> 321\u001b[0;31m             \u001b[0mself\u001b[0m\u001b[1;33m.\u001b[0m\u001b[0merror_handler\u001b[0m\u001b[1;33m.\u001b[0m\u001b[0mcheck_response\u001b[0m\u001b[1;33m(\u001b[0m\u001b[0mresponse\u001b[0m\u001b[1;33m)\u001b[0m\u001b[1;33m\u001b[0m\u001b[0m\n\u001b[0m\u001b[1;32m    322\u001b[0m             response['value'] = self._unwrap_value(\n\u001b[1;32m    323\u001b[0m                 response.get('value', None))\n",
      "\u001b[0;32mC:\\Users\\Yuwei\\AppData\\Roaming\\Python\\Python27\\site-packages\\selenium\\webdriver\\remote\\errorhandler.pyc\u001b[0m in \u001b[0;36mcheck_response\u001b[0;34m(self, response)\u001b[0m\n\u001b[1;32m    240\u001b[0m                 \u001b[0malert_text\u001b[0m \u001b[1;33m=\u001b[0m \u001b[0mvalue\u001b[0m\u001b[1;33m[\u001b[0m\u001b[1;34m'alert'\u001b[0m\u001b[1;33m]\u001b[0m\u001b[1;33m.\u001b[0m\u001b[0mget\u001b[0m\u001b[1;33m(\u001b[0m\u001b[1;34m'text'\u001b[0m\u001b[1;33m)\u001b[0m\u001b[1;33m\u001b[0m\u001b[0m\n\u001b[1;32m    241\u001b[0m             \u001b[1;32mraise\u001b[0m \u001b[0mexception_class\u001b[0m\u001b[1;33m(\u001b[0m\u001b[0mmessage\u001b[0m\u001b[1;33m,\u001b[0m \u001b[0mscreen\u001b[0m\u001b[1;33m,\u001b[0m \u001b[0mstacktrace\u001b[0m\u001b[1;33m,\u001b[0m \u001b[0malert_text\u001b[0m\u001b[1;33m)\u001b[0m\u001b[1;33m\u001b[0m\u001b[0m\n\u001b[0;32m--> 242\u001b[0;31m         \u001b[1;32mraise\u001b[0m \u001b[0mexception_class\u001b[0m\u001b[1;33m(\u001b[0m\u001b[0mmessage\u001b[0m\u001b[1;33m,\u001b[0m \u001b[0mscreen\u001b[0m\u001b[1;33m,\u001b[0m \u001b[0mstacktrace\u001b[0m\u001b[1;33m)\u001b[0m\u001b[1;33m\u001b[0m\u001b[0m\n\u001b[0m\u001b[1;32m    243\u001b[0m \u001b[1;33m\u001b[0m\u001b[0m\n\u001b[1;32m    244\u001b[0m     \u001b[1;32mdef\u001b[0m \u001b[0m_value_or_default\u001b[0m\u001b[1;33m(\u001b[0m\u001b[0mself\u001b[0m\u001b[1;33m,\u001b[0m \u001b[0mobj\u001b[0m\u001b[1;33m,\u001b[0m \u001b[0mkey\u001b[0m\u001b[1;33m,\u001b[0m \u001b[0mdefault\u001b[0m\u001b[1;33m)\u001b[0m\u001b[1;33m:\u001b[0m\u001b[1;33m\u001b[0m\u001b[0m\n",
      "\u001b[0;31mNoSuchWindowException\u001b[0m: Message: Browsing context has been discarded\n"
     ]
    }
   ],
   "source": [
    "wait_for_mp3_conversion = 10\n",
    "wait_for_mp3_conversion_retry = 4\n",
    "wait_for_download_link = 10\n",
    "wait_for_download_link_retry = 2\n",
    "wait_for_next_video = 20\n",
    "\n",
    "start = 17\n",
    "\n",
    "ind = start\n",
    "while ind < len(video_url_list):\n",
    "    video_url = video_url_list[ind]\n",
    "    \n",
    "    # go to the home page, locate the element for filling up the vidio link\n",
    "    driver.get(web_url) \n",
    "        \n",
    "    inputElement = driver.find_element_by_name(\"url\")\n",
    "\n",
    "    # clear default text if necessary\n",
    "    #inputElement.clear();\n",
    "\n",
    "    # type in the search\n",
    "    if len(video_url) == 2:\n",
    "        the_video = video_url[1]\n",
    "        the_title = video_url[0]\n",
    "        print the_title\n",
    "    else:  \n",
    "        the_video = video_url\n",
    "    \n",
    "    print ind, the_video\n",
    "    inputElement.send_keys(the_video)\n",
    "    \n",
    "    # Click agreement\n",
    "    driver.find_element_by_name(\"accept\").click()\n",
    "    \n",
    "    # submit the form\n",
    "    inputElement.send_keys(Keys.ENTER)\n",
    "#     inputElement.submit()\n",
    "    \n",
    "    counter = 0\n",
    "    clicked = False\n",
    "    while not clicked and counter <= wait_for_mp3_conversion_retry:\n",
    "        counter += 1\n",
    "        \n",
    "        # get all links on the website, findout the one with \"Download\" in text, and click it\n",
    "        ListlinkerHref = driver.find_elements_by_xpath(\"//*[@href]\")\n",
    "        for ii in ListlinkerHref:\n",
    "            if \"Download Link\" in ii.text:\n",
    "                ii.click()\n",
    "                clicked = True\n",
    "                break\n",
    "        else:\n",
    "            # wait for the website to convert the video\n",
    "            print \"\\nwaiting for generating mp3\"\n",
    "            time.sleep(wait_for_mp3_conversion)\n",
    "    counter = 0    \n",
    "    downloaded = False\n",
    "    print \"Try downloading now...\"\n",
    "    while clicked and counter <= wait_for_download_link_retry:\n",
    "        try:\n",
    "            # in the new page, find the link to the mp3 and click\n",
    "            aa = driver.find_elements_by_id('downloadmp3')\n",
    "            if len(aa) > 0:\n",
    "                aa[0].click()\n",
    "                downloaded = True\n",
    "                print \"Downloading...\"\n",
    "                break\n",
    "        except Exception as e:\n",
    "            print e\n",
    "            pass\n",
    "        print \"waiting for loading download link\"\n",
    "        time.sleep(wait_for_download_link)        \n",
    "    if downloaded: \n",
    "        ind += 1\n",
    "        time.sleep(wait_for_next_video)"
   ]
  },
  {
   "cell_type": "code",
   "execution_count": null,
   "metadata": {
    "collapsed": true
   },
   "outputs": [],
   "source": []
  }
 ],
 "metadata": {
  "kernelspec": {
   "display_name": "Python 2",
   "language": "python",
   "name": "python2"
  },
  "language_info": {
   "codemirror_mode": {
    "name": "ipython",
    "version": 2
   },
   "file_extension": ".py",
   "mimetype": "text/x-python",
   "name": "python",
   "nbconvert_exporter": "python",
   "pygments_lexer": "ipython2",
   "version": "2.7.12"
  },
  "toc": {
   "base_numbering": 1,
   "nav_menu": {},
   "number_sections": true,
   "sideBar": true,
   "skip_h1_title": false,
   "title_cell": "Table of Contents",
   "title_sidebar": "Contents",
   "toc_cell": false,
   "toc_position": {
    "height": "calc(100% - 180px)",
    "left": "10px",
    "top": "150px",
    "width": "165px"
   },
   "toc_section_display": true,
   "toc_window_display": true
  }
 },
 "nbformat": 4,
 "nbformat_minor": 1
}
