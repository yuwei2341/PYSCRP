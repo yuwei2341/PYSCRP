{
 "cells": [
  {
   "cell_type": "markdown",
   "metadata": {},
   "source": [
    "# Use existing website to convert each linked video to mp3 and download"
   ]
  },
  {
   "cell_type": "markdown",
   "metadata": {},
   "source": [
    "Firefox annoyingly open mp3 with iTunes by default and won't save to the disk. A get-around is when the first download is made, select save to disk and do that for all following files. Then just keep looping and all later files will be saved to disk automatically\n",
    "\n",
    "\n",
    "For usage of selenium, refer to:\n",
    "http://irwinkwan.com/2013/04/05/automating-the-web-with-selenium-complete-tasks-automatically-and-write-test-cases/"
   ]
  },
  {
   "cell_type": "code",
   "execution_count": 1,
   "metadata": {
    "collapsed": true,
    "scrolled": false
   },
   "outputs": [],
   "source": [
    "from selenium import webdriver\n",
    "from selenium.common.exceptions import TimeoutException\n",
    "from selenium.webdriver.support.ui import WebDriverWait\n",
    "from selenium.webdriver.support import expected_conditions as EC\n",
    "import time\n",
    "try:\n",
    "    import winsound\n",
    "except:\n",
    "    pass\n",
    "\n",
    "try:\n",
    "    import os\n",
    "except:\n",
    "    pass\n",
    "\n",
    "\n",
    "# Create a new instance of the Firefox driver\n",
    "fp = webdriver.FirefoxProfile()\n",
    "fp.set_preference(\"browser.download.folderList\",2)\n",
    "fp.set_preference(\"browser.download.manager.showWhenStarting\",False)\n",
    "#fp.set_preference(\"browser.download.dir\", os.getcwd())\n",
    "fp.set_preference(\"browser.helperApps.neverAsk.saveToDisk\", \"application/iTunes\")\n",
    "fp.set_preference(\"plugin.disable_full_page_plugin_for_types\", \"audio/mp3\")\n",
    "driver = webdriver.Firefox(firefox_profile=fp)\n",
    "\n",
    "web_url = 'http://outlet.us.dell.com/ARBOnlineSales/Online/InventorySearch.aspx?c=us&cs=22&l=en&s=dfh&brandid=2202&fid=5991&AspxAutoDetectCookieSupport=1'\n"
   ]
  },
  {
   "cell_type": "code",
   "execution_count": null,
   "metadata": {
    "collapsed": true
   },
   "outputs": [],
   "source": [
    "while True:\n",
    "    # go to the home page, locate the element for filling up the vidio link\n",
    "    driver.get(web_url) \n",
    "    try:\n",
    "        inputElement = driver.find_element_by_id(\"LikeConfigGridUC_LikeConfigDetailsRepeater_PriceLabel_0\")\n",
    "        price = float(inputElement.text.split()[1][1:])\n",
    "        print price\n",
    "        if price < 670.0:\n",
    "            try:\n",
    "                winsound.Beep(500,10000)\n",
    "            except:\n",
    "                pass\n",
    "\n",
    "            try:\n",
    "                os.system('say \"your program has finished\"')\n",
    "            except:\n",
    "                pass\n",
    "            print 'Look at me!!!'\n",
    "            time.sleep(40)\n",
    "    except:\n",
    "        pass\n",
    "    time.sleep(40)"
   ]
  },
  {
   "cell_type": "code",
   "execution_count": null,
   "metadata": {
    "collapsed": true
   },
   "outputs": [],
   "source": []
  },
  {
   "cell_type": "code",
   "execution_count": null,
   "metadata": {
    "collapsed": true
   },
   "outputs": [],
   "source": [
    "        inputElement = driver.find_elements_by_class_name('para_small')\n",
    "        for i in inputElement:\n",
    "            if 'Certified Refurbished' in i.text:\n",
    "                i.find_element_by_class_name('anavtest').click()\n",
    "                time.sleep(4)\n",
    "                break"
   ]
  },
  {
   "cell_type": "markdown",
   "metadata": {
    "collapsed": true
   },
   "source": [
    "# download subtitles of the practice"
   ]
  },
  {
   "cell_type": "code",
   "execution_count": 24,
   "metadata": {},
   "outputs": [
    {
     "ename": "WebDriverException",
     "evalue": "Message: Can't load the profile. Profile Dir: /var/folders/s_/gg48tdyn1zlg6779md8xbp3r0000gn/T/tmpn5rHly If you specified a log_file in the FirefoxBinary constructor, check it for details.\n",
     "output_type": "error",
     "traceback": [
      "\u001b[0;31m---------------------------------------------------------------------------\u001b[0m",
      "\u001b[0;31mWebDriverException\u001b[0m                        Traceback (most recent call last)",
      "\u001b[0;32m<ipython-input-24-6dfb2cda5f1c>\u001b[0m in \u001b[0;36m<module>\u001b[0;34m()\u001b[0m\n\u001b[1;32m      6\u001b[0m \u001b[0;31m#import winsound\u001b[0m\u001b[0;34m\u001b[0m\u001b[0;34m\u001b[0m\u001b[0m\n\u001b[1;32m      7\u001b[0m \u001b[0;34m\u001b[0m\u001b[0m\n\u001b[0;32m----> 8\u001b[0;31m \u001b[0mdriver\u001b[0m \u001b[0;34m=\u001b[0m \u001b[0mwebdriver\u001b[0m\u001b[0;34m.\u001b[0m\u001b[0mFirefox\u001b[0m\u001b[0;34m(\u001b[0m\u001b[0;34m)\u001b[0m\u001b[0;34m\u001b[0m\u001b[0m\n\u001b[0m\u001b[1;32m      9\u001b[0m \u001b[0;34m\u001b[0m\u001b[0m\n\u001b[1;32m     10\u001b[0m \u001b[0mweb_url\u001b[0m \u001b[0;34m=\u001b[0m \u001b[0;34m'http://subhd.com/search/%E5%BE%8B%E5%B8%88%E6%9C%AC%E8%89%B2/all/page/4'\u001b[0m\u001b[0;34m\u001b[0m\u001b[0m\n",
      "\u001b[0;32m/Library/Frameworks/Python.framework/Versions/2.7/lib/python2.7/site-packages/selenium/webdriver/firefox/webdriver.pyc\u001b[0m in \u001b[0;36m__init__\u001b[0;34m(self, firefox_profile, firefox_binary, timeout, capabilities, proxy, executable_path)\u001b[0m\n\u001b[1;32m     77\u001b[0m         \u001b[0;34m`\u001b[0m\u001b[0mfirefox_options\u001b[0m\u001b[0;34m.\u001b[0m\u001b[0mprofile\u001b[0m\u001b[0;34m`\u001b[0m \u001b[0mto\u001b[0m \u001b[0mbe\u001b[0m \u001b[0mignored\u001b[0m \u001b[0mbecause\u001b[0m \u001b[0mit\u001b[0m \u001b[0;32mis\u001b[0m \u001b[0mconsidered\u001b[0m\u001b[0;34m\u001b[0m\u001b[0m\n\u001b[1;32m     78\u001b[0m         \u001b[0ma\u001b[0m \u001b[0mless\u001b[0m \u001b[0mspecific\u001b[0m \u001b[0msetting\u001b[0m \u001b[0mthan\u001b[0m \u001b[0mthe\u001b[0m \u001b[0mtop\u001b[0m\u001b[0;34m-\u001b[0m\u001b[0mlevel\u001b[0m \u001b[0;34m`\u001b[0m\u001b[0mfirefox_profile\u001b[0m\u001b[0;34m`\u001b[0m\u001b[0;34m\u001b[0m\u001b[0m\n\u001b[0;32m---> 79\u001b[0;31m         \u001b[0mkeyword\u001b[0m \u001b[0margument\u001b[0m\u001b[0;34m.\u001b[0m  \u001b[0mSimilarily\u001b[0m\u001b[0;34m,\u001b[0m \u001b[0;32mif\u001b[0m \u001b[0myou\u001b[0m \u001b[0mhad\u001b[0m \u001b[0mspecified\u001b[0m \u001b[0ma\u001b[0m\u001b[0;34m\u001b[0m\u001b[0m\n\u001b[0m\u001b[1;32m     80\u001b[0m         \u001b[0;34m`\u001b[0m\u001b[0mcapabilities\u001b[0m\u001b[0;34m[\u001b[0m\u001b[0;34m\"firefoxOptions\"\u001b[0m\u001b[0;34m]\u001b[0m\u001b[0;34m[\u001b[0m\u001b[0;34m\"profile\"\u001b[0m\u001b[0;34m]\u001b[0m\u001b[0;34m`\u001b[0m \u001b[0mBase64\u001b[0m \u001b[0mstring\u001b[0m\u001b[0;34m,\u001b[0m\u001b[0;34m\u001b[0m\u001b[0m\n\u001b[1;32m     81\u001b[0m         \u001b[0mthis\u001b[0m \u001b[0mwould\u001b[0m \u001b[0mrank\u001b[0m \u001b[0mbelow\u001b[0m \u001b[0;34m`\u001b[0m\u001b[0mfirefox_options\u001b[0m\u001b[0;34m.\u001b[0m\u001b[0mprofile\u001b[0m\u001b[0;34m`\u001b[0m\u001b[0;34m.\u001b[0m\u001b[0;34m\u001b[0m\u001b[0m\n",
      "\u001b[0;32m/Library/Frameworks/Python.framework/Versions/2.7/lib/python2.7/site-packages/selenium/webdriver/firefox/extension_connection.pyc\u001b[0m in \u001b[0;36m__init__\u001b[0;34m(self, host, firefox_profile, firefox_binary, timeout)\u001b[0m\n\u001b[1;32m     47\u001b[0m         \u001b[0mself\u001b[0m\u001b[0;34m.\u001b[0m\u001b[0mprofile\u001b[0m\u001b[0;34m.\u001b[0m\u001b[0mport\u001b[0m \u001b[0;34m=\u001b[0m \u001b[0mPORT\u001b[0m\u001b[0;34m\u001b[0m\u001b[0m\n\u001b[1;32m     48\u001b[0m         \u001b[0mself\u001b[0m\u001b[0;34m.\u001b[0m\u001b[0mprofile\u001b[0m\u001b[0;34m.\u001b[0m\u001b[0mupdate_preferences\u001b[0m\u001b[0;34m(\u001b[0m\u001b[0;34m)\u001b[0m\u001b[0;34m\u001b[0m\u001b[0m\n\u001b[0;32m---> 49\u001b[0;31m \u001b[0;34m\u001b[0m\u001b[0m\n\u001b[0m\u001b[1;32m     50\u001b[0m         \u001b[0mself\u001b[0m\u001b[0;34m.\u001b[0m\u001b[0mprofile\u001b[0m\u001b[0;34m.\u001b[0m\u001b[0madd_extension\u001b[0m\u001b[0;34m(\u001b[0m\u001b[0;34m)\u001b[0m\u001b[0;34m\u001b[0m\u001b[0m\n\u001b[1;32m     51\u001b[0m \u001b[0;34m\u001b[0m\u001b[0m\n",
      "\u001b[0;32m/Library/Frameworks/Python.framework/Versions/2.7/lib/python2.7/site-packages/selenium/webdriver/firefox/firefox_binary.pyc\u001b[0m in \u001b[0;36mlaunch_browser\u001b[0;34m(self, profile)\u001b[0m\n\u001b[1;32m     66\u001b[0m     \u001b[0;32mdef\u001b[0m \u001b[0mlaunch_browser\u001b[0m\u001b[0;34m(\u001b[0m\u001b[0mself\u001b[0m\u001b[0;34m,\u001b[0m \u001b[0mprofile\u001b[0m\u001b[0;34m,\u001b[0m \u001b[0mtimeout\u001b[0m\u001b[0;34m=\u001b[0m\u001b[0;36m30\u001b[0m\u001b[0;34m)\u001b[0m\u001b[0;34m:\u001b[0m\u001b[0;34m\u001b[0m\u001b[0m\n\u001b[1;32m     67\u001b[0m         \"\"\"Launches the browser for the given profile name.\n\u001b[0;32m---> 68\u001b[0;31m         \u001b[0mIt\u001b[0m \u001b[0;32mis\u001b[0m \u001b[0massumed\u001b[0m \u001b[0mthe\u001b[0m \u001b[0mprofile\u001b[0m \u001b[0malready\u001b[0m \u001b[0mexists\u001b[0m\u001b[0;34m.\u001b[0m\u001b[0;34m\u001b[0m\u001b[0m\n\u001b[0m\u001b[1;32m     69\u001b[0m         \"\"\"\n\u001b[1;32m     70\u001b[0m         \u001b[0mself\u001b[0m\u001b[0;34m.\u001b[0m\u001b[0mprofile\u001b[0m \u001b[0;34m=\u001b[0m \u001b[0mprofile\u001b[0m\u001b[0;34m\u001b[0m\u001b[0m\n",
      "\u001b[0;32m/Library/Frameworks/Python.framework/Versions/2.7/lib/python2.7/site-packages/selenium/webdriver/firefox/firefox_binary.pyc\u001b[0m in \u001b[0;36m_wait_until_connectable\u001b[0;34m(self)\u001b[0m\n\u001b[1;32m    104\u001b[0m                     \u001b[0;34m\"The browser appears to have exited \"\u001b[0m\u001b[0;34m\u001b[0m\u001b[0m\n\u001b[1;32m    105\u001b[0m                     \u001b[0;34m\"before we could connect. If you specified a log_file in \"\u001b[0m\u001b[0;34m\u001b[0m\u001b[0m\n\u001b[0;32m--> 106\u001b[0;31m                     \"the FirefoxBinary constructor, check it for details.\")\n\u001b[0m\u001b[1;32m    107\u001b[0m             \u001b[0;32mif\u001b[0m \u001b[0mcount\u001b[0m \u001b[0;34m>=\u001b[0m \u001b[0mtimeout\u001b[0m\u001b[0;34m:\u001b[0m\u001b[0;34m\u001b[0m\u001b[0m\n\u001b[1;32m    108\u001b[0m                 \u001b[0mself\u001b[0m\u001b[0;34m.\u001b[0m\u001b[0mkill\u001b[0m\u001b[0;34m(\u001b[0m\u001b[0;34m)\u001b[0m\u001b[0;34m\u001b[0m\u001b[0m\n",
      "\u001b[0;31mWebDriverException\u001b[0m: Message: Can't load the profile. Profile Dir: /var/folders/s_/gg48tdyn1zlg6779md8xbp3r0000gn/T/tmpn5rHly If you specified a log_file in the FirefoxBinary constructor, check it for details.\n"
     ]
    }
   ],
   "source": [
    "from selenium import webdriver\n",
    "from selenium.common.exceptions import TimeoutException\n",
    "from selenium.webdriver.support.ui import WebDriverWait\n",
    "from selenium.webdriver.support import expected_conditions as EC\n",
    "import time\n",
    "#import winsound\n",
    "\n",
    "driver = webdriver.Firefox()\n",
    "\n",
    "web_url = 'http://subhd.com/search/%E5%BE%8B%E5%B8%88%E6%9C%AC%E8%89%B2/all/page/4'\n",
    "driver.get(web_url) \n",
    "inputElement = driver.find_elements_by_class_name('d_title')"
   ]
  },
  {
   "cell_type": "code",
   "execution_count": 35,
   "metadata": {
    "scrolled": false
   },
   "outputs": [
    {
     "ename": "KeyboardInterrupt",
     "evalue": "",
     "output_type": "error",
     "traceback": [
      "\u001b[1;31m---------------------------------------------------------------------------\u001b[0m",
      "\u001b[1;31mKeyboardInterrupt\u001b[0m                         Traceback (most recent call last)",
      "\u001b[1;32m<ipython-input-35-ab12f110f1fe>\u001b[0m in \u001b[0;36m<module>\u001b[1;34m()\u001b[0m\n\u001b[0;32m      6\u001b[0m     \u001b[0mdown_link\u001b[0m \u001b[1;33m=\u001b[0m \u001b[0mdriver\u001b[0m\u001b[1;33m.\u001b[0m\u001b[0mfind_element_by_id\u001b[0m\u001b[1;33m(\u001b[0m\u001b[1;34m'down'\u001b[0m\u001b[1;33m)\u001b[0m\u001b[1;33m\u001b[0m\u001b[0m\n\u001b[0;32m      7\u001b[0m     \u001b[0mdown_link\u001b[0m\u001b[1;33m.\u001b[0m\u001b[0mclick\u001b[0m\u001b[1;33m(\u001b[0m\u001b[1;33m)\u001b[0m\u001b[1;33m\u001b[0m\u001b[0m\n\u001b[1;32m----> 8\u001b[1;33m     \u001b[0mtime\u001b[0m\u001b[1;33m.\u001b[0m\u001b[0msleep\u001b[0m\u001b[1;33m(\u001b[0m\u001b[1;36m5\u001b[0m\u001b[1;33m)\u001b[0m\u001b[1;33m\u001b[0m\u001b[0m\n\u001b[0m\u001b[0;32m      9\u001b[0m     \u001b[0mdriver\u001b[0m\u001b[1;33m.\u001b[0m\u001b[0mclose\u001b[0m\u001b[1;33m(\u001b[0m\u001b[1;33m)\u001b[0m\u001b[1;33m\u001b[0m\u001b[0m\n\u001b[0;32m     10\u001b[0m     \u001b[0mdriver\u001b[0m\u001b[1;33m.\u001b[0m\u001b[0mswitch_to_window\u001b[0m\u001b[1;33m(\u001b[0m\u001b[0mdriver\u001b[0m\u001b[1;33m.\u001b[0m\u001b[0mwindow_handles\u001b[0m\u001b[1;33m[\u001b[0m\u001b[1;36m0\u001b[0m\u001b[1;33m]\u001b[0m\u001b[1;33m)\u001b[0m\u001b[1;33m\u001b[0m\u001b[0m\n",
      "\u001b[1;31mKeyboardInterrupt\u001b[0m: "
     ]
    }
   ],
   "source": [
    "\n",
    "for ii in inputElement:\n",
    "    ii.find_elements_by_xpath(\".//*\")[0].click()\n",
    "    time.sleep(5)\n",
    "    driver.switch_to_window(driver.window_handles[1])\n",
    "    down_link = driver.find_element_by_id('down')\n",
    "    down_link.click()\n",
    "    time.sleep(5)\n",
    "    driver.close()\n",
    "    driver.switch_to_window(driver.window_handles[0])"
   ]
  },
  {
   "cell_type": "code",
   "execution_count": null,
   "metadata": {
    "collapsed": true
   },
   "outputs": [],
   "source": []
  },
  {
   "cell_type": "markdown",
   "metadata": {},
   "source": [
    "# Download http://web.stanford.edu/class/cs259d/ class lectures"
   ]
  },
  {
   "cell_type": "code",
   "execution_count": 17,
   "metadata": {},
   "outputs": [],
   "source": [
    "import urllib"
   ]
  },
  {
   "cell_type": "code",
   "execution_count": 2,
   "metadata": {},
   "outputs": [],
   "source": [
    "text = '''[   ]\tcs224n-2019-lecture01-wordvecs1.pdf\t2019-01-22 13:30\t8.4M\t \n",
    "[   ]\tcs224n-2019-lecture02-wordvecs2.pdf\t2019-01-22 13:30\t16M\t \n",
    "[   ]\tcs224n-2019-lecture03-neuralnets.pdf\t2019-01-29 15:40\t14M\t \n",
    "[   ]\tcs224n-2019-lecture04-backprop.pdf\t2019-01-22 13:30\t11M\t \n",
    "[   ]\tcs224n-2019-lecture05-dep-parsing-scrawls.pdf\t2019-01-29 15:40\t20M\t \n",
    "[   ]\tcs224n-2019-lecture05-dep-parsing.pdf\t2019-01-29 15:40\t17M\t \n",
    "[   ]\tcs224n-2019-lecture06-rnnlm.pdf\t2019-01-29 18:23\t2.0M\t \n",
    "[   ]\tcs224n-2019-lecture07-fancy-rnn.pdf\t2019-01-30 18:28\t1.4M\t \n",
    "[   ]\tcs224n-2019-lecture08-nmt.pdf\t2019-02-08 22:03\t2.3M\t \n",
    "[   ]\tcs224n-2019-lecture09-final-projects.pdf\t2019-02-08 22:03\t19M\t \n",
    "[   ]\tcs224n-2019-lecture10-QA.pdf\t2019-02-08 22:01\t15M\t \n",
    "[   ]\tcs224n-2019-lecture11-convnets.pdf\t2019-02-13 00:15\t9.9M\t \n",
    "[   ]\tcs224n-2019-lecture12-subwords.pdf\t2019-02-16 09:06\t16M\t \n",
    "[   ]\tcs224n-2019-lecture13-contextual-representations.pdf\t2019-02-22 11:13\t24M\t \n",
    "[   ]\tcs224n-2019-lecture14-transformers.pdf\t2019-02-26 23:18\t3.6M\t \n",
    "[   ]\tcs224n-2019-lecture15-nlg.pdf\t2019-02-26 23:18\t30M\t \n",
    "[   ]\tcs224n-2019-lecture16-coref.pdf\t2019-04-08 20:06\t16M\t \n",
    "[   ]\tcs224n-2019-lecture17-multitask.pdf\t2019-04-08 20:06\t4.4M\t \n",
    "[   ]\tcs224n-2019-lecture18-TreeRNNs.pdf\t2019-04-08 20:06\t20M\t \n",
    "[   ]\tcs224n-2019-lecture19-bias.pdf\t2019-04-08 20:06\t11M\t \n",
    "[   ]\tcs224n-2019-lecture20-future.pdf\t2019-04-08 20:06\t26M\t \n",
    "'''"
   ]
  },
  {
   "cell_type": "code",
   "execution_count": 12,
   "metadata": {},
   "outputs": [],
   "source": [
    "all_title = [i.split('\\t')[1] for i in text.strip().split('\\n')]"
   ]
  },
  {
   "cell_type": "code",
   "execution_count": 13,
   "metadata": {},
   "outputs": [
    {
     "data": {
      "text/plain": [
       "['cs224n-2019-lecture01-wordvecs1.pdf',\n",
       " 'cs224n-2019-lecture02-wordvecs2.pdf',\n",
       " 'cs224n-2019-lecture03-neuralnets.pdf',\n",
       " 'cs224n-2019-lecture04-backprop.pdf',\n",
       " 'cs224n-2019-lecture05-dep-parsing-scrawls.pdf',\n",
       " 'cs224n-2019-lecture05-dep-parsing.pdf',\n",
       " 'cs224n-2019-lecture06-rnnlm.pdf',\n",
       " 'cs224n-2019-lecture07-fancy-rnn.pdf',\n",
       " 'cs224n-2019-lecture08-nmt.pdf',\n",
       " 'cs224n-2019-lecture09-final-projects.pdf',\n",
       " 'cs224n-2019-lecture10-QA.pdf',\n",
       " 'cs224n-2019-lecture11-convnets.pdf',\n",
       " 'cs224n-2019-lecture12-subwords.pdf',\n",
       " 'cs224n-2019-lecture13-contextual-representations.pdf',\n",
       " 'cs224n-2019-lecture14-transformers.pdf',\n",
       " 'cs224n-2019-lecture15-nlg.pdf',\n",
       " 'cs224n-2019-lecture16-coref.pdf',\n",
       " 'cs224n-2019-lecture17-multitask.pdf',\n",
       " 'cs224n-2019-lecture18-TreeRNNs.pdf',\n",
       " 'cs224n-2019-lecture19-bias.pdf',\n",
       " 'cs224n-2019-lecture20-future.pdf']"
      ]
     },
     "execution_count": 13,
     "metadata": {},
     "output_type": "execute_result"
    }
   ],
   "source": [
    "all_title"
   ]
  },
  {
   "cell_type": "code",
   "execution_count": 21,
   "metadata": {},
   "outputs": [
    {
     "data": {
      "text/plain": [
       "'http://web.stanford.edu/class/cs224n/slides/cs224n-2019-lecture01-wordvecs1.pdf'"
      ]
     },
     "execution_count": 21,
     "metadata": {},
     "output_type": "execute_result"
    }
   ],
   "source": [
    "template_url.format(k)"
   ]
  },
  {
   "cell_type": "code",
   "execution_count": 22,
   "metadata": {},
   "outputs": [
    {
     "ename": "AttributeError",
     "evalue": "module 'urllib' has no attribute 'urlretrieve'",
     "output_type": "error",
     "traceback": [
      "\u001b[0;31m---------------------------------------------------------------------------\u001b[0m",
      "\u001b[0;31mAttributeError\u001b[0m                            Traceback (most recent call last)",
      "\u001b[0;32m<ipython-input-22-ef8654d4b0cd>\u001b[0m in \u001b[0;36m<module>\u001b[0;34m\u001b[0m\n\u001b[0;32m----> 1\u001b[0;31m \u001b[0murllib\u001b[0m\u001b[0;34m.\u001b[0m\u001b[0murlretrieve\u001b[0m\u001b[0;34m(\u001b[0m\u001b[0mtemplate_url\u001b[0m\u001b[0;34m.\u001b[0m\u001b[0mformat\u001b[0m\u001b[0;34m(\u001b[0m\u001b[0mk\u001b[0m\u001b[0;34m)\u001b[0m\u001b[0;34m)\u001b[0m\u001b[0;34m\u001b[0m\u001b[0;34m\u001b[0m\u001b[0m\n\u001b[0m",
      "\u001b[0;31mAttributeError\u001b[0m: module 'urllib' has no attribute 'urlretrieve'"
     ]
    }
   ],
   "source": [
    "urllib.urlretrieve(template_url.format(k))"
   ]
  },
  {
   "cell_type": "code",
   "execution_count": 26,
   "metadata": {},
   "outputs": [],
   "source": [
    "template_url = 'http://web.stanford.edu/class/cs224n/slides/{}'\n",
    "loc = '/Users/yuweiliu/Downloads/{}'\n",
    "for k in all_title[2:]:\n",
    "    try:\n",
    "        urllib.request.urlretrieve(template_url.format(k), loc.format(k))\n",
    "    except:\n",
    "        print('Failed for {}'.format(k))\n",
    "        pass"
   ]
  },
  {
   "cell_type": "markdown",
   "metadata": {},
   "source": [
    "### 白先勇红楼梦，by index"
   ]
  },
  {
   "cell_type": "code",
   "execution_count": 3,
   "metadata": {},
   "outputs": [
    {
     "name": "stdout",
     "output_type": "stream",
     "text": [
      "http://140.112.161.158/vod/102S206/102S206_CT26V01.mp4\n",
      "http://140.112.161.158/vod/102S206/102S206_CT27V01.mp4\n",
      "http://140.112.161.158/vod/102S206/102S206_CT28V01.mp4\n",
      "http://140.112.161.158/vod/102S206/102S206_CT29V01.mp4\n",
      "http://140.112.161.158/vod/102S206/102S206_CT30V01.mp4\n",
      "http://140.112.161.158/vod/102S206/102S206_CT31V01.mp4\n",
      "http://140.112.161.158/vod/102S206/102S206_CT32V01.mp4\n",
      "http://140.112.161.158/vod/102S206/102S206_CT33V01.mp4\n",
      "http://140.112.161.158/vod/102S206/102S206_CT34V01.mp4\n",
      "http://140.112.161.158/vod/102S206/102S206_CT35V01.mp4\n",
      "http://140.112.161.158/vod/102S206/102S206_CT36V01.mp4\n",
      "http://140.112.161.158/vod/102S206/102S206_CT37V01.mp4\n",
      "http://140.112.161.158/vod/102S206/102S206_CT38V01.mp4\n",
      "http://140.112.161.158/vod/102S206/102S206_CT39V01.mp4\n",
      "http://140.112.161.158/vod/102S206/102S206_CT40V01.mp4\n",
      "http://140.112.161.158/vod/102S206/102S206_CT41V01.mp4\n",
      "http://140.112.161.158/vod/102S206/102S206_CT42V01.mp4\n",
      "http://140.112.161.158/vod/102S206/102S206_CT43V01.mp4\n",
      "http://140.112.161.158/vod/102S206/102S206_CT44V01.mp4\n",
      "http://140.112.161.158/vod/102S206/102S206_CT45V01.mp4\n"
     ]
    }
   ],
   "source": [
    "for ii in range(26, 46):\n",
    "    url = 'http://140.112.161.158/vod/102S206/102S206_CT{}V01.mp4'.format(str(ii).zfill(2))\n",
    "    title = \"E:/Reading/Red/RedChamber_{}.mp4\".format(str(ii).zfill(2))\n",
    "    print url\n",
    "    urllib.urlretrieve (url, title)"
   ]
  },
  {
   "cell_type": "code",
   "execution_count": null,
   "metadata": {
    "collapsed": true
   },
   "outputs": [],
   "source": []
  },
  {
   "cell_type": "code",
   "execution_count": null,
   "metadata": {
    "collapsed": true
   },
   "outputs": [],
   "source": []
  },
  {
   "cell_type": "markdown",
   "metadata": {},
   "source": [
    "### Download youtube mp3"
   ]
  },
  {
   "cell_type": "code",
   "execution_count": 18,
   "metadata": {},
   "outputs": [],
   "source": [
    "# get the links\n",
    "import urllib\n",
    "from bs4 import *\n",
    "\n",
    "#Islam - 16:40\n",
    "#baseURL = \"https://www.youtube.com/playlist?list=PL7JfALlBnZCt1lf6Gzg11Sgc-iiZn0m-b\"\n",
    "# Predictably Irrational\n",
    "#baseURL = \"https://www.youtube.com/playlist?list=PLRk6tqWzeieUqgjeTXTRREyGNG_s9uu3Y\"\n",
    "# Emotion\n",
    "#baseURL = \"https://www.youtube.com/playlist?list=PLh9mgdi4rNewieO9Dsj-OhNBC9bF4FoRp\"\n",
    "# social theory\n",
    "#baseURL = \"https://www.youtube.com/playlist?list=PLDF7B08FF8564D1FE&feature=plcp\"\n",
    "# chinese novels\n",
    "#baseURL = \"https://www.youtube.com/playlist?list=PLpuwNaSkRcPea012OoQmaHX2OiGP4rmsO\"\n",
    "# chinese lectures -- literature\n",
    "#baseURL = \"https://www.youtube.com/playlist?list=PLWTGuoT3s5eTYZP156rV07ninQXTGnZMQ\"\n",
    "# chinese lectures -- history\n",
    "# baseURL = \"https://www.youtube.com/playlist?list=PLWTGuoT3s5eRI3tSIAdxNt5FOofgTyDZD\"\n",
    "# law\n",
    "baseURL = \"https://www.youtube.com/playlist?list=PLh9mgdi4rNeyfbeQuCxF2nGCMmCcJPoIU\"\n",
    "\n",
    "\n",
    "r = urllib.urlopen(baseURL).read()\n",
    "soup = BeautifulSoup(r, \"html.parser\")\n",
    "\n",
    "body = soup.findAll('a', {'class': 'pl-video-title-link yt-uix-tile-link yt-uix-sessionlink spf-link '})\n",
    "video_url_list = [(ii.string.strip(), 'https://www.youtube.com' + ii['href']) for ii in body]\n",
    "# video_url_list = sorted(video_url_list, key=lambda x: x[0])"
   ]
  },
  {
   "cell_type": "code",
   "execution_count": 52,
   "metadata": {},
   "outputs": [],
   "source": [
    "from selenium import webdriver\n",
    "from selenium.common.exceptions import TimeoutException\n",
    "from selenium.webdriver.support.ui import WebDriverWait\n",
    "from selenium.webdriver.support import expected_conditions as EC\n",
    "from selenium.webdriver.common.keys import Keys\n",
    "import time\n",
    "    \n",
    "# Create a new instance of the Firefox driver\n",
    "fp = webdriver.FirefoxProfile()\n",
    "# NEED TO USE THE CORRECT MIME TYPE HERE TO INDICATE FIREFOX SAVE A CERTAIN TYPE OF FILE TO DISK DIRECTLY\n",
    "fp.set_preference(\"browser.helperApps.neverAsk.saveToDisk\", \"audio/mpeg3, audio/x-mpeg-3, video/mpeg, video/x-mpeg\")\n",
    "driver = webdriver.Firefox(firefox_profile=fp)\n",
    "\n",
    "driver.set_page_load_timeout(300)\n",
    "web_url = 'http://www.vidtomp3.com/'\n"
   ]
  },
  {
   "cell_type": "code",
   "execution_count": 53,
   "metadata": {
    "scrolled": false
   },
   "outputs": [
    {
     "name": "stdout",
     "output_type": "stream",
     "text": [
      "Behavioral Biases\n",
      "17 https://www.youtube.com/watch?v=cmwT6eRbaRU&t=0s&list=PLh9mgdi4rNeyfbeQuCxF2nGCMmCcJPoIU&index=19\n",
      "\n",
      "waiting for generating mp3\n",
      "\n",
      "waiting for generating mp3\n",
      "\n",
      "waiting for generating mp3\n",
      "\n",
      "waiting for generating mp3\n",
      "\n",
      "waiting for generating mp3\n",
      "Try downloading now...\n",
      "Behavioral Biases\n",
      "17 https://www.youtube.com/watch?v=cmwT6eRbaRU&t=0s&list=PLh9mgdi4rNeyfbeQuCxF2nGCMmCcJPoIU&index=19\n",
      "\n",
      "waiting for generating mp3\n",
      "\n",
      "waiting for generating mp3\n",
      "\n",
      "waiting for generating mp3\n",
      "\n",
      "waiting for generating mp3\n",
      "\n",
      "waiting for generating mp3\n",
      "Try downloading now...\n",
      "Behavioral Biases\n",
      "17 https://www.youtube.com/watch?v=cmwT6eRbaRU&t=0s&list=PLh9mgdi4rNeyfbeQuCxF2nGCMmCcJPoIU&index=19\n",
      "\n",
      "waiting for generating mp3\n"
     ]
    },
    {
     "ename": "NoSuchWindowException",
     "evalue": "Message: Browsing context has been discarded\n",
     "output_type": "error",
     "traceback": [
      "\u001b[0;31m\u001b[0m",
      "\u001b[0;31mNoSuchWindowException\u001b[0mTraceback (most recent call last)",
      "\u001b[0;32m<ipython-input-53-02c0d33b9c26>\u001b[0m in \u001b[0;36m<module>\u001b[0;34m()\u001b[0m\n\u001b[1;32m     43\u001b[0m \u001b[1;33m\u001b[0m\u001b[0m\n\u001b[1;32m     44\u001b[0m         \u001b[1;31m# get all links on the website, findout the one with \"Download\" in text, and click it\u001b[0m\u001b[1;33m\u001b[0m\u001b[1;33m\u001b[0m\u001b[0m\n\u001b[0;32m---> 45\u001b[0;31m         \u001b[0mListlinkerHref\u001b[0m \u001b[1;33m=\u001b[0m \u001b[0mdriver\u001b[0m\u001b[1;33m.\u001b[0m\u001b[0mfind_elements_by_xpath\u001b[0m\u001b[1;33m(\u001b[0m\u001b[1;34m\"//*[@href]\"\u001b[0m\u001b[1;33m)\u001b[0m\u001b[1;33m\u001b[0m\u001b[0m\n\u001b[0m\u001b[1;32m     46\u001b[0m         \u001b[1;32mfor\u001b[0m \u001b[0mii\u001b[0m \u001b[1;32min\u001b[0m \u001b[0mListlinkerHref\u001b[0m\u001b[1;33m:\u001b[0m\u001b[1;33m\u001b[0m\u001b[0m\n\u001b[1;32m     47\u001b[0m             \u001b[1;32mif\u001b[0m \u001b[1;34m\"Download Link\"\u001b[0m \u001b[1;32min\u001b[0m \u001b[0mii\u001b[0m\u001b[1;33m.\u001b[0m\u001b[0mtext\u001b[0m\u001b[1;33m:\u001b[0m\u001b[1;33m\u001b[0m\u001b[0m\n",
      "\u001b[0;32mC:\\Users\\Yuwei\\AppData\\Roaming\\Python\\Python27\\site-packages\\selenium\\webdriver\\remote\\webdriver.pyc\u001b[0m in \u001b[0;36mfind_elements_by_xpath\u001b[0;34m(self, xpath)\u001b[0m\n\u001b[1;32m    408\u001b[0m             \u001b[0melements\u001b[0m \u001b[1;33m=\u001b[0m \u001b[0mdriver\u001b[0m\u001b[1;33m.\u001b[0m\u001b[0mfind_elements_by_xpath\u001b[0m\u001b[1;33m(\u001b[0m\u001b[1;34m\"//div[contains(@class, 'foo')]\"\u001b[0m\u001b[1;33m)\u001b[0m\u001b[1;33m\u001b[0m\u001b[0m\n\u001b[1;32m    409\u001b[0m         \"\"\"\n\u001b[0;32m--> 410\u001b[0;31m         \u001b[1;32mreturn\u001b[0m \u001b[0mself\u001b[0m\u001b[1;33m.\u001b[0m\u001b[0mfind_elements\u001b[0m\u001b[1;33m(\u001b[0m\u001b[0mby\u001b[0m\u001b[1;33m=\u001b[0m\u001b[0mBy\u001b[0m\u001b[1;33m.\u001b[0m\u001b[0mXPATH\u001b[0m\u001b[1;33m,\u001b[0m \u001b[0mvalue\u001b[0m\u001b[1;33m=\u001b[0m\u001b[0mxpath\u001b[0m\u001b[1;33m)\u001b[0m\u001b[1;33m\u001b[0m\u001b[0m\n\u001b[0m\u001b[1;32m    411\u001b[0m \u001b[1;33m\u001b[0m\u001b[0m\n\u001b[1;32m    412\u001b[0m     \u001b[1;32mdef\u001b[0m \u001b[0mfind_element_by_link_text\u001b[0m\u001b[1;33m(\u001b[0m\u001b[0mself\u001b[0m\u001b[1;33m,\u001b[0m \u001b[0mlink_text\u001b[0m\u001b[1;33m)\u001b[0m\u001b[1;33m:\u001b[0m\u001b[1;33m\u001b[0m\u001b[0m\n",
      "\u001b[0;32mC:\\Users\\Yuwei\\AppData\\Roaming\\Python\\Python27\\site-packages\\selenium\\webdriver\\remote\\webdriver.pyc\u001b[0m in \u001b[0;36mfind_elements\u001b[0;34m(self, by, value)\u001b[0m\n\u001b[1;32m   1005\u001b[0m         return self.execute(Command.FIND_ELEMENTS, {\n\u001b[1;32m   1006\u001b[0m             \u001b[1;34m'using'\u001b[0m\u001b[1;33m:\u001b[0m \u001b[0mby\u001b[0m\u001b[1;33m,\u001b[0m\u001b[1;33m\u001b[0m\u001b[0m\n\u001b[0;32m-> 1007\u001b[0;31m             'value': value})['value'] or []\n\u001b[0m\u001b[1;32m   1008\u001b[0m \u001b[1;33m\u001b[0m\u001b[0m\n\u001b[1;32m   1009\u001b[0m     \u001b[1;33m@\u001b[0m\u001b[0mproperty\u001b[0m\u001b[1;33m\u001b[0m\u001b[0m\n",
      "\u001b[0;32mC:\\Users\\Yuwei\\AppData\\Roaming\\Python\\Python27\\site-packages\\selenium\\webdriver\\remote\\webdriver.pyc\u001b[0m in \u001b[0;36mexecute\u001b[0;34m(self, driver_command, params)\u001b[0m\n\u001b[1;32m    319\u001b[0m         \u001b[0mresponse\u001b[0m \u001b[1;33m=\u001b[0m \u001b[0mself\u001b[0m\u001b[1;33m.\u001b[0m\u001b[0mcommand_executor\u001b[0m\u001b[1;33m.\u001b[0m\u001b[0mexecute\u001b[0m\u001b[1;33m(\u001b[0m\u001b[0mdriver_command\u001b[0m\u001b[1;33m,\u001b[0m \u001b[0mparams\u001b[0m\u001b[1;33m)\u001b[0m\u001b[1;33m\u001b[0m\u001b[0m\n\u001b[1;32m    320\u001b[0m         \u001b[1;32mif\u001b[0m \u001b[0mresponse\u001b[0m\u001b[1;33m:\u001b[0m\u001b[1;33m\u001b[0m\u001b[0m\n\u001b[0;32m--> 321\u001b[0;31m             \u001b[0mself\u001b[0m\u001b[1;33m.\u001b[0m\u001b[0merror_handler\u001b[0m\u001b[1;33m.\u001b[0m\u001b[0mcheck_response\u001b[0m\u001b[1;33m(\u001b[0m\u001b[0mresponse\u001b[0m\u001b[1;33m)\u001b[0m\u001b[1;33m\u001b[0m\u001b[0m\n\u001b[0m\u001b[1;32m    322\u001b[0m             response['value'] = self._unwrap_value(\n\u001b[1;32m    323\u001b[0m                 response.get('value', None))\n",
      "\u001b[0;32mC:\\Users\\Yuwei\\AppData\\Roaming\\Python\\Python27\\site-packages\\selenium\\webdriver\\remote\\errorhandler.pyc\u001b[0m in \u001b[0;36mcheck_response\u001b[0;34m(self, response)\u001b[0m\n\u001b[1;32m    240\u001b[0m                 \u001b[0malert_text\u001b[0m \u001b[1;33m=\u001b[0m \u001b[0mvalue\u001b[0m\u001b[1;33m[\u001b[0m\u001b[1;34m'alert'\u001b[0m\u001b[1;33m]\u001b[0m\u001b[1;33m.\u001b[0m\u001b[0mget\u001b[0m\u001b[1;33m(\u001b[0m\u001b[1;34m'text'\u001b[0m\u001b[1;33m)\u001b[0m\u001b[1;33m\u001b[0m\u001b[0m\n\u001b[1;32m    241\u001b[0m             \u001b[1;32mraise\u001b[0m \u001b[0mexception_class\u001b[0m\u001b[1;33m(\u001b[0m\u001b[0mmessage\u001b[0m\u001b[1;33m,\u001b[0m \u001b[0mscreen\u001b[0m\u001b[1;33m,\u001b[0m \u001b[0mstacktrace\u001b[0m\u001b[1;33m,\u001b[0m \u001b[0malert_text\u001b[0m\u001b[1;33m)\u001b[0m\u001b[1;33m\u001b[0m\u001b[0m\n\u001b[0;32m--> 242\u001b[0;31m         \u001b[1;32mraise\u001b[0m \u001b[0mexception_class\u001b[0m\u001b[1;33m(\u001b[0m\u001b[0mmessage\u001b[0m\u001b[1;33m,\u001b[0m \u001b[0mscreen\u001b[0m\u001b[1;33m,\u001b[0m \u001b[0mstacktrace\u001b[0m\u001b[1;33m)\u001b[0m\u001b[1;33m\u001b[0m\u001b[0m\n\u001b[0m\u001b[1;32m    243\u001b[0m \u001b[1;33m\u001b[0m\u001b[0m\n\u001b[1;32m    244\u001b[0m     \u001b[1;32mdef\u001b[0m \u001b[0m_value_or_default\u001b[0m\u001b[1;33m(\u001b[0m\u001b[0mself\u001b[0m\u001b[1;33m,\u001b[0m \u001b[0mobj\u001b[0m\u001b[1;33m,\u001b[0m \u001b[0mkey\u001b[0m\u001b[1;33m,\u001b[0m \u001b[0mdefault\u001b[0m\u001b[1;33m)\u001b[0m\u001b[1;33m:\u001b[0m\u001b[1;33m\u001b[0m\u001b[0m\n",
      "\u001b[0;31mNoSuchWindowException\u001b[0m: Message: Browsing context has been discarded\n"
     ]
    }
   ],
   "source": [
    "wait_for_mp3_conversion = 10\n",
    "wait_for_mp3_conversion_retry = 4\n",
    "wait_for_download_link = 10\n",
    "wait_for_download_link_retry = 2\n",
    "wait_for_next_video = 20\n",
    "\n",
    "start = 17\n",
    "\n",
    "ind = start\n",
    "while ind < len(video_url_list):\n",
    "    video_url = video_url_list[ind]\n",
    "    \n",
    "    # go to the home page, locate the element for filling up the vidio link\n",
    "    driver.get(web_url) \n",
    "        \n",
    "    inputElement = driver.find_element_by_name(\"url\")\n",
    "\n",
    "    # clear default text if necessary\n",
    "    #inputElement.clear();\n",
    "\n",
    "    # type in the search\n",
    "    if len(video_url) == 2:\n",
    "        the_video = video_url[1]\n",
    "        the_title = video_url[0]\n",
    "        print the_title\n",
    "    else:  \n",
    "        the_video = video_url\n",
    "    \n",
    "    print ind, the_video\n",
    "    inputElement.send_keys(the_video)\n",
    "    \n",
    "    # Click agreement\n",
    "    driver.find_element_by_name(\"accept\").click()\n",
    "    \n",
    "    # submit the form\n",
    "    inputElement.send_keys(Keys.ENTER)\n",
    "#     inputElement.submit()\n",
    "    \n",
    "    counter = 0\n",
    "    clicked = False\n",
    "    while not clicked and counter <= wait_for_mp3_conversion_retry:\n",
    "        counter += 1\n",
    "        \n",
    "        # get all links on the website, findout the one with \"Download\" in text, and click it\n",
    "        ListlinkerHref = driver.find_elements_by_xpath(\"//*[@href]\")\n",
    "        for ii in ListlinkerHref:\n",
    "            if \"Download Link\" in ii.text:\n",
    "                ii.click()\n",
    "                clicked = True\n",
    "                break\n",
    "        else:\n",
    "            # wait for the website to convert the video\n",
    "            print \"\\nwaiting for generating mp3\"\n",
    "            time.sleep(wait_for_mp3_conversion)\n",
    "    counter = 0    \n",
    "    downloaded = False\n",
    "    print \"Try downloading now...\"\n",
    "    while clicked and counter <= wait_for_download_link_retry:\n",
    "        try:\n",
    "            # in the new page, find the link to the mp3 and click\n",
    "            aa = driver.find_elements_by_id('downloadmp3')\n",
    "            if len(aa) > 0:\n",
    "                aa[0].click()\n",
    "                downloaded = True\n",
    "                print \"Downloading...\"\n",
    "                break\n",
    "        except Exception as e:\n",
    "            print e\n",
    "            pass\n",
    "        print \"waiting for loading download link\"\n",
    "        time.sleep(wait_for_download_link)        \n",
    "    if downloaded: \n",
    "        ind += 1\n",
    "        time.sleep(wait_for_next_video)"
   ]
  },
  {
   "cell_type": "markdown",
   "metadata": {},
   "source": [
    "# download khan "
   ]
  },
  {
   "cell_type": "code",
   "execution_count": 1,
   "metadata": {},
   "outputs": [],
   "source": [
    "import urllib\n",
    "import re\n",
    "import time\n",
    "from bs4 import *\n",
    "user_agent = 'Mozilla/5.0 (Windows; U; Windows NT 5.1; en-US; rv:1.9.0.7) Gecko/2009021910 Firefox/3.0.7'\n",
    "headers={'User-Agent':user_agent,} \n",
    "speakers = ['mufti-menk', 'nouman-ali-khan']"
   ]
  },
  {
   "cell_type": "code",
   "execution_count": 2,
   "metadata": {},
   "outputs": [],
   "source": [
    "speaker = speakers[1]\n",
    "speaker_last = speaker.split('-')[-1]\n",
    "n_page = 6\n",
    "baseURL = \"https://muslimcentral.com/audio/{}/page/{}\".format(speaker, n_page)\n",
    "\n",
    "request=urllib.request.Request(baseURL, None, headers) #The assembled request\n",
    "response = urllib.request.urlopen(request)\n",
    "data = response.read() \n",
    "soup = BeautifulSoup(data, \"html.parser\")\n",
    "body = soup.findAll('a', {'class': 'ep__dl button unstyle'})\n"
   ]
  },
  {
   "cell_type": "code",
   "execution_count": 3,
   "metadata": {},
   "outputs": [
    {
     "data": {
      "text/plain": [
       "'https://muslimcentral.com/audio/nouman-ali-khan/page/6'"
      ]
     },
     "execution_count": 3,
     "metadata": {},
     "output_type": "execute_result"
    }
   ],
   "source": [
    "baseURL"
   ]
  },
  {
   "cell_type": "code",
   "execution_count": 6,
   "metadata": {},
   "outputs": [
    {
     "name": "stdout",
     "output_type": "stream",
     "text": [
      "Downloading Contentment from Revelation Series 2019  EP09  Save Lives .mp3\n",
      "Downloading Contentment from Revelation Series 2019  EP08  Divorce .mp3\n",
      "Downloading Contentment from Revelation Series 2019  EP07  Importance of Sunnah .mp3\n",
      "Downloading Contentment from Revelation Series 2019  EP06  Making Comparisons .mp3\n",
      "Downloading Ramadan 2019 Boost  5 .mp3\n",
      "Downloading More than one .mp3\n",
      "Downloading Contentment from Revelation Series 2019  EP05  The Need for Leniency .mp3\n",
      "Downloading Ramadan 2019 Boost  4 .mp3\n",
      "Downloading Contentment from Revelation Series 2019  EP04  Its the Ownership of Allah .mp3\n",
      "Downloading Ramadan 2019 Boost  3  Hope .mp3\n"
     ]
    }
   ],
   "source": [
    "loc = 'C:\\\\Users\\\\yuwei\\\\Desktop\\\\{}\\\\{}_'.format(speaker_last, speaker_last)\n",
    "log_file = loc + 'downloaded.txt'\n",
    "failed_list = []\n",
    "\n",
    "try: \n",
    "    with open(log_file, 'r') as hf:\n",
    "        downloaded = hf.read().splitlines()\n",
    "except FileNotFoundError:\n",
    "    open(log_file, 'a').close()\n",
    "    downloaded = []\n",
    "\n",
    "for i in body: #failed_list: #\n",
    "    template_url = i['href']\n",
    "    # Add a page number so it's easier to order in player\n",
    "    name = re.sub(r'[^\\w\\s]', '', i['title'].split('Download ')[1].split('(')[0]) + '.mp3'\n",
    "    if name in downloaded:\n",
    "        print('Pass {}'.format(name))\n",
    "        continue\n",
    "        \n",
    "    abs_path = loc + str(n_page) + '_' + name\n",
    "    try:\n",
    "        print('Downloading {}'.format(name))\n",
    "        urllib.request.urlretrieve(template_url, abs_path)\n",
    "        downloaded.append(name)\n",
    "    except:\n",
    "        failed_list.append(i)\n",
    "        print('Failed for ', name, abs_path)\n",
    "    \n",
    "with open(log_file, 'w') as hf:\n",
    "    for item in downloaded:\n",
    "        hf.write(\"%s\\n\" % item)"
   ]
  },
  {
   "cell_type": "markdown",
   "metadata": {},
   "source": [
    "# Download Khan new edition"
   ]
  },
  {
   "cell_type": "code",
   "execution_count": 55,
   "metadata": {},
   "outputs": [],
   "source": [
    "from selenium import webdriver\n",
    "from selenium.common.exceptions import TimeoutException\n",
    "from selenium.webdriver.support.ui import WebDriverWait\n",
    "from selenium.webdriver.support import expected_conditions as EC\n",
    "import time\n",
    "import urllib\n",
    "#import winsound\n",
    "\n",
    "driver = webdriver.Chrome()\n",
    "\n",
    "web_url = 'https://muslimcentral.com/audio/nouman-ali-khan/'\n",
    "driver.get(web_url) \n",
    "\n",
    "inputElement = driver.find_elements_by_id('btnNext')\n"
   ]
  },
  {
   "cell_type": "code",
   "execution_count": 56,
   "metadata": {},
   "outputs": [],
   "source": [
    "hrefs = {}\n",
    "for i in range(100):\n",
    "    download = driver.find_elements_by_class_name('plyr__controls__item')\n",
    "    title = re.sub(r'[^\\w\\s]', '', driver.find_element_by_id('playingNowDisplay').text)\n",
    "    for i in download:\n",
    "        href = i.get_attribute(\"href\")\n",
    "        if href:\n",
    "            hrefs[title] = href\n",
    "            break\n",
    "    inputElement[0].click()\n",
    "    if title == 'Forgotten Manners':\n",
    "        break"
   ]
  },
  {
   "cell_type": "code",
   "execution_count": 68,
   "metadata": {
    "collapsed": true
   },
   "outputs": [
    {
     "name": "stdout",
     "output_type": "stream",
     "text": [
      "Pass Surah Yusuf 57  V90  I AM YUSUF.mp3\n",
      "Pass Surah Yusuf 56  V8889  Oppressors Humbled.mp3\n",
      "Pass New Surroundings.mp3\n",
      "Pass Surah Yusuf 55  V87  What Needed To Be Said.mp3\n",
      "Pass Surah Yusuf 54  V86  Complaining to Allah.mp3\n",
      "Pass Surah Yusuf 53  V85  Get Over It Already.mp3\n",
      "Pass A Really Hard Test.mp3\n",
      "Pass Surah Yusuf 52  V84  Is His Heart Hopeful or Devastated.mp3\n",
      "Downloading Surah Yusuf 51  V83  Beautiful Patience Again.mp3\n",
      "Pass Allah Knows Better.mp3\n",
      "Downloading Eid Mubarak.mp3\n",
      "Pass For Those Who Would Like To Study Arabic With Me.mp3\n",
      "Downloading Surah Yusuf 50  V8082  A Flicker of Light.mp3\n",
      "Pass Surah Yusuf 49  V7879.mp3\n",
      "Pass Surah Yusuf 48  V77.mp3\n",
      "Pass Surah Yusuf 47  V77.mp3\n",
      "Pass The Better Response To Argument.mp3\n",
      "Pass Surah Yusuf 46  V76.mp3\n",
      "Pass Surah Yusuf 45  V7076.mp3\n",
      "Pass Surah Yusuf 44  V69.mp3\n",
      "Pass Surah Yusuf 43  V6768.mp3\n",
      "Pass Surah Yusuf 42  V6668.mp3\n",
      "Pass Surah Yusuf 41  V6265.mp3\n",
      "Pass Beautiful Counsel.mp3\n",
      "Pass Interpreting the Quran.mp3\n",
      "Pass Surah Yusuf 40  Part 5861.mp3\n",
      "Pass Surah Yusuf 39  5657.mp3\n",
      "Pass Surah Yusuf 38  Part 5455.mp3\n",
      "Pass Surah Yusuf 37  Part 5253.mp3\n",
      "Pass Surah Yusuf 36  Part 5053.mp3\n",
      "Pass Surah Yusuf 35.mp3\n",
      "Pass Surah Yusuf 34  Part 4549.mp3\n",
      "Pass Surah Yusuf 33  Part 4344.mp3\n",
      "Pass Surah Yusuf 32  Part 43.mp3\n",
      "Pass Test with Coach.mp3\n",
      "Pass Surah Yusuf 31  Part 4142.mp3\n",
      "Pass Surah Yusuf 30.mp3\n",
      "Pass What Does Calling To Allahs Way Mean 2.mp3\n",
      "Pass Commanding Good  Forbidding Evil 3.mp3\n",
      "Pass What Does Inviting to Allahs Path Mean.mp3\n",
      "Pass Eid Khubtah.mp3\n",
      "Pass Bayyinah Kids Ask About Surat Al Asr.mp3\n",
      "Pass Commanding Good  Forbidding Evil 2.mp3\n",
      "Pass Color of Skin.mp3\n",
      "Pass Surah Yusuf 29.mp3\n",
      "Pass Surah Yusuf 28.mp3\n",
      "Pass Commanding Good Forbidding Evil 1.mp3\n",
      "Pass Surah Yusuf 27.mp3\n",
      "Pass Surah Yusuf 26.mp3\n",
      "Pass End of Ramadan.mp3\n",
      "Pass Surah Yusuf 25.mp3\n",
      "Pass Surah Yusuf 24.mp3\n",
      "Pass Surah Yusuf 23.mp3\n",
      "Pass Surah Yusuf 22.mp3\n",
      "Pass Fairness.mp3\n",
      "Pass Surah Yusuf 21.mp3\n",
      "Pass Surah Yusuf 20.mp3\n",
      "Pass Surah Yusuf 19.mp3\n",
      "Pass Surah Yusuf 18.mp3\n",
      "Pass Surah Yusuf 17.mp3\n",
      "Pass Surah Yusuf 16.mp3\n",
      "Pass The Commandments.mp3\n",
      "Pass Surah Yusuf 15.mp3\n",
      "Pass Joseph in the Quran and the Bible 2.mp3\n",
      "Pass Joseph in the Quran and the Bible.mp3\n",
      "Pass Surah Yusuf 14.mp3\n",
      "Pass Surah Yusuf 13.mp3\n",
      "Pass Surah Yusuf 12.mp3\n",
      "Pass Surah Yusuf 11.mp3\n",
      "Pass Financial Rights of Those That Are Close.mp3\n",
      "Pass Surah Yusuf 10.mp3\n",
      "Pass A Concise Commentary.mp3\n",
      "Pass Surah Yusuf 9.mp3\n",
      "Pass Surah Yusuf 8.mp3\n",
      "Pass Surah Yusuf 7.mp3\n",
      "Pass Surah Yusuf 6.mp3\n",
      "Pass Surah Yusuf 5.mp3\n",
      "Pass Surah Yusuf 4.mp3\n",
      "Pass Surah Yusuf 3.mp3\n",
      "Pass Surah Yusuf 2.mp3\n",
      "Pass Surah Yusuf 1.mp3\n",
      "Pass Parents.mp3\n",
      "Pass A Burden or Relief.mp3\n",
      "Pass Toxic Love.mp3\n",
      "Pass Who Dares.mp3\n",
      "Pass Crisis Response.mp3\n",
      "Pass Lets Pray For The Oppressed.mp3\n",
      "Pass Let Them Get Married  P2.mp3\n",
      "Pass Let Them Get Married  P1.mp3\n",
      "Pass Let them get Married.mp3\n",
      "Pass When You Make Judgments Between People.mp3\n",
      "Pass Jesus in the Quran  Episode 16.mp3\n",
      "Pass Jesus in the Quran  Episode 15.mp3\n",
      "Pass Jesus in the Quran  Episode 14.mp3\n",
      "Pass Jesus in the Quran  Episode 13.mp3\n",
      "Pass Jesus in the Quran  Episode 12.mp3\n",
      "Pass Jesus in the Quran  Episode 11.mp3\n",
      "Pass Jesus in the Quran  Episode 10.mp3\n",
      "Pass Jesus in the Quran  Episode 09.mp3\n",
      "Pass Internal Struggle.mp3\n"
     ]
    }
   ],
   "source": [
    "loc = 'C:\\\\Users\\\\yuwei\\\\Music\\\\khan\\\\khan_'\n",
    "log_file = loc + 'downloaded.txt'\n",
    "failed_list = []\n",
    "\n",
    "try: \n",
    "    with open(log_file, 'r') as hf:\n",
    "        downloaded = hf.read().splitlines()\n",
    "except FileNotFoundError:\n",
    "    open(log_file, 'a').close()\n",
    "    downloaded = []\n",
    "\n",
    "for title, href in hrefs.items():\n",
    "    # Add a page number so it's easier to order in player\n",
    "    name = title + '.mp3'\n",
    "    if name in downloaded:\n",
    "        print('Pass {}'.format(name))\n",
    "        continue\n",
    "        \n",
    "    abs_path = loc + str(4) + '_' + name\n",
    "    try:\n",
    "        print('Downloading {}'.format(name))\n",
    "        urllib.request.urlretrieve(href, abs_path)\n",
    "        downloaded.append(name)\n",
    "    except:\n",
    "        failed_list.append(title)\n",
    "        print('Failed for ', name, abs_path)\n",
    "with open(log_file, 'w') as hf:\n",
    "    for item in downloaded:\n",
    "        hf.write(\"%s\\n\" % item)"
   ]
  },
  {
   "cell_type": "markdown",
   "metadata": {},
   "source": [
    "# buy from walmart "
   ]
  },
  {
   "cell_type": "code",
   "execution_count": 1,
   "metadata": {},
   "outputs": [],
   "source": [
    "from selenium import webdriver\n",
    "from selenium.common.exceptions import TimeoutException\n",
    "from selenium.webdriver.support.ui import WebDriverWait\n",
    "from selenium.webdriver.support import expected_conditions as EC\n",
    "import time\n",
    "import urllib\n",
    "\n",
    "\n",
    "import winsound\n",
    "# frequency is set to 500Hz \n",
    "freq = 400 \n",
    "  \n",
    "# duration is set to 100 milliseconds              \n",
    "dur = 1000\n",
    "\n",
    "\n",
    "\n"
   ]
  },
  {
   "cell_type": "code",
   "execution_count": null,
   "metadata": {},
   "outputs": [
    {
     "name": "stdout",
     "output_type": "stream",
     "text": [
      "list index out of range\n",
      "continue\n",
      "list index out of range\n",
      "continue\n",
      "list index out of range\n",
      "continue\n"
     ]
    }
   ],
   "source": [
    "driver = webdriver.Chrome()\n",
    "\n",
    "while True:\n",
    "    try:\n",
    "        # digital\n",
    "        web_url = 'https://www.walmart.com/product/493824815'\n",
    "        # full\n",
    "#         web_url = 'https://www.walmart.com/product/363472942'\n",
    "        \n",
    "        # test \n",
    "#         web_url = 'https://www.walmart.com/product/741505081'\n",
    "        driver.get(web_url) \n",
    "        i = driver.find_elements_by_class_name('prod-product-cta-add-to-cart')[0]\n",
    "        i.click()\n",
    "        time.sleep(5)\n",
    "        j = driver.find_elements_by_class_name('new-ny-styling')[0]\n",
    "        j.click()\n",
    "        break\n",
    "    except Exception as e:\n",
    "        print(e)\n",
    "        print('continue')\n",
    "        time.sleep(10)\n",
    "        continue\n",
    "print('done')\n",
    "winsound.Beep(freq, dur) "
   ]
  }
 ],
 "metadata": {
  "kernelspec": {
   "display_name": "Python 3",
   "language": "python",
   "name": "python3"
  },
  "language_info": {
   "codemirror_mode": {
    "name": "ipython",
    "version": 3
   },
   "file_extension": ".py",
   "mimetype": "text/x-python",
   "name": "python",
   "nbconvert_exporter": "python",
   "pygments_lexer": "ipython3",
   "version": "3.7.2"
  },
  "toc": {
   "base_numbering": 1,
   "nav_menu": {},
   "number_sections": true,
   "sideBar": true,
   "skip_h1_title": false,
   "title_cell": "Table of Contents",
   "title_sidebar": "Contents",
   "toc_cell": false,
   "toc_position": {
    "height": "calc(100% - 180px)",
    "left": "10px",
    "top": "150px",
    "width": "165px"
   },
   "toc_section_display": true,
   "toc_window_display": true
  }
 },
 "nbformat": 4,
 "nbformat_minor": 1
}
