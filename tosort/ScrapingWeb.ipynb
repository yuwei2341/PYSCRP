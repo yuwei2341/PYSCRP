{
 "cells": [
  {
   "cell_type": "markdown",
   "metadata": {},
   "source": [
    "# Template for scraping"
   ]
  },
  {
   "cell_type": "markdown",
   "metadata": {},
   "source": [
    "First inspect elements on the website to figure out the div and class of the target, and foudn that it's under table"
   ]
  },
  {
   "cell_type": "code",
   "execution_count": 2,
   "metadata": {
    "collapsed": false
   },
   "outputs": [],
   "source": [
    "baseURL = \"http://www.learncpp.com\"\n",
    "r = urllib.urlopen(baseURL).read()\n",
    "# or opinionPage = requests.get(matchURL, headers = hdr).text\n",
    "soup = BeautifulSoup(r)\n",
    "soup.prettify\n",
    "body = soup.findAll(\"table\")\n",
    "# ind: 3-6 contains what I what\n",
    "art_links = [baseURL + dd.a[\"href\"] for dd in body[3].findAll(\"td\") if dd.a and dd.a.has_attr(\"href\") and len(dd.a[\"href\"]) > 1]"
   ]
  },
  {
   "cell_type": "code",
   "execution_count": null,
   "metadata": {
    "collapsed": true
   },
   "outputs": [],
   "source": [
    "# find by attribute\n",
    "listItem = soup.findAll(attrs={'class':'side-box'})\n",
    "\n",
    "# Get title and link of each article\n",
    "goalURLs = ''\n",
    "for li in listItem:\n",
    "    link = li.find('a')\n",
    "    if link.attrs['title'] == 'See all player statistics':\n",
    "        goalURLs = link.attrs['href']\n",
    "        break"
   ]
  },
  {
   "cell_type": "code",
   "execution_count": 8,
   "metadata": {
    "collapsed": false
   },
   "outputs": [],
   "source": [
    "all_text = []\n",
    "for link in art_links[8:17]:\n",
    "    r = urllib.urlopen(link).read()\n",
    "    soup = BeautifulSoup(r)\n",
    "    head = soup.find(\"div\", \"post-headline\")\n",
    "    body = soup.find(\"div\", \"post-bodycopy\")\n",
    "    all_text = (all_text + \n",
    "                [head.find(\"h1\").string.replace(u\"\\u2014\", \"--\")] + \n",
    "                [' '.join(ii.strings).replace(u\"\\u2019\", \"'\") for ii in body.findAll([\"p\", \"li\"]) if ii.strings][:-6] + \n",
    "                ['\\n\\n'])"
   ]
  },
  {
   "cell_type": "code",
   "execution_count": 9,
   "metadata": {
    "collapsed": false
   },
   "outputs": [],
   "source": [
    "with open(\"Output1.txt\", \"w\") as text_file:\n",
    "    for item in all_text:\n",
    "        text_file.write(\"%s\\n\\n\" % item.encode('utf8'))\n"
   ]
  },
  {
   "cell_type": "markdown",
   "metadata": {},
   "source": [
    "## Or"
   ]
  },
  {
   "cell_type": "code",
   "execution_count": 6,
   "metadata": {
    "collapsed": false,
    "scrolled": false
   },
   "outputs": [],
   "source": [
    "baseURL = \"http://www.learncpp.com\"\n",
    "r = urllib.urlopen(baseURL).read()\n",
    "soup = BeautifulSoup(r)\n",
    "soup.prettify\n",
    "body = soup.findAll(\"div\", \"blueBubble\")"
   ]
  },
  {
   "cell_type": "code",
   "execution_count": 56,
   "metadata": {
    "collapsed": false
   },
   "outputs": [
    {
     "ename": "IndexError",
     "evalue": "list index out of range",
     "output_type": "error",
     "traceback": [
      "\u001b[0;31m---------------------------------------------------------------------------\u001b[0m",
      "\u001b[0;31mIndexError\u001b[0m                                Traceback (most recent call last)",
      "\u001b[0;32m<ipython-input-56-577f278cfbf8>\u001b[0m in \u001b[0;36m<module>\u001b[0;34m()\u001b[0m\n\u001b[1;32m      1\u001b[0m \u001b[0;32mfor\u001b[0m \u001b[0mii\u001b[0m \u001b[0;32min\u001b[0m \u001b[0mbody\u001b[0m\u001b[0;34m:\u001b[0m\u001b[0;34m\u001b[0m\u001b[0m\n\u001b[0;32m----> 2\u001b[0;31m     \u001b[0maa\u001b[0m \u001b[0;34m=\u001b[0m \u001b[0mii\u001b[0m\u001b[0;34m.\u001b[0m\u001b[0mparent\u001b[0m\u001b[0;34m.\u001b[0m\u001b[0mparent\u001b[0m\u001b[0;34m(\u001b[0m\u001b[0;34m'td'\u001b[0m\u001b[0;34m)\u001b[0m\u001b[0;34m[\u001b[0m\u001b[0;36m2\u001b[0m\u001b[0;34m]\u001b[0m\u001b[0;34m\u001b[0m\u001b[0m\n\u001b[0m\u001b[1;32m      3\u001b[0m     \u001b[0mb\u001b[0m \u001b[0;34m=\u001b[0m \u001b[0maa\u001b[0m\u001b[0;34m.\u001b[0m\u001b[0mfindAll\u001b[0m\u001b[0;34m(\u001b[0m\u001b[0;34m'a'\u001b[0m\u001b[0;34m)\u001b[0m\u001b[0;34m[\u001b[0m\u001b[0;36m0\u001b[0m\u001b[0;34m]\u001b[0m\u001b[0;34m\u001b[0m\u001b[0m\n\u001b[1;32m      4\u001b[0m     \u001b[0;31m#print aa\u001b[0m\u001b[0;34m\u001b[0m\u001b[0;34m\u001b[0m\u001b[0m\n\u001b[1;32m      5\u001b[0m     \u001b[0;31m#print b\u001b[0m\u001b[0;34m\u001b[0m\u001b[0;34m\u001b[0m\u001b[0m\n",
      "\u001b[0;31mIndexError\u001b[0m: list index out of range"
     ]
    }
   ],
   "source": [
    "for ii in body:\n",
    "    aa = ii.parent.parent('td')[2]\n",
    "    b = aa.findAll('a')[0]\n",
    "    #print aa\n",
    "    #print b\n",
    "    #print b['href']"
   ]
  },
  {
   "cell_type": "code",
   "execution_count": null,
   "metadata": {
    "collapsed": true
   },
   "outputs": [],
   "source": []
  },
  {
   "cell_type": "markdown",
   "metadata": {},
   "source": [
    "# Example for selenium: Download Youtube videos as mp3"
   ]
  },
  {
   "cell_type": "markdown",
   "metadata": {
    "collapsed": true
   },
   "source": [
    "### Get all links of the playlist of popular videos of Ali"
   ]
  },
  {
   "cell_type": "code",
   "execution_count": 1,
   "metadata": {
    "collapsed": false
   },
   "outputs": [],
   "source": [
    "import urllib\n",
    "from bs4 import *\n",
    "\n",
    "baseURL = \"https://www.youtube.com/watch?v=7SPivf0ZQzg&list=PL9NCK9qO2xk_poYOTaya1si7m0wx9K6-S\"\n",
    "r = urllib.urlopen(baseURL).read()\n",
    "soup = BeautifulSoup(r)\n",
    "body = soup.find('ol', 'playlist-videos-list yt-uix-scroller')\n",
    "\n",
    "video_url_list = [\"https://www.youtube.com\" + link.a['href'] for link in body.findAll('li', 'yt-uix-scroller-scroll-unit')]\n"
   ]
  },
  {
   "cell_type": "markdown",
   "metadata": {},
   "source": [
    "### Use existing website to convert each linked video to mp3 and download"
   ]
  },
  {
   "cell_type": "markdown",
   "metadata": {},
   "source": [
    "Firefox annoyingly open mp3 with iTunes by default and won't save to the disk. A get-around is when the first download is made, select save to disk and do that for all following files. Then just keep looping and all later files will be saved to disk automatically\n",
    "\n",
    "\n",
    "For usage of selenium, refer to:\n",
    "http://irwinkwan.com/2013/04/05/automating-the-web-with-selenium-complete-tasks-automatically-and-write-test-cases/"
   ]
  },
  {
   "cell_type": "code",
   "execution_count": 10,
   "metadata": {
    "collapsed": false,
    "scrolled": false
   },
   "outputs": [],
   "source": [
    "from selenium import webdriver\n",
    "from selenium.common.exceptions import TimeoutException\n",
    "from selenium.webdriver.support.ui import WebDriverWait\n",
    "from selenium.webdriver.support import expected_conditions as EC\n",
    "import time\n",
    "    \n",
    "# Create a new instance of the Firefox driver\n",
    "fp = webdriver.FirefoxProfile()\n",
    "# NEED TO USE THE CORRECT MIME TYPE HERE TO INDICATE FIREFOX SAVE A CERTAIN TYPE OF FILE TO DISK DIRECTLY\n",
    "fp.set_preference(\"browser.helperApps.neverAsk.saveToDisk\", \"audio/mpeg3, audio/x-mpeg-3, video/mpeg, video/x-mpeg\")\n",
    "fp.set_preference(\"browser.download.manager.focusWhenStarting\", False);\n",
    "fp.set_preference(\"browser.download.manager.showWhenStarting\", False);\n",
    "fp.set_preference(\"browser.download.manager.showAlertOnComplete\", False);\n",
    "\n",
    "\"\"\"\n",
    "fp.set_preference(\"plugin.disable_full_page_plugin_for_types\", \"audio/mpeg3\")\n",
    "fp.set_preference(\"browser.helperApps.alwaysAsk.force\", False);\n",
    "fp.set_preference(\"browser.download.manager.alertOnEXEOpen\", False);\n",
    "fp.set_preference(\"browser.download.manager.closeWhenDone\", False);\n",
    "fp.set_preference(\"browser.download.manager.useWindow\", False);\n",
    "fp.set_preference(\"services.sync.prefs.sync.browser.download.manager.showWhenStarting\", False);\n",
    "fp.set_preference(\"pdfjs.disabled\", True);\n",
    "fp.set_preference(\"browser.download.folderList\",2)\n",
    "fp.set_preference(\"browser.download.alertOnEXEOpen\", False);\n",
    "\"\"\"\n",
    "driver = webdriver.Firefox(firefox_profile=fp)\n",
    "\n",
    "# return error if waiting too long\n",
    "driver.set_page_load_timeout(10)\n",
    "\n",
    "web_url = 'http://www.vidtomp3.com/'"
   ]
  },
  {
   "cell_type": "code",
   "execution_count": 11,
   "metadata": {
    "collapsed": false
   },
   "outputs": [],
   "source": [
    "for video_url in video_url_list[0:1]:\n",
    "\n",
    "    # go to the home page, locate the element for filling up the vidio link\n",
    "    driver.get(web_url) \n",
    "    inputElement = driver.find_element_by_name(\"url\")\n",
    "    \n",
    "    # switch window\n",
    "    #driver.switch_to_window(driver.window_handles[1])\n",
    "    \n",
    "    # clear default text if necessary\n",
    "    #inputElement.clear();\n",
    "\n",
    "    # type in the search\n",
    "    inputElement.send_keys(video_url)\n",
    "\n",
    "    # submit the form\n",
    "    inputElement.submit()\n",
    "    \n",
    "    # wait for the website to convert the video\n",
    "    time.sleep(4)\n",
    "    \n",
    "    try:\n",
    "        # get all links on the website, findout the one with \"Download\" in text, and click it\n",
    "        ListlinkerHref = driver.find_elements_by_xpath(\"//*[@href]\")\n",
    "        for ii in ListlinkerHref:\n",
    "            if \"Download\" in ii.text:\n",
    "                break\n",
    "        ii.click()\n",
    "        \n",
    "        # in the new page, find the link to the mp3 and click\n",
    "        aa = driver.find_elements_by_id('downloadmp3')\n",
    "        aa[0].click()\n",
    "    except:\n",
    "        pass"
   ]
  },
  {
   "cell_type": "code",
   "execution_count": null,
   "metadata": {
    "collapsed": true
   },
   "outputs": [],
   "source": [
    "# open new tab\n",
    "body = driver.find_element_by_tag_name(\"body\")\n",
    "body.send_keys(Keys.COMMAND + 't')"
   ]
  }
 ],
 "metadata": {
  "kernelspec": {
   "display_name": "Python 2",
   "language": "python",
   "name": "python2"
  },
  "language_info": {
   "codemirror_mode": {
    "name": "ipython",
    "version": 2
   },
   "file_extension": ".py",
   "mimetype": "text/x-python",
   "name": "python",
   "nbconvert_exporter": "python",
   "pygments_lexer": "ipython2",
   "version": "2.7.9"
  }
 },
 "nbformat": 4,
 "nbformat_minor": 0
}
