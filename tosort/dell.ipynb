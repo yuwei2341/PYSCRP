{
 "cells": [
  {
   "cell_type": "markdown",
   "metadata": {},
   "source": [
    "### Use existing website to convert each linked video to mp3 and download"
   ]
  },
  {
   "cell_type": "markdown",
   "metadata": {},
   "source": [
    "Firefox annoyingly open mp3 with iTunes by default and won't save to the disk. A get-around is when the first download is made, select save to disk and do that for all following files. Then just keep looping and all later files will be saved to disk automatically\n",
    "\n",
    "\n",
    "For usage of selenium, refer to:\n",
    "http://irwinkwan.com/2013/04/05/automating-the-web-with-selenium-complete-tasks-automatically-and-write-test-cases/"
   ]
  },
  {
   "cell_type": "code",
   "execution_count": 1,
   "metadata": {
    "collapsed": false,
    "scrolled": false
   },
   "outputs": [],
   "source": [
    "from selenium import webdriver\n",
    "from selenium.common.exceptions import TimeoutException\n",
    "from selenium.webdriver.support.ui import WebDriverWait\n",
    "from selenium.webdriver.support import expected_conditions as EC\n",
    "import time\n",
    "try:\n",
    "    import winsound\n",
    "except:\n",
    "    pass\n",
    "\n",
    "try:\n",
    "    import os\n",
    "except:\n",
    "    pass\n",
    "\n",
    "\n",
    "# Create a new instance of the Firefox driver\n",
    "fp = webdriver.FirefoxProfile()\n",
    "fp.set_preference(\"browser.download.folderList\",2)\n",
    "fp.set_preference(\"browser.download.manager.showWhenStarting\",False)\n",
    "#fp.set_preference(\"browser.download.dir\", os.getcwd())\n",
    "fp.set_preference(\"browser.helperApps.neverAsk.saveToDisk\", \"application/iTunes\")\n",
    "fp.set_preference(\"plugin.disable_full_page_plugin_for_types\", \"audio/mp3\")\n",
    "driver = webdriver.Firefox(firefox_profile=fp)\n",
    "\n",
    "web_url = 'http://outlet.us.dell.com/ARBOnlineSales/Online/InventorySearch.aspx?c=us&cs=22&l=en&s=dfh&brandid=2202&fid=5991&AspxAutoDetectCookieSupport=1'\n"
   ]
  },
  {
   "cell_type": "code",
   "execution_count": null,
   "metadata": {
    "collapsed": false
   },
   "outputs": [],
   "source": [
    "while True:\n",
    "    # go to the home page, locate the element for filling up the vidio link\n",
    "    driver.get(web_url) \n",
    "    try:\n",
    "        inputElement = driver.find_element_by_id(\"LikeConfigGridUC_LikeConfigDetailsRepeater_PriceLabel_0\")\n",
    "        price = float(inputElement.text.split()[1][1:])\n",
    "        print price\n",
    "        if price < 670.0:\n",
    "            try:\n",
    "                winsound.Beep(500,10000)\n",
    "            except:\n",
    "                pass\n",
    "\n",
    "            try:\n",
    "                os.system('say \"your program has finished\"')\n",
    "            except:\n",
    "                pass\n",
    "            print 'Look at me!!!'\n",
    "            time.sleep(40)\n",
    "    except:\n",
    "        pass\n",
    "    time.sleep(40)"
   ]
  },
  {
   "cell_type": "code",
   "execution_count": null,
   "metadata": {
    "collapsed": true
   },
   "outputs": [],
   "source": []
  },
  {
   "cell_type": "code",
   "execution_count": null,
   "metadata": {
    "collapsed": true
   },
   "outputs": [],
   "source": [
    "        inputElement = driver.find_elements_by_class_name('para_small')\n",
    "        for i in inputElement:\n",
    "            if 'Certified Refurbished' in i.text:\n",
    "                i.find_element_by_class_name('anavtest').click()\n",
    "                time.sleep(4)\n",
    "                break"
   ]
  },
  {
   "cell_type": "markdown",
   "metadata": {
    "collapsed": true
   },
   "source": [
    "## download subtitles of the practice"
   ]
  },
  {
   "cell_type": "code",
   "execution_count": 34,
   "metadata": {
    "collapsed": true
   },
   "outputs": [],
   "source": [
    "from selenium import webdriver\n",
    "from selenium.common.exceptions import TimeoutException\n",
    "from selenium.webdriver.support.ui import WebDriverWait\n",
    "from selenium.webdriver.support import expected_conditions as EC\n",
    "import time\n",
    "import winsound\n",
    "\n",
    "driver = webdriver.Firefox()\n",
    "\n",
    "web_url = 'http://subhd.com/search/%E5%BE%8B%E5%B8%88%E6%9C%AC%E8%89%B2/all/page/4'\n",
    "driver.get(web_url) \n",
    "inputElement = driver.find_elements_by_class_name('d_title')"
   ]
  },
  {
   "cell_type": "code",
   "execution_count": 35,
   "metadata": {
    "collapsed": false,
    "scrolled": false
   },
   "outputs": [
    {
     "ename": "KeyboardInterrupt",
     "evalue": "",
     "output_type": "error",
     "traceback": [
      "\u001b[1;31m---------------------------------------------------------------------------\u001b[0m",
      "\u001b[1;31mKeyboardInterrupt\u001b[0m                         Traceback (most recent call last)",
      "\u001b[1;32m<ipython-input-35-ab12f110f1fe>\u001b[0m in \u001b[0;36m<module>\u001b[1;34m()\u001b[0m\n\u001b[0;32m      6\u001b[0m     \u001b[0mdown_link\u001b[0m \u001b[1;33m=\u001b[0m \u001b[0mdriver\u001b[0m\u001b[1;33m.\u001b[0m\u001b[0mfind_element_by_id\u001b[0m\u001b[1;33m(\u001b[0m\u001b[1;34m'down'\u001b[0m\u001b[1;33m)\u001b[0m\u001b[1;33m\u001b[0m\u001b[0m\n\u001b[0;32m      7\u001b[0m     \u001b[0mdown_link\u001b[0m\u001b[1;33m.\u001b[0m\u001b[0mclick\u001b[0m\u001b[1;33m(\u001b[0m\u001b[1;33m)\u001b[0m\u001b[1;33m\u001b[0m\u001b[0m\n\u001b[1;32m----> 8\u001b[1;33m     \u001b[0mtime\u001b[0m\u001b[1;33m.\u001b[0m\u001b[0msleep\u001b[0m\u001b[1;33m(\u001b[0m\u001b[1;36m5\u001b[0m\u001b[1;33m)\u001b[0m\u001b[1;33m\u001b[0m\u001b[0m\n\u001b[0m\u001b[0;32m      9\u001b[0m     \u001b[0mdriver\u001b[0m\u001b[1;33m.\u001b[0m\u001b[0mclose\u001b[0m\u001b[1;33m(\u001b[0m\u001b[1;33m)\u001b[0m\u001b[1;33m\u001b[0m\u001b[0m\n\u001b[0;32m     10\u001b[0m     \u001b[0mdriver\u001b[0m\u001b[1;33m.\u001b[0m\u001b[0mswitch_to_window\u001b[0m\u001b[1;33m(\u001b[0m\u001b[0mdriver\u001b[0m\u001b[1;33m.\u001b[0m\u001b[0mwindow_handles\u001b[0m\u001b[1;33m[\u001b[0m\u001b[1;36m0\u001b[0m\u001b[1;33m]\u001b[0m\u001b[1;33m)\u001b[0m\u001b[1;33m\u001b[0m\u001b[0m\n",
      "\u001b[1;31mKeyboardInterrupt\u001b[0m: "
     ]
    }
   ],
   "source": [
    "\n",
    "for ii in inputElement:\n",
    "    ii.find_elements_by_xpath(\".//*\")[0].click()\n",
    "    time.sleep(5)\n",
    "    driver.switch_to_window(driver.window_handles[1])\n",
    "    down_link = driver.find_element_by_id('down')\n",
    "    down_link.click()\n",
    "    time.sleep(5)\n",
    "    driver.close()\n",
    "    driver.switch_to_window(driver.window_handles[0])"
   ]
  },
  {
   "cell_type": "code",
   "execution_count": null,
   "metadata": {
    "collapsed": true
   },
   "outputs": [],
   "source": []
  },
  {
   "cell_type": "markdown",
   "metadata": {},
   "source": [
    "### Download http://web.stanford.edu/class/cs259d/ class lectures"
   ]
  },
  {
   "cell_type": "code",
   "execution_count": 1,
   "metadata": {
    "collapsed": true
   },
   "outputs": [],
   "source": [
    "import urllib"
   ]
  },
  {
   "cell_type": "code",
   "execution_count": 4,
   "metadata": {
    "collapsed": false
   },
   "outputs": [],
   "source": [
    "texts = \"\"\"\n",
    "Introduction: Overview of information security, current security landscape, the case for security data mining [pdf]\n",
    "Botnets: Botnet topologies, botnet detection using NetFlow analysis [pdf]\n",
    "Botnets Cont'd, Insider Threats: Botnet detection using DNS analysis, introduction to insider threats, masquerader detection strategies [pdf] \n",
    "Readings:\n",
    "A Survey of Insider Attack Detection Research Skim before class and use the references for more information.\n",
    "Insider IT Sabotage across US Critical Infrastructure Appendix B\n",
    "Behavioral Biometrics: Active authentication using behavioral and cognitive biometrics [pdf] \n",
    "Reading: Ch 4 + Ch 6 of \"Behavioral Biometrics, A Remote Access Approach\" by Kenneth Revett (2008).\n",
    "Behavioral Biometrics Cont'd: Mouse dynamics analysis for active authentication [pdf]\n",
    "Security at Wells Fargo: Guest speaker Avi Avivi, VP Enterprise Information Security Architecture at Wells Fargo [pdf]\n",
    "Behavioral Biometrics Cont'd: Mouse dynamics analysis cont'd, touch and swipe pattern analysis for mobile active authentication [pdf]\n",
    "Web Security: Web threat detection via web server log analysis [pdf]\n",
    "Security at Union Bank: Guest speaker Gary Lorenz, Chief Information Security Officer (CISO) and Managing Director at MUFG Union Bank\n",
    "Multi-Classifier Systems, Adversarial Machine-Learning: Overview of multi-classifier systems (MCS), advantages of MCS in security analytics, security of machine learning [pdf]\n",
    "Security Data Mining at Google: Guest speaker Massimiliano Poletto, head of Google Security Monitoring Tools group [pdf]\n",
    "Web Security Cont'd, Deep Packet Inspection: Alert aggregation for web security, packet payload modeling for network intrusion detection [pdf]\n",
    "Machine Learning for Security: Challenges in applying machine learning (ML) to security, guidelines for applying ML to security [pdf]\n",
    "Polymorphism: Polymorphic blending attacks, infeasibility of modeling polymorphic attacks [pdf]\n",
    "Deep Packet Inspection Cont'd: One-class multi-classifier systems, one-class MCS for packet payload modeling and network intrusion detection [pdf] \n",
    "Note to students: Please also refer to class notes for mathemtical derivations of one-class MCS fusion rules\n",
    "Phishing Detection: Phishing email detection, phishing website detection [pdf]\n",
    "Industry Perspectives: Q&A with guest speaker Michael Fey, EVP and CTO of Intel Security Group (aka McAfee)\n",
    "Student Presentations: [pdf]\n",
    "Student Presentations Cont'd: [pdf]\n",
    "Automatic Alert Correlation, Final Thoughts: Building attack scenarios from individual alerts, course review, current and future trends in security [pdf]\n",
    "\n",
    "\"\"\"\n",
    "all_title = [ii.split(':')[0] for ii in texts.strip().split('\\n')]\n",
    "\n",
    "del all_title[-4:-1]\n",
    "del all_title[-3]\n",
    "del all_title[-9]\n",
    "del all_title[3:6]\n",
    "del all_title[4]\n",
    "#del all_title[4]\n",
    "all_title[6] = 'Behavioral Biometrics3'"
   ]
  },
  {
   "cell_type": "code",
   "execution_count": 7,
   "metadata": {
    "collapsed": false
   },
   "outputs": [
    {
     "name": "stdout",
     "output_type": "stream",
     "text": [
      "17\n",
      "18\n",
      "19\n",
      "20\n"
     ]
    }
   ],
   "source": [
    "counter = 0\n",
    "for i in range(1, 21):\n",
    "    try:\n",
    "        urllib.urlretrieve (\"http://web.stanford.edu/class/cs259d/lectures/\" + \"Session\" + str(i) + '.pdf', \n",
    "                            \"c:/Users/Yuwei/Desktop/\" + str(i) + '_' + all_title[counter] + \".pdf\")\n",
    "        counter += 1\n",
    "    except:\n",
    "        print i\n",
    "        pass\n"
   ]
  },
  {
   "cell_type": "markdown",
   "metadata": {},
   "source": [
    "### Download youtube mp3"
   ]
  },
  {
   "cell_type": "code",
   "execution_count": 1,
   "metadata": {
    "collapsed": false
   },
   "outputs": [],
   "source": [
    "# get the links\n",
    "import urllib\n",
    "from bs4 import *\n",
    "\n",
    "#Islam - 16:40\n",
    "#baseURL = \"https://www.youtube.com/playlist?list=PL7JfALlBnZCt1lf6Gzg11Sgc-iiZn0m-b\"\n",
    "# Predictably Irrational\n",
    "#baseURL = \"https://www.youtube.com/playlist?list=PLRk6tqWzeieUqgjeTXTRREyGNG_s9uu3Y\"\n",
    "# Emotion\n",
    "#baseURL = \"https://www.youtube.com/playlist?list=PLh9mgdi4rNewieO9Dsj-OhNBC9bF4FoRp\"\n",
    "# social theory\n",
    "#baseURL = \"https://www.youtube.com/playlist?list=PLDF7B08FF8564D1FE&feature=plcp\"\n",
    "# chinese novels\n",
    "#baseURL = \"https://www.youtube.com/playlist?list=PLpuwNaSkRcPea012OoQmaHX2OiGP4rmsO\"\n",
    "# chinese lectures\n",
    "baseURL = \"https://www.youtube.com/playlist?list=PLWTGuoT3s5eTYZP156rV07ninQXTGnZMQ\"\n",
    "    \n",
    "r = urllib.urlopen(baseURL).read()\n",
    "soup = BeautifulSoup(r, \"html.parser\")\n",
    "\n",
    "body = soup.findAll('a', {'class': 'pl-video-title-link yt-uix-tile-link yt-uix-sessionlink spf-link '})\n",
    "video_url_list = [(ii.string.strip(), 'https://www.youtube.com' + ii['href']) for ii in body]\n",
    "\n",
    "from selenium import webdriver\n",
    "from selenium.common.exceptions import TimeoutException\n",
    "from selenium.webdriver.support.ui import WebDriverWait\n",
    "from selenium.webdriver.support import expected_conditions as EC\n",
    "import time\n",
    "    \n",
    "# Create a new instance of the Firefox driver\n",
    "fp = webdriver.FirefoxProfile()\n",
    "# NEED TO USE THE CORRECT MIME TYPE HERE TO INDICATE FIREFOX SAVE A CERTAIN TYPE OF FILE TO DISK DIRECTLY\n",
    "fp.set_preference(\"browser.helperApps.neverAsk.saveToDisk\", \"audio/mpeg3, audio/x-mpeg-3, video/mpeg, video/x-mpeg\")\n",
    "\n",
    "driver = webdriver.Firefox(firefox_profile=fp)\n",
    "\n",
    "# return error if waiting too long\n",
    "driver.set_page_load_timeout(300)\n",
    "\n",
    "web_url = 'http://www.vidtomp3.com/'\n",
    "\n",
    "video_url_list = sorted(video_url_list, key=lambda x: x[0])"
   ]
  },
  {
   "cell_type": "code",
   "execution_count": 3,
   "metadata": {
    "collapsed": false,
    "scrolled": false
   },
   "outputs": [
    {
     "name": "stdout",
     "output_type": "stream",
     "text": [
      "77 https://www.youtube.com/watch?v=GEBEErZt1f4&list=PLWTGuoT3s5eTYZP156rV07ninQXTGnZMQ&index=28\n",
      "\n",
      "waiting for generating mp3\n",
      "\n",
      "waiting for generating mp3\n",
      "\n",
      "waiting for generating mp3\n",
      "Try downloading now...\n",
      "waiting for loading download link\n",
      "Try downloading now...\n",
      "78 https://www.youtube.com/watch?v=13VZo4oIz2M&list=PLWTGuoT3s5eTYZP156rV07ninQXTGnZMQ&index=56\n",
      "\n",
      "waiting for generating mp3\n",
      "\n",
      "waiting for generating mp3\n",
      "\n",
      "waiting for generating mp3\n",
      "\n",
      "waiting for generating mp3\n",
      "Try downloading now...\n",
      "79 https://www.youtube.com/watch?v=Cq4JhenSsHw&list=PLWTGuoT3s5eTYZP156rV07ninQXTGnZMQ&index=29\n",
      "\n",
      "waiting for generating mp3\n",
      "\n",
      "waiting for generating mp3\n",
      "Try downloading now...\n",
      "80 https://www.youtube.com/watch?v=yl4FLSwSQFo&list=PLWTGuoT3s5eTYZP156rV07ninQXTGnZMQ&index=30\n",
      "\n",
      "waiting for generating mp3\n",
      "\n",
      "waiting for generating mp3\n",
      "\n",
      "waiting for generating mp3\n",
      "Try downloading now...\n",
      "81 https://www.youtube.com/watch?v=d3Q-90z5H24&list=PLWTGuoT3s5eTYZP156rV07ninQXTGnZMQ&index=15\n",
      "\n",
      "waiting for generating mp3\n",
      "\n",
      "waiting for generating mp3\n",
      "\n",
      "waiting for generating mp3\n",
      "Try downloading now...\n",
      "82 https://www.youtube.com/watch?v=E_xdE0lnldY&list=PLWTGuoT3s5eTYZP156rV07ninQXTGnZMQ&index=31\n",
      "\n",
      "waiting for generating mp3\n",
      "\n",
      "waiting for generating mp3\n",
      "\n",
      "waiting for generating mp3\n",
      "Try downloading now...\n",
      "83 https://www.youtube.com/watch?v=XYbC3owAxWw&list=PLWTGuoT3s5eTYZP156rV07ninQXTGnZMQ&index=27\n",
      "\n",
      "waiting for generating mp3\n",
      "\n",
      "waiting for generating mp3\n",
      "\n",
      "waiting for generating mp3\n",
      "Try downloading now...\n"
     ]
    }
   ],
   "source": [
    "start = 77\n",
    "\n",
    "for ind, video_url in enumerate(video_url_list[start:], start):\n",
    "    \n",
    "    # go to the home page, locate the element for filling up the vidio link\n",
    "    driver.get(web_url) \n",
    "        \n",
    "    inputElement = driver.find_element_by_name(\"url\")\n",
    "\n",
    "    # clear default text if necessary\n",
    "    #inputElement.clear();\n",
    "\n",
    "    # type in the search\n",
    "    if len(video_url) == 2:\n",
    "        the_video = video_url[1]\n",
    "    else:  \n",
    "        the_video = video_url\n",
    "    \n",
    "    print ind, the_video\n",
    "    inputElement.send_keys(the_video)\n",
    "\n",
    "    # submit the form\n",
    "    inputElement.submit()\n",
    "    \n",
    "    counter = 0\n",
    "    clicked = False\n",
    "    while not clicked:\n",
    "        counter += 1\n",
    "        if counter > 8:\n",
    "            break\n",
    "        # get all links on the website, findout the one with \"Download\" in text, and click it\n",
    "        ListlinkerHref = driver.find_elements_by_xpath(\"//*[@href]\")\n",
    "        for ii in ListlinkerHref:\n",
    "            if \"Download Link\" in ii.text:\n",
    "                ii.click()\n",
    "                clicked = True\n",
    "                break\n",
    "        else:\n",
    "            # wait for the website to convert the video\n",
    "            print \"\\nwaiting for generating mp3\"\n",
    "            time.sleep(20)\n",
    "    counter = 0              \n",
    "    while True:\n",
    "        print \"Try downloading now...\"\n",
    "        try:\n",
    "            counter += 1\n",
    "            if counter > 5:\n",
    "                break\n",
    "\n",
    "            # in the new page, find the link to the mp3 and click\n",
    "            aa = driver.find_elements_by_id('downloadmp3')\n",
    "            if len(aa) > 0:\n",
    "                aa[0].click()\n",
    "                break\n",
    "                \n",
    "            print \"waiting for loading download link\"\n",
    "            time.sleep(20)\n",
    "        except Exception as e:\n",
    "            print e\n",
    "            pass"
   ]
  }
 ],
 "metadata": {
  "kernelspec": {
   "display_name": "Python 2",
   "language": "python",
   "name": "python2"
  },
  "language_info": {
   "codemirror_mode": {
    "name": "ipython",
    "version": 2
   },
   "file_extension": ".py",
   "mimetype": "text/x-python",
   "name": "python",
   "nbconvert_exporter": "python",
   "pygments_lexer": "ipython2",
   "version": "2.7.9"
  }
 },
 "nbformat": 4,
 "nbformat_minor": 0
}
